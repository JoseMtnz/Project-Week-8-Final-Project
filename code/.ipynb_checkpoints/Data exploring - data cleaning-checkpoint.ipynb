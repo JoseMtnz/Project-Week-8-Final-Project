{
 "cells": [
  {
   "cell_type": "markdown",
   "metadata": {},
   "source": [
    "# Machine Learning for hotel cancellations (Final Project)"
   ]
  },
  {
   "cell_type": "markdown",
   "metadata": {},
   "source": [
    "**Importing libraries**"
   ]
  },
  {
   "cell_type": "code",
   "execution_count": 1,
   "metadata": {},
   "outputs": [],
   "source": [
    "import pandas as pd\n",
    "import numpy as np\n",
    "import re\n",
    "\n",
    "import matplotlib.pyplot as plt\n",
    "%matplotlib inline\n",
    "import seaborn as sns"
   ]
  },
  {
   "cell_type": "markdown",
   "metadata": {},
   "source": [
    "# Exploratory analysis of the **features**"
   ]
  },
  {
   "cell_type": "markdown",
   "metadata": {},
   "source": [
    "**Importing dataset**"
   ]
  },
  {
   "cell_type": "code",
   "execution_count": 2,
   "metadata": {},
   "outputs": [],
   "source": [
    "rvas = pd.read_csv(r'../data/CXL.csv',low_memory=False)"
   ]
  },
  {
   "cell_type": "markdown",
   "metadata": {},
   "source": [
    "First exploration"
   ]
  },
  {
   "cell_type": "code",
   "execution_count": 3,
   "metadata": {},
   "outputs": [
    {
     "data": {
      "text/html": [
       "<div>\n",
       "<style scoped>\n",
       "    .dataframe tbody tr th:only-of-type {\n",
       "        vertical-align: middle;\n",
       "    }\n",
       "\n",
       "    .dataframe tbody tr th {\n",
       "        vertical-align: top;\n",
       "    }\n",
       "\n",
       "    .dataframe thead th {\n",
       "        text-align: right;\n",
       "    }\n",
       "</style>\n",
       "<table border=\"1\" class=\"dataframe\">\n",
       "  <thead>\n",
       "    <tr style=\"text-align: right;\">\n",
       "      <th></th>\n",
       "      <th>Numero Reserva</th>\n",
       "      <th>Cliente Comercial</th>\n",
       "      <th>Fecha llegada</th>\n",
       "      <th>Fecha de salida</th>\n",
       "      <th>Tipo de habitación</th>\n",
       "      <th>Estado</th>\n",
       "      <th>Identificador régimen alimenticio</th>\n",
       "      <th>Tarifa</th>\n",
       "      <th>Fecha de Creación</th>\n",
       "      <th>Nº de pax del tipo 1 alojados</th>\n",
       "      <th>Fecha de cancelación</th>\n",
       "      <th>VIP</th>\n",
       "      <th>Identificador segmento de mercado</th>\n",
       "      <th>Identificador procedencia de negocio</th>\n",
       "      <th>País</th>\n",
       "      <th>Identificador de canal</th>\n",
       "    </tr>\n",
       "  </thead>\n",
       "  <tbody>\n",
       "    <tr>\n",
       "      <th>0</th>\n",
       "      <td>4193691</td>\n",
       "      <td>BOOKING.COM</td>\n",
       "      <td>1/1/2019</td>\n",
       "      <td>7/1/2019</td>\n",
       "      <td>DBLSTD</td>\n",
       "      <td>Cancelada</td>\n",
       "      <td>BB</td>\n",
       "      <td>X_BAR</td>\n",
       "      <td>27/7/2018</td>\n",
       "      <td>1</td>\n",
       "      <td>27/7/2018</td>\n",
       "      <td>NaN</td>\n",
       "      <td>ONL</td>\n",
       "      <td>ONL</td>\n",
       "      <td>NaN</td>\n",
       "      <td>XML</td>\n",
       "    </tr>\n",
       "    <tr>\n",
       "      <th>1</th>\n",
       "      <td>4304804</td>\n",
       "      <td>HRS</td>\n",
       "      <td>1/1/2019</td>\n",
       "      <td>10/1/2019</td>\n",
       "      <td>DBLSTD</td>\n",
       "      <td>No show</td>\n",
       "      <td>RO</td>\n",
       "      <td>X_BAR</td>\n",
       "      <td>30/8/2018</td>\n",
       "      <td>1</td>\n",
       "      <td>NaN</td>\n",
       "      <td>NaN</td>\n",
       "      <td>ONL</td>\n",
       "      <td>ONL</td>\n",
       "      <td>DE</td>\n",
       "      <td>XML</td>\n",
       "    </tr>\n",
       "    <tr>\n",
       "      <th>2</th>\n",
       "      <td>4438480</td>\n",
       "      <td>MIKI TRAVEL LTD.</td>\n",
       "      <td>1/1/2019</td>\n",
       "      <td>3/1/2019</td>\n",
       "      <td>TPLSTD</td>\n",
       "      <td>Cancelada</td>\n",
       "      <td>BB</td>\n",
       "      <td>F_W18_S19</td>\n",
       "      <td>8/10/2018</td>\n",
       "      <td>3</td>\n",
       "      <td>12/10/2018</td>\n",
       "      <td>NaN</td>\n",
       "      <td>TTOO</td>\n",
       "      <td>NO</td>\n",
       "      <td>GB</td>\n",
       "      <td>EMAIL</td>\n",
       "    </tr>\n",
       "    <tr>\n",
       "      <th>3</th>\n",
       "      <td>4472440</td>\n",
       "      <td>BOOKING.COM</td>\n",
       "      <td>1/1/2019</td>\n",
       "      <td>13/1/2019</td>\n",
       "      <td>DBLSTD</td>\n",
       "      <td>Cancelada</td>\n",
       "      <td>BB</td>\n",
       "      <td>X_BAR</td>\n",
       "      <td>17/10/2018</td>\n",
       "      <td>2</td>\n",
       "      <td>18/10/2018</td>\n",
       "      <td>NaN</td>\n",
       "      <td>ONL</td>\n",
       "      <td>ONL</td>\n",
       "      <td>NaN</td>\n",
       "      <td>XML</td>\n",
       "    </tr>\n",
       "    <tr>\n",
       "      <th>4</th>\n",
       "      <td>4563806</td>\n",
       "      <td>SUNHOTELS</td>\n",
       "      <td>1/1/2019</td>\n",
       "      <td>6/1/2019</td>\n",
       "      <td>DBLSTD</td>\n",
       "      <td>Cancelada</td>\n",
       "      <td>BB</td>\n",
       "      <td>F_W18_S19</td>\n",
       "      <td>12/11/2018</td>\n",
       "      <td>2</td>\n",
       "      <td>13/11/2018</td>\n",
       "      <td>NaN</td>\n",
       "      <td>TTOO</td>\n",
       "      <td>NO</td>\n",
       "      <td>AE</td>\n",
       "      <td>EMAIL</td>\n",
       "    </tr>\n",
       "  </tbody>\n",
       "</table>\n",
       "</div>"
      ],
      "text/plain": [
       "   Numero Reserva Cliente Comercial Fecha llegada Fecha de salida  \\\n",
       "0         4193691       BOOKING.COM      1/1/2019        7/1/2019   \n",
       "1         4304804               HRS      1/1/2019       10/1/2019   \n",
       "2         4438480  MIKI TRAVEL LTD.      1/1/2019        3/1/2019   \n",
       "3         4472440       BOOKING.COM      1/1/2019       13/1/2019   \n",
       "4         4563806         SUNHOTELS      1/1/2019        6/1/2019   \n",
       "\n",
       "  Tipo de habitación     Estado Identificador régimen alimenticio     Tarifa  \\\n",
       "0             DBLSTD  Cancelada                                BB      X_BAR   \n",
       "1             DBLSTD    No show                                RO      X_BAR   \n",
       "2             TPLSTD  Cancelada                                BB  F_W18_S19   \n",
       "3             DBLSTD  Cancelada                                BB      X_BAR   \n",
       "4             DBLSTD  Cancelada                                BB  F_W18_S19   \n",
       "\n",
       "  Fecha de Creación  Nº de pax del tipo 1 alojados Fecha de cancelación  VIP  \\\n",
       "0         27/7/2018                              1            27/7/2018  NaN   \n",
       "1         30/8/2018                              1                  NaN  NaN   \n",
       "2         8/10/2018                              3           12/10/2018  NaN   \n",
       "3        17/10/2018                              2           18/10/2018  NaN   \n",
       "4        12/11/2018                              2           13/11/2018  NaN   \n",
       "\n",
       "  Identificador segmento de mercado Identificador procedencia de negocio País  \\\n",
       "0                               ONL                                  ONL  NaN   \n",
       "1                               ONL                                  ONL   DE   \n",
       "2                              TTOO                                   NO   GB   \n",
       "3                               ONL                                  ONL  NaN   \n",
       "4                              TTOO                                   NO   AE   \n",
       "\n",
       "  Identificador de canal  \n",
       "0                    XML  \n",
       "1                    XML  \n",
       "2                  EMAIL  \n",
       "3                    XML  \n",
       "4                  EMAIL  "
      ]
     },
     "execution_count": 3,
     "metadata": {},
     "output_type": "execute_result"
    }
   ],
   "source": [
    "rvas.head()"
   ]
  },
  {
   "cell_type": "code",
   "execution_count": 4,
   "metadata": {},
   "outputs": [
    {
     "data": {
      "text/plain": [
       "(36607, 16)"
      ]
     },
     "execution_count": 4,
     "metadata": {},
     "output_type": "execute_result"
    }
   ],
   "source": [
    "rvas.shape"
   ]
  },
  {
   "cell_type": "code",
   "execution_count": 5,
   "metadata": {},
   "outputs": [
    {
     "data": {
      "text/plain": [
       "Numero Reserva                           int64\n",
       "Cliente Comercial                       object\n",
       "Fecha llegada                           object\n",
       "Fecha de salida                         object\n",
       "Tipo de habitación                      object\n",
       "Estado                                  object\n",
       "Identificador régimen alimenticio       object\n",
       "Tarifa                                  object\n",
       "Fecha de Creación                       object\n",
       "Nº de pax del tipo 1 alojados            int64\n",
       "Fecha de cancelación                    object\n",
       "VIP                                     object\n",
       "Identificador segmento de mercado       object\n",
       "Identificador procedencia de negocio    object\n",
       "País                                    object\n",
       "Identificador de canal                  object\n",
       "dtype: object"
      ]
     },
     "execution_count": 5,
     "metadata": {},
     "output_type": "execute_result"
    }
   ],
   "source": [
    "rvas.dtypes"
   ]
  },
  {
   "cell_type": "code",
   "execution_count": 6,
   "metadata": {},
   "outputs": [
    {
     "data": {
      "text/plain": [
       "Index(['Numero Reserva', 'Cliente Comercial', 'Fecha llegada',\n",
       "       'Fecha de salida', 'Tipo de habitación', 'Estado',\n",
       "       'Identificador régimen alimenticio', 'Tarifa', 'Fecha de Creación',\n",
       "       'Nº de pax del tipo 1 alojados', 'Fecha de cancelación', 'VIP',\n",
       "       'Identificador segmento de mercado',\n",
       "       'Identificador procedencia de negocio', 'País',\n",
       "       'Identificador de canal'],\n",
       "      dtype='object')"
      ]
     },
     "execution_count": 6,
     "metadata": {},
     "output_type": "execute_result"
    }
   ],
   "source": [
    "rvas.columns"
   ]
  },
  {
   "cell_type": "code",
   "execution_count": 7,
   "metadata": {},
   "outputs": [
    {
     "data": {
      "text/plain": [
       "VIP                                     32179\n",
       "Fecha de cancelación                    30421\n",
       "País                                     5008\n",
       "Tarifa                                     96\n",
       "Identificador de canal                      0\n",
       "Identificador procedencia de negocio        0\n",
       "Identificador segmento de mercado           0\n",
       "Nº de pax del tipo 1 alojados               0\n",
       "Fecha de Creación                           0\n",
       "Identificador régimen alimenticio           0\n",
       "Estado                                      0\n",
       "Tipo de habitación                          0\n",
       "Fecha de salida                             0\n",
       "Fecha llegada                               0\n",
       "Cliente Comercial                           0\n",
       "Numero Reserva                              0\n",
       "dtype: int64"
      ]
     },
     "execution_count": 7,
     "metadata": {},
     "output_type": "execute_result"
    }
   ],
   "source": [
    "rvas.isnull().sum().sort_values(ascending=False)"
   ]
  },
  {
   "cell_type": "code",
   "execution_count": 8,
   "metadata": {},
   "outputs": [],
   "source": [
    "rvas = rvas.drop_duplicates()"
   ]
  },
  {
   "cell_type": "code",
   "execution_count": 9,
   "metadata": {},
   "outputs": [
    {
     "data": {
      "text/plain": [
       "(33717, 16)"
      ]
     },
     "execution_count": 9,
     "metadata": {},
     "output_type": "execute_result"
    }
   ],
   "source": [
    "rvas.shape"
   ]
  },
  {
   "cell_type": "code",
   "execution_count": 10,
   "metadata": {},
   "outputs": [],
   "source": [
    "reservas = rvas.copy()"
   ]
  },
  {
   "cell_type": "markdown",
   "metadata": {},
   "source": [
    "## **Status**"
   ]
  },
  {
   "cell_type": "code",
   "execution_count": 11,
   "metadata": {},
   "outputs": [],
   "source": [
    "estado = reservas['Estado'].to_list()"
   ]
  },
  {
   "cell_type": "code",
   "execution_count": 12,
   "metadata": {},
   "outputs": [
    {
     "data": {
      "text/plain": [
       "array(['Cancelada', 'No show', 'Denegada', 'Confirmada'], dtype=object)"
      ]
     },
     "execution_count": 12,
     "metadata": {},
     "output_type": "execute_result"
    }
   ],
   "source": [
    "reservas['Estado'].unique()"
   ]
  },
  {
   "cell_type": "code",
   "execution_count": 13,
   "metadata": {},
   "outputs": [
    {
     "data": {
      "text/plain": [
       "Confirmada    26978\n",
       "Cancelada      6178\n",
       "No show         555\n",
       "Denegada          6\n",
       "Name: Estado, dtype: int64"
      ]
     },
     "execution_count": 13,
     "metadata": {},
     "output_type": "execute_result"
    }
   ],
   "source": [
    "reservas['Estado'].value_counts(dropna=False)"
   ]
  },
  {
   "cell_type": "code",
   "execution_count": 14,
   "metadata": {},
   "outputs": [],
   "source": [
    "status = []\n",
    "\n",
    "for item in estado:\n",
    "    if item == 'Cancelada':\n",
    "        status.append(item.replace('Cancelada','Cancelled'))\n",
    "    if item == 'No show':\n",
    "        status.append(item)\n",
    "    if item == 'Denegada':\n",
    "        status.append(item.replace('Denegada','Rejected'))\n",
    "    if item == 'Confirmada':\n",
    "        status.append(item.replace('Confirmada','Confirmed'))\n",
    "        \n",
    "reservas['Status'] = status\n",
    "              "
   ]
  },
  {
   "cell_type": "code",
   "execution_count": 38,
   "metadata": {},
   "outputs": [],
   "source": [
    "reservas = reservas[reservas['Status'].isin(['Confirmed','Cancelled'])]"
   ]
  },
  {
   "cell_type": "markdown",
   "metadata": {},
   "source": [
    "### **Charts**"
   ]
  },
  {
   "cell_type": "code",
   "execution_count": 39,
   "metadata": {},
   "outputs": [],
   "source": [
    "plt.rcParams.update({'font.size': 12})"
   ]
  },
  {
   "cell_type": "code",
   "execution_count": 40,
   "metadata": {},
   "outputs": [
    {
     "data": {
      "image/png": "[encoded data removed]",
      "text/plain": [
       "<Figure size 288x504 with 1 Axes>"
      ]
     },
     "metadata": {
      "needs_background": "light"
     },
     "output_type": "display_data"
    }
   ],
   "source": [
    "cxl = reservas['Status'].value_counts()\n",
    "\n",
    "fg,ax = plt.subplots(figsize=(4,7))\n",
    "\n",
    "sns.barplot(x=cxl.index,y=cxl,palette=\"tab10\",capsize=2.0)\n",
    "plt.title('Reservations per status 2019')\n",
    "\n",
    "plt.savefig(r'../charts/Reservation_status_2019',transparent=True)"
   ]
  },
  {
   "cell_type": "code",
   "execution_count": 41,
   "metadata": {},
   "outputs": [
    {
     "data": {
      "image/png": "[encoded data removed]",
      "text/plain": [
       "<Figure size 504x576 with 1 Axes>"
      ]
     },
     "metadata": {},
     "output_type": "display_data"
    }
   ],
   "source": [
    "fg,ax = plt.subplots(figsize=(7,8))\n",
    "\n",
    "lab = ['Confirmed','Cancelled']\n",
    "\n",
    "plt.pie(cxl,autopct='%1.1f%%',labels = lab,shadow=True,rotatelabels=True)\n",
    "plt.title('Reservations per status 2019')\n",
    "plt.legend()\n",
    "\n",
    "plt.savefig(r'../charts/Reservation_status_2019_pie',transparent=True)"
   ]
  },
  {
   "cell_type": "code",
   "execution_count": 46,
   "metadata": {},
   "outputs": [],
   "source": [
    "#status = []\n",
    "\n",
    "reservas['Cancelled'] = reservas['Status'].replace({'Cancelled': 1, 'Confirmed': 0})\n",
    "\n",
    "#for elem in estado:\n",
    "#    if elem == 'Cancelled':\n",
    "#        status.append(elem.replace('Cancelled','1'))\n",
    "#    if elem == 'Confirmada':\n",
    "#        status.append(elem.replace('Confirmed','0'))\n",
    "    "
   ]
  },
  {
   "cell_type": "code",
   "execution_count": 47,
   "metadata": {},
   "outputs": [
    {
     "data": {
      "text/html": [
       "<div>\n",
       "<style scoped>\n",
       "    .dataframe tbody tr th:only-of-type {\n",
       "        vertical-align: middle;\n",
       "    }\n",
       "\n",
       "    .dataframe tbody tr th {\n",
       "        vertical-align: top;\n",
       "    }\n",
       "\n",
       "    .dataframe thead th {\n",
       "        text-align: right;\n",
       "    }\n",
       "</style>\n",
       "<table border=\"1\" class=\"dataframe\">\n",
       "  <thead>\n",
       "    <tr style=\"text-align: right;\">\n",
       "      <th></th>\n",
       "      <th>Numero Reserva</th>\n",
       "      <th>Cliente Comercial</th>\n",
       "      <th>Fecha llegada</th>\n",
       "      <th>Fecha de salida</th>\n",
       "      <th>Tipo de habitación</th>\n",
       "      <th>Estado</th>\n",
       "      <th>Identificador régimen alimenticio</th>\n",
       "      <th>Tarifa</th>\n",
       "      <th>Fecha de Creación</th>\n",
       "      <th>Nº de pax del tipo 1 alojados</th>\n",
       "      <th>Fecha de cancelación</th>\n",
       "      <th>VIP</th>\n",
       "      <th>Identificador segmento de mercado</th>\n",
       "      <th>Identificador procedencia de negocio</th>\n",
       "      <th>País</th>\n",
       "      <th>Identificador de canal</th>\n",
       "      <th>Status</th>\n",
       "      <th>Cancelled</th>\n",
       "    </tr>\n",
       "  </thead>\n",
       "  <tbody>\n",
       "    <tr>\n",
       "      <th>0</th>\n",
       "      <td>4193691</td>\n",
       "      <td>BOOKING.COM</td>\n",
       "      <td>1/1/2019</td>\n",
       "      <td>7/1/2019</td>\n",
       "      <td>DBLSTD</td>\n",
       "      <td>Cancelada</td>\n",
       "      <td>BB</td>\n",
       "      <td>X_BAR</td>\n",
       "      <td>27/7/2018</td>\n",
       "      <td>1</td>\n",
       "      <td>27/7/2018</td>\n",
       "      <td>NaN</td>\n",
       "      <td>ONL</td>\n",
       "      <td>ONL</td>\n",
       "      <td>NaN</td>\n",
       "      <td>XML</td>\n",
       "      <td>Cancelled</td>\n",
       "      <td>1</td>\n",
       "    </tr>\n",
       "    <tr>\n",
       "      <th>2</th>\n",
       "      <td>4438480</td>\n",
       "      <td>MIKI TRAVEL LTD.</td>\n",
       "      <td>1/1/2019</td>\n",
       "      <td>3/1/2019</td>\n",
       "      <td>TPLSTD</td>\n",
       "      <td>Cancelada</td>\n",
       "      <td>BB</td>\n",
       "      <td>F_W18_S19</td>\n",
       "      <td>8/10/2018</td>\n",
       "      <td>3</td>\n",
       "      <td>12/10/2018</td>\n",
       "      <td>NaN</td>\n",
       "      <td>TTOO</td>\n",
       "      <td>NO</td>\n",
       "      <td>GB</td>\n",
       "      <td>EMAIL</td>\n",
       "      <td>Cancelled</td>\n",
       "      <td>1</td>\n",
       "    </tr>\n",
       "    <tr>\n",
       "      <th>3</th>\n",
       "      <td>4472440</td>\n",
       "      <td>BOOKING.COM</td>\n",
       "      <td>1/1/2019</td>\n",
       "      <td>13/1/2019</td>\n",
       "      <td>DBLSTD</td>\n",
       "      <td>Cancelada</td>\n",
       "      <td>BB</td>\n",
       "      <td>X_BAR</td>\n",
       "      <td>17/10/2018</td>\n",
       "      <td>2</td>\n",
       "      <td>18/10/2018</td>\n",
       "      <td>NaN</td>\n",
       "      <td>ONL</td>\n",
       "      <td>ONL</td>\n",
       "      <td>NaN</td>\n",
       "      <td>XML</td>\n",
       "      <td>Cancelled</td>\n",
       "      <td>1</td>\n",
       "    </tr>\n",
       "    <tr>\n",
       "      <th>4</th>\n",
       "      <td>4563806</td>\n",
       "      <td>SUNHOTELS</td>\n",
       "      <td>1/1/2019</td>\n",
       "      <td>6/1/2019</td>\n",
       "      <td>DBLSTD</td>\n",
       "      <td>Cancelada</td>\n",
       "      <td>BB</td>\n",
       "      <td>F_W18_S19</td>\n",
       "      <td>12/11/2018</td>\n",
       "      <td>2</td>\n",
       "      <td>13/11/2018</td>\n",
       "      <td>NaN</td>\n",
       "      <td>TTOO</td>\n",
       "      <td>NO</td>\n",
       "      <td>AE</td>\n",
       "      <td>EMAIL</td>\n",
       "      <td>Cancelled</td>\n",
       "      <td>1</td>\n",
       "    </tr>\n",
       "    <tr>\n",
       "      <th>5</th>\n",
       "      <td>4567131</td>\n",
       "      <td>SUNHOTELS</td>\n",
       "      <td>1/1/2019</td>\n",
       "      <td>6/1/2019</td>\n",
       "      <td>DBLSTD</td>\n",
       "      <td>Cancelada</td>\n",
       "      <td>BB</td>\n",
       "      <td>F_W18_S19</td>\n",
       "      <td>13/11/2018</td>\n",
       "      <td>2</td>\n",
       "      <td>16/11/2018</td>\n",
       "      <td>NaN</td>\n",
       "      <td>TTOO</td>\n",
       "      <td>NO</td>\n",
       "      <td>AE</td>\n",
       "      <td>EMAIL</td>\n",
       "      <td>Cancelled</td>\n",
       "      <td>1</td>\n",
       "    </tr>\n",
       "  </tbody>\n",
       "</table>\n",
       "</div>"
      ],
      "text/plain": [
       "   Numero Reserva Cliente Comercial Fecha llegada Fecha de salida  \\\n",
       "0         4193691       BOOKING.COM      1/1/2019        7/1/2019   \n",
       "2         4438480  MIKI TRAVEL LTD.      1/1/2019        3/1/2019   \n",
       "3         4472440       BOOKING.COM      1/1/2019       13/1/2019   \n",
       "4         4563806         SUNHOTELS      1/1/2019        6/1/2019   \n",
       "5         4567131         SUNHOTELS      1/1/2019        6/1/2019   \n",
       "\n",
       "  Tipo de habitación     Estado Identificador régimen alimenticio     Tarifa  \\\n",
       "0             DBLSTD  Cancelada                                BB      X_BAR   \n",
       "2             TPLSTD  Cancelada                                BB  F_W18_S19   \n",
       "3             DBLSTD  Cancelada                                BB      X_BAR   \n",
       "4             DBLSTD  Cancelada                                BB  F_W18_S19   \n",
       "5             DBLSTD  Cancelada                                BB  F_W18_S19   \n",
       "\n",
       "  Fecha de Creación  Nº de pax del tipo 1 alojados Fecha de cancelación  VIP  \\\n",
       "0         27/7/2018                              1            27/7/2018  NaN   \n",
       "2         8/10/2018                              3           12/10/2018  NaN   \n",
       "3        17/10/2018                              2           18/10/2018  NaN   \n",
       "4        12/11/2018                              2           13/11/2018  NaN   \n",
       "5        13/11/2018                              2           16/11/2018  NaN   \n",
       "\n",
       "  Identificador segmento de mercado Identificador procedencia de negocio País  \\\n",
       "0                               ONL                                  ONL  NaN   \n",
       "2                              TTOO                                   NO   GB   \n",
       "3                               ONL                                  ONL  NaN   \n",
       "4                              TTOO                                   NO   AE   \n",
       "5                              TTOO                                   NO   AE   \n",
       "\n",
       "  Identificador de canal     Status  Cancelled  \n",
       "0                    XML  Cancelled          1  \n",
       "2                  EMAIL  Cancelled          1  \n",
       "3                    XML  Cancelled          1  \n",
       "4                  EMAIL  Cancelled          1  \n",
       "5                  EMAIL  Cancelled          1  "
      ]
     },
     "execution_count": 47,
     "metadata": {},
     "output_type": "execute_result"
    }
   ],
   "source": [
    "reservas.head()"
   ]
  },
  {
   "cell_type": "code",
   "execution_count": 48,
   "metadata": {},
   "outputs": [
    {
     "data": {
      "text/plain": [
       "(33156, 18)"
      ]
     },
     "execution_count": 48,
     "metadata": {},
     "output_type": "execute_result"
    }
   ],
   "source": [
    "reservas.shape"
   ]
  },
  {
   "cell_type": "code",
   "execution_count": 49,
   "metadata": {},
   "outputs": [],
   "source": [
    "reservas['Cancelled'] = pd.to_numeric(reservas['Cancelled'])"
   ]
  },
  {
   "cell_type": "code",
   "execution_count": 50,
   "metadata": {},
   "outputs": [
    {
     "data": {
      "text/plain": [
       "0    26978\n",
       "1     6178\n",
       "Name: Cancelled, dtype: int64"
      ]
     },
     "execution_count": 50,
     "metadata": {},
     "output_type": "execute_result"
    }
   ],
   "source": [
    "reservas['Cancelled'].value_counts()"
   ]
  },
  {
   "cell_type": "code",
   "execution_count": 51,
   "metadata": {},
   "outputs": [
    {
     "data": {
      "text/plain": [
       "Numero Reserva                           int64\n",
       "Cliente Comercial                       object\n",
       "Fecha llegada                           object\n",
       "Fecha de salida                         object\n",
       "Tipo de habitación                      object\n",
       "Estado                                  object\n",
       "Identificador régimen alimenticio       object\n",
       "Tarifa                                  object\n",
       "Fecha de Creación                       object\n",
       "Nº de pax del tipo 1 alojados            int64\n",
       "Fecha de cancelación                    object\n",
       "VIP                                     object\n",
       "Identificador segmento de mercado       object\n",
       "Identificador procedencia de negocio    object\n",
       "País                                    object\n",
       "Identificador de canal                  object\n",
       "Status                                  object\n",
       "Cancelled                                int64\n",
       "dtype: object"
      ]
     },
     "execution_count": 51,
     "metadata": {},
     "output_type": "execute_result"
    }
   ],
   "source": [
    "reservas.dtypes"
   ]
  },
  {
   "cell_type": "markdown",
   "metadata": {},
   "source": [
    "------------------------------------------------------------------------------------------------------------------------------"
   ]
  },
  {
   "cell_type": "markdown",
   "metadata": {},
   "source": [
    "## **Main client**"
   ]
  },
  {
   "cell_type": "markdown",
   "metadata": {},
   "source": [
    "Grouping the reservations in 8 different categories: **Direct** , **OTA** , **Trad Travel Ag** , **TTOO** , **Corporate** , **Boxes/Flash** , **GDS** and **Last minute**. "
   ]
  },
  {
   "cell_type": "code",
   "execution_count": 52,
   "metadata": {},
   "outputs": [],
   "source": [
    "unique = reservas['Cliente Comercial'].unique().tolist()"
   ]
  },
  {
   "cell_type": "code",
   "execution_count": 53,
   "metadata": {},
   "outputs": [
    {
     "data": {
      "text/plain": [
       "['BOOKING.COM',\n",
       " 'MIKI TRAVEL LTD.',\n",
       " 'SUNHOTELS',\n",
       " 'TOURMUNDIAL',\n",
       " 'TUI BELGIUM',\n",
       " 'EXPEDIA',\n",
       " 'HOTELBEDS SWITZERLAND AG',\n",
       " 'RTS',\n",
       " 'VOYAGE PRIVE FRANCIA',\n",
       " 'LUXURY ESCAPES TRAVEL',\n",
       " 'CAPITA BUSINESS TRAVEL',\n",
       " 'TRAVELCLICK',\n",
       " 'ABBEY (UK) TRAVEL LTD',\n",
       " 'CLUB H10',\n",
       " 'BARINGA PARTNERS',\n",
       " 'PLEASANT HOLIDAYS',\n",
       " 'TUI NEDERLAND N.V.',\n",
       " 'RED LETTER DAYS',\n",
       " 'CLICK TRAVEL',\n",
       " 'CHECK POINT SOFTWARE TECHNOLOGIES',\n",
       " 'ON THE MARKET',\n",
       " 'FLIGHT CENTRE UK Ltd',\n",
       " 'COMPANIES',\n",
       " 'MAINTEL EUROPE',\n",
       " 'VOYAGE PRIVE UK',\n",
       " 'VOYAGE PRIVE ESPAÑA S.L.U.',\n",
       " 'FTI TOURISTIK',\n",
       " 'WEB H10',\n",
       " 'ITF',\n",
       " 'HRS PAYMENT SOLUTIONS GMBH',\n",
       " 'TATE',\n",
       " 'BOKU NETWORK SERVICES',\n",
       " 'ACCESS BOOKINGS',\n",
       " 'CWT GLOBAL ESPAÑA',\n",
       " 'JUMBO TOURS',\n",
       " 'AGODA COMPANY PTE',\n",
       " 'ERICSSON',\n",
       " 'DIRECT',\n",
       " 'PREMIER BOOKING SERVICES',\n",
       " 'IMG ARTISTS',\n",
       " \"MOVIN' MUSIC\",\n",
       " 'OSIRIS EDUCATIONAL WOODHALL',\n",
       " 'REDFERN TRAVEL',\n",
       " 'V.EL CORTE INGLES',\n",
       " 'TRADEXFIRM INTERNATIONAL',\n",
       " 'BUNDESVERWALTUNGSAMT HAMM',\n",
       " 'CLARITY MEDICAL SYSTEMS,',\n",
       " 'HRS',\n",
       " 'MACCREANOR LAVINGTON',\n",
       " 'TRAVEL REPUBLIC',\n",
       " 'BONGO',\n",
       " 'SENSATIONS DU MONDE',\n",
       " 'DE JONG INTRA',\n",
       " 'KEYTEL',\n",
       " 'TELE APOSTUAK',\n",
       " 'MARCH ON STRESS',\n",
       " 'ASSOCIATION FOR PUBLIC SERVICE',\n",
       " 'COMPUTACENTER',\n",
       " 'UK POWER NETWORKS HOLDINGS',\n",
       " 'LONDON SOUTHBANK UNIVERSITY',\n",
       " 'SEACO GLOBAL LIMITED',\n",
       " 'VIAGENS ABREU',\n",
       " 'DESTINIA',\n",
       " 'LUXAIR',\n",
       " 'IMPEX ENTERPRISES',\n",
       " 'HOTEL TONIGHT UK',\n",
       " 'TUI DEUTSCHLAND',\n",
       " 'ATRAPALO.COM,',\n",
       " 'PRIORITY',\n",
       " 'BCD TRAVEL GERMANY',\n",
       " 'GENERALITAT DE CATALUNYA',\n",
       " 'CHARTERED INST. OF ENVIRONMENTAL HE',\n",
       " 'SUPERBREAK MINI HOLIDAYS',\n",
       " 'HILLGATE SOLUTIONS',\n",
       " 'CODORNIU,',\n",
       " 'TIPIK COMMUNICATION AGENCY',\n",
       " 'EUROPE EXPRESS',\n",
       " 'BOOK A TABLE-LIVE BOOKINGS',\n",
       " 'TRANSAT TOURS CANADA',\n",
       " 'MONO CONSULTANTS',\n",
       " 'FOREST TRENDS ASSOCIATION',\n",
       " 'VOYAGE PRIVE ITALIA',\n",
       " 'ULSTER UNIVERSITY',\n",
       " 'AIR CANADA VACATIONS',\n",
       " 'FRONTIER ECONOMICS',\n",
       " 'EGENCIA UK',\n",
       " 'IBERICA FOOD & CULTURE',\n",
       " 'GATE 1 TRAVEL',\n",
       " 'D-FINE',\n",
       " 'HOTEL DIRECT',\n",
       " 'MEETING POINT',\n",
       " 'HOTELBEDS UK',\n",
       " 'RAILWAY CHILDREN',\n",
       " 'DER TOURISTIK DEUTSCHLAND',\n",
       " 'TRAVEL AGENCIES',\n",
       " 'SUNAIR VAKANTIES B.V.',\n",
       " 'TRAVEL COUNSELLORS',\n",
       " 'GO AHEAD TOURS _ EF CULTURAL',\n",
       " 'KUONI GLOBAL TRAVEL SERVICES',\n",
       " 'SELECTIVE TRAVEL MANAGEMENT',\n",
       " 'THE HOSPITAL SATURDAY FUND',\n",
       " 'SECRET ESCAPES',\n",
       " 'COMPLIMENTARY H10',\n",
       " 'ATLAS TRAVEL SOLUTIONS',\n",
       " 'VENUE OPTIONS LIMITED',\n",
       " 'SOUTHBANK CENTRE LIMITED',\n",
       " 'MIGUEL TORRES,',\n",
       " 'WIS-WELCOMEBEDS',\n",
       " 'TRAVCO CORPORATION',\n",
       " 'BRITISH EMBASSY',\n",
       " 'ASSOCIACIÓ BARCELONA GLOBAL',\n",
       " 'TUMLARE CORPORATION A/S ADM.',\n",
       " 'PRIDEPATH (COMPUTING) LTD.',\n",
       " 'KIDILIZ GROUP',\n",
       " 'MARKETING EVENTS AND TRAVEL',\n",
       " 'CTRIP',\n",
       " 'NEW MEDICAL SYSTEMS',\n",
       " 'RUPIPER TOURS',\n",
       " 'ESSITY UK',\n",
       " 'ORION ENGINEERING SERVICES',\n",
       " 'SGS PACKAGING EUROPE',\n",
       " 'COLLEGE OF OPTOMETRISTS',\n",
       " 'HLMAD',\n",
       " 'LIBERATE - HOTELBEDS',\n",
       " 'INTEROPA HOLIDAYS LIMITED',\n",
       " 'COMMUNITY HEALTH PARTNERSHIPS',\n",
       " 'MTC GROUP',\n",
       " 'GRUPO DAMM,',\n",
       " 'SBTECH GLOBAL LIMITED SUBSIDIARY BG',\n",
       " 'CORPORATE TRAVEL SERVICES',\n",
       " 'AMEX-BARCELO',\n",
       " 'IPINNACLE',\n",
       " 'PEABODY',\n",
       " 'IAPS',\n",
       " 'LASTMINUTE',\n",
       " 'XXL, PULSE NIGHTCLUB',\n",
       " 'JOSEPH JOSEPH',\n",
       " 'POLAR CAPITAL PARTNERS',\n",
       " 'AGENTES DE VIAJES',\n",
       " 'ABSOLUT SPORT',\n",
       " 'BCO CONGRESS',\n",
       " 'EXCITE HOLIDAYS PTE, LTD',\n",
       " 'TURISME DE BARCELONA',\n",
       " 'BINDERHOLZ UK',\n",
       " 'G2 TRAVEL',\n",
       " 'MONTESINOS UK',\n",
       " 'HRG UK - MEETINGS, GROUPS & EVENTS',\n",
       " 'THE KNIGHTS OF THE HOLY SEPULCHRE',\n",
       " 'SPECSAVERS OPTICAL SUPERSTORES',\n",
       " 'CVC BRASIL OPERADORA',\n",
       " 'BCD TRAVEL BUSINESS SPAIN',\n",
       " 'IFFO',\n",
       " 'EVONIK UK HOLDINGS LIMITED',\n",
       " 'DAVIES GROUP',\n",
       " 'AIC TRAVEL GROUP SA',\n",
       " 'THE INDEPENDENT HOTEL RESERVATIONS',\n",
       " 'YOUNG VIC COMPANY',\n",
       " 'HOTELSCOMBINED PTY LTD.',\n",
       " 'CHCS CLG',\n",
       " 'NYS GROUP',\n",
       " 'ELEMENTA CONSULTING',\n",
       " 'RESEARCH NOW',\n",
       " 'OMEGA WORLD TRAVEL',\n",
       " 'MABROUKA EVENTS',\n",
       " 'PRESTIGIA.COM',\n",
       " 'ARK GROUP DMCC',\n",
       " 'HOTELTONIGHT',\n",
       " 'COMPUTACENTER AG & CO.OHG',\n",
       " 'FOREIGN AND COMMONWEALTH OFFICE',\n",
       " 'ALPHA HOLIDAYS',\n",
       " 'MARC GUITART',\n",
       " 'BARCELO-ALISIOS',\n",
       " 'NAUTALIA VIAJES',\n",
       " 'FORETAGSEKONOMISKA INSTITUTET 1888',\n",
       " 'CWT MEETING UND EVENTS',\n",
       " 'LEADING LOCATIONS',\n",
       " 'OSBORNE DISTRIBUIDORA',\n",
       " 'LA OTRA IBIZA',\n",
       " 'NAUTILUS INTERNATIONAL',\n",
       " 'INVER.COM.DIAGONAL, S.L.',\n",
       " 'FIELDGLASS',\n",
       " 'WI-5',\n",
       " 'H10 PREMIUM',\n",
       " 'BLACK SPARROW LTD',\n",
       " 'CARLOS MONTESINOS CARMONA',\n",
       " 'MGM MONDO DEL VINO',\n",
       " 'TRAVEL COUNSELLORS LOUISE CUTTING',\n",
       " 'CLUB HAUS AN DE SAUERWISEN',\n",
       " 'CASHEL TRAVEL',\n",
       " 'CHOICE SUPPORT',\n",
       " 'INTERNATIONAL FEDERATION OF',\n",
       " 'BUDGETPLACES - EDREAMS',\n",
       " 'SOFIGATE LIMITED',\n",
       " 'SONY EUROPE BV',\n",
       " 'WEDGEWOOD TRAVEL',\n",
       " 'COACHING & COACHING',\n",
       " 'BOOKING.COM LIMITED',\n",
       " 'RYANAIR',\n",
       " 'ACXIOM',\n",
       " 'DUO CONFERENCE AND EVENTS',\n",
       " 'REED AND MACKAY TRAVEL LIMITED',\n",
       " 'BABCOCK',\n",
       " 'SBTECH GLOBALE ISLE OF MAN',\n",
       " 'ITV',\n",
       " 'EVOLUTION BOTTLING',\n",
       " 'H10 COSTA ADEJE PALACE',\n",
       " 'THE ONE BARCELONA',\n",
       " 'HOTELES SILKEN',\n",
       " 'PATRONAT DE TURISME',\n",
       " 'INS. TURISMO DE LA REGION DE MURCIA',\n",
       " 'VIAJES INSULAR',\n",
       " 'OCEAN HOTELS BY H10 HOTELS, S.A.',\n",
       " 'CORPORACIÓN H10  HOTELS, S.L.',\n",
       " 'CENTRAL DE VIAJES, S.A',\n",
       " 'BARCELO-TRAVELSENS',\n",
       " 'ELEMENTAL CONSULTANCY',\n",
       " 'SMARTBOX',\n",
       " 'NEW EVENT TRAVEL BVBA',\n",
       " 'MANAGEMENT & TRAINING CORPORATION',\n",
       " 'ALESSANDRO FAEL GARCIA',\n",
       " 'DONGXIU GUO']"
      ]
     },
     "execution_count": 53,
     "metadata": {},
     "output_type": "execute_result"
    }
   ],
   "source": [
    "unique"
   ]
  },
  {
   "cell_type": "code",
   "execution_count": 54,
   "metadata": {},
   "outputs": [],
   "source": [
    "# Market channel\n",
    "\n",
    "otas = ['AGODA COMPANY PTE','BUDGETPLACES - EDREAMS',\n",
    "        'WIS-WELCOMEBEDS',\n",
    "        'EXPEDIA',\n",
    "        'BOOKING.COM',\n",
    "        'ATRAPALO.COM,',\n",
    "        'HOTELBEDS SWITZERLAND AG',\n",
    "        'KUONI GLOBAL TRAVEL SERVICES',\n",
    "        'RTS',\n",
    "        'PRESTIGIA.COM',\n",
    "        'HOTELBEDS UK',\n",
    "        'DESTINIA',\n",
    "           'CTRIP','BOOKING.COM LIMITED',]\n",
    "\n",
    "trad = ['DE JONG INTRA','INTEROPA HOLIDAYS LIMITED',\n",
    "        'MIKI TRAVEL LTD.','AIC TRAVEL GROUP SA',\n",
    "        'SENSATIONS DU MONDE',\n",
    "        'EUROPE EXPRESS',\n",
    "        'SUNAIR VAKANTIES B.V.','AGENTES DE VIAJES',\n",
    "        'TRANSAT TOURS CANADA','G2 TRAVEL',\n",
    "        'GATE 1 TRAVEL','WEDGEWOOD TRAVEL',\n",
    "        'PLEASANT HOLIDAYS','BCD TRAVEL BUSINESS SPAIN',\n",
    "        'TRAVEL AGENCIES','ALPHA HOLIDAYS',\n",
    "        'V.EL CORTE INGLES','BARCELO-ALISIOS',\n",
    "        'ABBEY (UK) TRAVEL LTD','CASHEL TRAVEL',\n",
    "        'AIR CANADA VACATIONS','NAUTALIA VIAJES',\n",
    "        'LIBERATE - HOTELBEDS',\n",
    "        'TRAVEL REPUBLIC',\n",
    "        'HOTEL DIRECT','OMEGA WORLD TRAVEL',\n",
    "        'VIAGENS ABREU',\n",
    "        'JUMBO TOURS',\n",
    "           'BCD TRAVEL GERMANY',\n",
    "           'ATLAS TRAVEL SOLUTIONS',\n",
    "           'BARCELO-TRAVELSENS',\n",
    "            'CENTRAL DE VIAJES, S.A',\n",
    "           'RUPIPER TOURS']\n",
    "\n",
    "last = ['LASTMINUTE',\n",
    "        'HOTELSCOMBINED PTY LTD.',\n",
    "        'HOTEL TONIGHT UK',\n",
    "           'HOTELTONIGHT']\n",
    "\n",
    "ttoo = ['TUI DEUTSCHLAND',\n",
    "        'TUI NEDERLAND N.V.',\n",
    "        'SUNHOTELS',\n",
    "        'TOURMUNDIAL',\n",
    "        'LUXAIR',\n",
    "        'DER TOURISTIK DEUTSCHLAND',\n",
    "        'TUI BELGIUM','FTI TOURISTIK',\n",
    "           'SUPERBREAK MINI HOLIDAYS',\n",
    "           'TRAVCO CORPORATION','TUMLARE CORPORATION A/S ADM.']\n",
    "\n",
    "direct = ['WEB H10','H10 PREMIUM',\n",
    "          'CLUB H10',\n",
    "          'DIRECT',\n",
    "        'COMPLIMENTARY H10',\n",
    "             'DONGXIU GUO',\n",
    "             'ALESSANDRO FAEL GARCIA',\n",
    "             'CORPORACIÓN H10  HOTELS, S.L.',\n",
    "             'OCEAN HOTELS BY H10 HOTELS, S.A.',\n",
    "             'H10 COSTA ADEJE PALACE',\n",
    "         'THE ONE BARCELONA']\n",
    "\n",
    "corp = ['D-FINE','VENUE OPTIONS LIMITED',\n",
    "         'MIGUEL TORRES,'\n",
    "        'CAPITA BUSINESS TRAVEL',\n",
    "        'FLIGHT CENTRE UK Ltd',\n",
    "        'XXL, PULSE NIGHTCLUB',\n",
    "        'TATE',\n",
    "        'PREMIER BOOKING SERVICES',\n",
    "        'ERICSSON','HILLGATE SOLUTIONS',\n",
    "        'IMG ARTISTS',\n",
    "        'BOKU NETWORK SERVICES',\n",
    "        'COMPANIES',\n",
    "        'SOUTHBANK CENTRE LIMITED',\n",
    "        'OSIRIS EDUCATIONAL WOODHALL',\n",
    "        'POLAR CAPITAL PARTNERS',\n",
    "        'CHCS CLG',\n",
    "        'CLARITY MEDICAL SYSTEMS,',\n",
    "        'EGENCIA UK',\n",
    "        'RAILWAY CHILDREN',\n",
    "        'LONDON SOUTHBANK UNIVERSITY',\n",
    "        'PRIORITY',\n",
    "        'BARINGA PARTNERS',\n",
    "        'ON THE MARKET',\n",
    "        'CHECK POINT SOFTWARE TECHNOLOGIES',\n",
    "        'ITF',\n",
    "        'ACCESS BOOKINGS',\n",
    "        'MAINTEL EUROPE',\n",
    "        'REDFERN TRAVEL',\n",
    "        \"MOVIN' MUSIC\",\n",
    "        'TRADEXFIRM INTERNATIONAL',\n",
    "        'MACCREANOR LAVINGTON',\n",
    "        'BUNDESVERWALTUNGSAMT HAMM',\n",
    "        'ELEMENTA CONSULTING',\n",
    "        'MARCH ON STRESS',\n",
    "        'ASSOCIATION FOR PUBLIC SERVICE',\n",
    "        'COMPUTACENTER',\n",
    "        'THE HOSPITAL SATURDAY FUND',\n",
    "        'IAPS',\n",
    "        'CHARTERED INST. OF ENVIRONMENTAL HE',\n",
    "        'UK POWER NETWORKS HOLDINGS',\n",
    "        'IMPEX ENTERPRISES',\n",
    "        'TELE APOSTUAK',\n",
    "        'SEACO GLOBAL LIMITED',\n",
    "        'GENERALITAT DE CATALUNYA',\n",
    "        'CODORNIU,','MIGUEL TORRES,', \n",
    "        'TIPIK COMMUNICATION AGENCY','BOOK A TABLE-LIVE BOOKINGS',\n",
    "        'MONO CONSULTANTS','FOREST TRENDS ASSOCIATION',\n",
    "        'ULSTER UNIVERSITY',\n",
    "         'FRONTIER ECONOMICS',\n",
    "         'IBERICA FOOD & CULTURE','ELEMENTAL CONSULTANCY',\n",
    "         'MEETING POINT',\n",
    "         'TRAVEL COUNSELLORS',\n",
    "         'GO AHEAD TOURS _ EF CULTURAL','PRIDEPATH (COMPUTING) LTD.',\n",
    "         'SELECTIVE TRAVEL MANAGEMENT',\n",
    "        'BRITISH EMBASSY','MANAGEMENT & TRAINING CORPORATION','NEW EVENT TRAVEL BVBA',\n",
    "        'HOTELES SILKEN',\n",
    "         'PATRONAT DE TURISME',\n",
    "         'INS. TURISMO DE LA REGION DE MURCIA','MARKETING EVENTS AND TRAVEL',\n",
    "         'VIAJES INSULAR','COMMUNITY HEALTH PARTNERSHIPS',\n",
    "        'RYANAIR',\n",
    "         'ACXIOM','ABSOLUT SPORT',\n",
    "         'DUO CONFERENCE AND EVENTS','KIDILIZ GROUP',\n",
    "         'REED AND MACKAY TRAVEL LIMITED','GRUPO DAMM,',\n",
    "         'BABCOCK',\n",
    "         'SBTECH GLOBALE ISLE OF MAN','N,EW MEDICAL SYSTEMS',\n",
    "         'ITV',\n",
    "         'EVOLUTION BOTTLING','COACHING & COACHING','CORPORATE TRAVEL SERVICES',\n",
    "        'ASSOCIACIÓ BARCELONA GLOBAL','MONTESINOS UK',\n",
    "        'ESSITY UK',\n",
    "         'ORION ENGINEERING SERVICES','MTC GROUP','SBTECH GLOBAL LIMITED SUBSIDIARY BG',\n",
    "             'SGS PACKAGING EUROPE','WI-5',\n",
    "         'COLLEGE OF OPTOMETRISTS','NEW MEDICAL SYSTEMS',\n",
    "         'HLMAD','COMMUN,ITY HEALTH PARTNERSHIPS','AMEX-BARCELO', 'IPINNACLE',\n",
    "         'PEABODY','DAVIES GROUP',\n",
    "         'JOSEPH JOSEPH', 'SPECSAVERS OPTICAL SUPERSTORES',\n",
    "            'SOFIGATE LIMITED','CVC BRASIL OPERADORA',\n",
    "         'SONY EUROPE BV','EVONIK UK HOLDINGS LIMITED',\n",
    "            'BCO CONGRESS','BLACK SPARROW LTD',\n",
    "         'EXCITE HOLIDAYS PTE, LTD','IFFO',\n",
    "         'TURISME DE BARCELONA','YOUNG VIC COMPANY',\n",
    "         'BINDERHOLZ UK','THE INDEPENDENT HOTEL RESERVATIONS',\n",
    "           'HRG UK - MEETINGS, GROUPS & EVENTS',\n",
    "         'THE KNIGHTS OF THE HOLY SEPULCHRE','NYS GROUP',\n",
    "     'RESEARCH NOW',\n",
    "     'MABROUKA EVENTS',\n",
    "     'ARK GROUP DMCC',\n",
    "     'COMPUTACENTER AG & CO.OHG',\n",
    "     'FOREIGN AND COMMONWEALTH OFFICE',\n",
    "         'MARC GUITART',\n",
    "     'FORETAGSEKONOMISKA INSTITUTET 1888',\n",
    "     'CWT MEETING UND EVENTS',\n",
    "     'LEADING LOCATIONS',\n",
    "     'OSBORNE DISTRIBUIDORA',\n",
    "     'LA OTRA IBIZA',\n",
    "     'NAUTILUS INTERNATIONAL',\n",
    "     'INVER.COM.DIAGONAL, S.L.',\n",
    "     'FIELDGLASS',\n",
    "     'CARLOS MONTESINOS CARMONA',\n",
    "     'MGM MONDO DEL VINO',\n",
    "     'TRAVEL COUNSELLORS LOUISE CUTTING',\n",
    "     'CLUB HAUS AN DE SAUERWISEN',\n",
    "     'CHOICE SUPPORT',\n",
    "     'INTERNATIONAL FEDERATION OF',\n",
    "       'CAPITA BUSINESS TRAVEL']\n",
    "    \n",
    "\n",
    "gds = ['TRAVELCLICK',\n",
    "       'HRS PAYMENT SOLUTIONS GMBH',\n",
    "       'CLICK TRAVEL',\n",
    "       'HRS',\n",
    "       'KEYTEL',\n",
    "       'CWT GLOBAL ESPAÑA']\n",
    "\n",
    "flash = ['VOYAGE PRIVE ITALIA',\n",
    "         'RED LETTER DAYS',\n",
    "         'BONGO',\n",
    "         'VOYAGE PRIVE UK',\n",
    "         'VOYAGE PRIVE FRANCIA',\n",
    "         'SECRET ESCAPES',\n",
    "         'VOYAGE PRIVE ESPAÑA S.L.U.',\n",
    "         'LUXURY ESCAPES TRAVEL',\n",
    "            'SMARTBOX']\n"
   ]
  },
  {
   "cell_type": "code",
   "execution_count": 55,
   "metadata": {},
   "outputs": [],
   "source": [
    "check = flash + gds + corp + direct + ttoo + last + trad + otas"
   ]
  },
  {
   "cell_type": "code",
   "execution_count": 56,
   "metadata": {},
   "outputs": [
    {
     "name": "stdout",
     "output_type": "stream",
     "text": [
      "BOOKING.COM ..........................................OK\n",
      "MIKI TRAVEL LTD. ..........................................OK\n",
      "SUNHOTELS ..........................................OK\n",
      "TOURMUNDIAL ..........................................OK\n",
      "TUI BELGIUM ..........................................OK\n",
      "EXPEDIA ..........................................OK\n",
      "HOTELBEDS SWITZERLAND AG ..........................................OK\n",
      "RTS ..........................................OK\n",
      "VOYAGE PRIVE FRANCIA ..........................................OK\n",
      "LUXURY ESCAPES TRAVEL ..........................................OK\n",
      "CAPITA BUSINESS TRAVEL ..........................................OK\n",
      "TRAVELCLICK ..........................................OK\n",
      "ABBEY (UK) TRAVEL LTD ..........................................OK\n",
      "CLUB H10 ..........................................OK\n",
      "BARINGA PARTNERS ..........................................OK\n",
      "PLEASANT HOLIDAYS ..........................................OK\n",
      "TUI NEDERLAND N.V. ..........................................OK\n",
      "RED LETTER DAYS ..........................................OK\n",
      "CLICK TRAVEL ..........................................OK\n",
      "CHECK POINT SOFTWARE TECHNOLOGIES ..........................................OK\n",
      "ON THE MARKET ..........................................OK\n",
      "FLIGHT CENTRE UK Ltd ..........................................OK\n",
      "COMPANIES ..........................................OK\n",
      "MAINTEL EUROPE ..........................................OK\n",
      "VOYAGE PRIVE UK ..........................................OK\n",
      "VOYAGE PRIVE ESPAÑA S.L.U. ..........................................OK\n",
      "FTI TOURISTIK ..........................................OK\n",
      "WEB H10 ..........................................OK\n",
      "ITF ..........................................OK\n",
      "HRS PAYMENT SOLUTIONS GMBH ..........................................OK\n",
      "TATE ..........................................OK\n",
      "BOKU NETWORK SERVICES ..........................................OK\n",
      "ACCESS BOOKINGS ..........................................OK\n",
      "CWT GLOBAL ESPAÑA ..........................................OK\n",
      "JUMBO TOURS ..........................................OK\n",
      "AGODA COMPANY PTE ..........................................OK\n",
      "ERICSSON ..........................................OK\n",
      "DIRECT ..........................................OK\n",
      "PREMIER BOOKING SERVICES ..........................................OK\n",
      "IMG ARTISTS ..........................................OK\n",
      "MOVIN' MUSIC ..........................................OK\n",
      "OSIRIS EDUCATIONAL WOODHALL ..........................................OK\n",
      "REDFERN TRAVEL ..........................................OK\n",
      "V.EL CORTE INGLES ..........................................OK\n",
      "TRADEXFIRM INTERNATIONAL ..........................................OK\n",
      "BUNDESVERWALTUNGSAMT HAMM ..........................................OK\n",
      "CLARITY MEDICAL SYSTEMS, ..........................................OK\n",
      "HRS ..........................................OK\n",
      "MACCREANOR LAVINGTON ..........................................OK\n",
      "TRAVEL REPUBLIC ..........................................OK\n",
      "BONGO ..........................................OK\n",
      "SENSATIONS DU MONDE ..........................................OK\n",
      "DE JONG INTRA ..........................................OK\n",
      "KEYTEL ..........................................OK\n",
      "TELE APOSTUAK ..........................................OK\n",
      "MARCH ON STRESS ..........................................OK\n",
      "ASSOCIATION FOR PUBLIC SERVICE ..........................................OK\n",
      "COMPUTACENTER ..........................................OK\n",
      "UK POWER NETWORKS HOLDINGS ..........................................OK\n",
      "LONDON SOUTHBANK UNIVERSITY ..........................................OK\n",
      "SEACO GLOBAL LIMITED ..........................................OK\n",
      "VIAGENS ABREU ..........................................OK\n",
      "DESTINIA ..........................................OK\n",
      "LUXAIR ..........................................OK\n",
      "IMPEX ENTERPRISES ..........................................OK\n",
      "HOTEL TONIGHT UK ..........................................OK\n",
      "TUI DEUTSCHLAND ..........................................OK\n",
      "ATRAPALO.COM, ..........................................OK\n",
      "PRIORITY ..........................................OK\n",
      "BCD TRAVEL GERMANY ..........................................OK\n",
      "GENERALITAT DE CATALUNYA ..........................................OK\n",
      "CHARTERED INST. OF ENVIRONMENTAL HE ..........................................OK\n",
      "SUPERBREAK MINI HOLIDAYS ..........................................OK\n",
      "HILLGATE SOLUTIONS ..........................................OK\n",
      "CODORNIU, ..........................................OK\n",
      "TIPIK COMMUNICATION AGENCY ..........................................OK\n",
      "EUROPE EXPRESS ..........................................OK\n",
      "BOOK A TABLE-LIVE BOOKINGS ..........................................OK\n",
      "TRANSAT TOURS CANADA ..........................................OK\n",
      "MONO CONSULTANTS ..........................................OK\n",
      "FOREST TRENDS ASSOCIATION ..........................................OK\n",
      "VOYAGE PRIVE ITALIA ..........................................OK\n",
      "ULSTER UNIVERSITY ..........................................OK\n",
      "AIR CANADA VACATIONS ..........................................OK\n",
      "FRONTIER ECONOMICS ..........................................OK\n",
      "EGENCIA UK ..........................................OK\n",
      "IBERICA FOOD & CULTURE ..........................................OK\n",
      "GATE 1 TRAVEL ..........................................OK\n",
      "D-FINE ..........................................OK\n",
      "HOTEL DIRECT ..........................................OK\n",
      "MEETING POINT ..........................................OK\n",
      "HOTELBEDS UK ..........................................OK\n",
      "RAILWAY CHILDREN ..........................................OK\n",
      "DER TOURISTIK DEUTSCHLAND ..........................................OK\n",
      "TRAVEL AGENCIES ..........................................OK\n",
      "SUNAIR VAKANTIES B.V. ..........................................OK\n",
      "TRAVEL COUNSELLORS ..........................................OK\n",
      "GO AHEAD TOURS _ EF CULTURAL ..........................................OK\n",
      "KUONI GLOBAL TRAVEL SERVICES ..........................................OK\n",
      "SELECTIVE TRAVEL MANAGEMENT ..........................................OK\n",
      "THE HOSPITAL SATURDAY FUND ..........................................OK\n",
      "SECRET ESCAPES ..........................................OK\n",
      "COMPLIMENTARY H10 ..........................................OK\n",
      "ATLAS TRAVEL SOLUTIONS ..........................................OK\n",
      "VENUE OPTIONS LIMITED ..........................................OK\n",
      "SOUTHBANK CENTRE LIMITED ..........................................OK\n",
      "MIGUEL TORRES, ..........................................OK\n",
      "WIS-WELCOMEBEDS ..........................................OK\n",
      "TRAVCO CORPORATION ..........................................OK\n",
      "BRITISH EMBASSY ..........................................OK\n",
      "ASSOCIACIÓ BARCELONA GLOBAL ..........................................OK\n",
      "TUMLARE CORPORATION A/S ADM. ..........................................OK\n",
      "PRIDEPATH (COMPUTING) LTD. ..........................................OK\n",
      "KIDILIZ GROUP ..........................................OK\n",
      "MARKETING EVENTS AND TRAVEL ..........................................OK\n",
      "CTRIP ..........................................OK\n",
      "NEW MEDICAL SYSTEMS ..........................................OK\n",
      "RUPIPER TOURS ..........................................OK\n",
      "ESSITY UK ..........................................OK\n",
      "ORION ENGINEERING SERVICES ..........................................OK\n",
      "SGS PACKAGING EUROPE ..........................................OK\n",
      "COLLEGE OF OPTOMETRISTS ..........................................OK\n",
      "HLMAD ..........................................OK\n",
      "LIBERATE - HOTELBEDS ..........................................OK\n",
      "INTEROPA HOLIDAYS LIMITED ..........................................OK\n",
      "COMMUNITY HEALTH PARTNERSHIPS ..........................................OK\n",
      "MTC GROUP ..........................................OK\n",
      "GRUPO DAMM, ..........................................OK\n",
      "SBTECH GLOBAL LIMITED SUBSIDIARY BG ..........................................OK\n",
      "CORPORATE TRAVEL SERVICES ..........................................OK\n",
      "AMEX-BARCELO ..........................................OK\n",
      "IPINNACLE ..........................................OK\n",
      "PEABODY ..........................................OK\n",
      "IAPS ..........................................OK\n",
      "LASTMINUTE ..........................................OK\n",
      "XXL, PULSE NIGHTCLUB ..........................................OK\n",
      "JOSEPH JOSEPH ..........................................OK\n",
      "POLAR CAPITAL PARTNERS ..........................................OK\n",
      "AGENTES DE VIAJES ..........................................OK\n",
      "ABSOLUT SPORT ..........................................OK\n",
      "BCO CONGRESS ..........................................OK\n",
      "EXCITE HOLIDAYS PTE, LTD ..........................................OK\n",
      "TURISME DE BARCELONA ..........................................OK\n",
      "BINDERHOLZ UK ..........................................OK\n",
      "G2 TRAVEL ..........................................OK\n",
      "MONTESINOS UK ..........................................OK\n",
      "HRG UK - MEETINGS, GROUPS & EVENTS ..........................................OK\n",
      "THE KNIGHTS OF THE HOLY SEPULCHRE ..........................................OK\n",
      "SPECSAVERS OPTICAL SUPERSTORES ..........................................OK\n",
      "CVC BRASIL OPERADORA ..........................................OK\n",
      "BCD TRAVEL BUSINESS SPAIN ..........................................OK\n",
      "IFFO ..........................................OK\n",
      "EVONIK UK HOLDINGS LIMITED ..........................................OK\n",
      "DAVIES GROUP ..........................................OK\n",
      "AIC TRAVEL GROUP SA ..........................................OK\n",
      "THE INDEPENDENT HOTEL RESERVATIONS ..........................................OK\n",
      "YOUNG VIC COMPANY ..........................................OK\n",
      "HOTELSCOMBINED PTY LTD. ..........................................OK\n",
      "CHCS CLG ..........................................OK\n",
      "NYS GROUP ..........................................OK\n",
      "ELEMENTA CONSULTING ..........................................OK\n",
      "RESEARCH NOW ..........................................OK\n",
      "OMEGA WORLD TRAVEL ..........................................OK\n",
      "MABROUKA EVENTS ..........................................OK\n",
      "PRESTIGIA.COM ..........................................OK\n",
      "ARK GROUP DMCC ..........................................OK\n",
      "HOTELTONIGHT ..........................................OK\n",
      "COMPUTACENTER AG & CO.OHG ..........................................OK\n",
      "FOREIGN AND COMMONWEALTH OFFICE ..........................................OK\n",
      "ALPHA HOLIDAYS ..........................................OK\n",
      "MARC GUITART ..........................................OK\n",
      "BARCELO-ALISIOS ..........................................OK\n",
      "NAUTALIA VIAJES ..........................................OK\n",
      "FORETAGSEKONOMISKA INSTITUTET 1888 ..........................................OK\n",
      "CWT MEETING UND EVENTS ..........................................OK\n",
      "LEADING LOCATIONS ..........................................OK\n",
      "OSBORNE DISTRIBUIDORA ..........................................OK\n",
      "LA OTRA IBIZA ..........................................OK\n",
      "NAUTILUS INTERNATIONAL ..........................................OK\n",
      "INVER.COM.DIAGONAL, S.L. ..........................................OK\n",
      "FIELDGLASS ..........................................OK\n",
      "WI-5 ..........................................OK\n",
      "H10 PREMIUM ..........................................OK\n",
      "BLACK SPARROW LTD ..........................................OK\n",
      "CARLOS MONTESINOS CARMONA ..........................................OK\n",
      "MGM MONDO DEL VINO ..........................................OK\n",
      "TRAVEL COUNSELLORS LOUISE CUTTING ..........................................OK\n",
      "CLUB HAUS AN DE SAUERWISEN ..........................................OK\n",
      "CASHEL TRAVEL ..........................................OK\n",
      "CHOICE SUPPORT ..........................................OK\n",
      "INTERNATIONAL FEDERATION OF ..........................................OK\n",
      "BUDGETPLACES - EDREAMS ..........................................OK\n",
      "SOFIGATE LIMITED ..........................................OK\n",
      "SONY EUROPE BV ..........................................OK\n",
      "WEDGEWOOD TRAVEL ..........................................OK\n",
      "COACHING & COACHING ..........................................OK\n",
      "BOOKING.COM LIMITED ..........................................OK\n",
      "RYANAIR ..........................................OK\n",
      "ACXIOM ..........................................OK\n",
      "DUO CONFERENCE AND EVENTS ..........................................OK\n",
      "REED AND MACKAY TRAVEL LIMITED ..........................................OK\n",
      "BABCOCK ..........................................OK\n",
      "SBTECH GLOBALE ISLE OF MAN ..........................................OK\n",
      "ITV ..........................................OK\n",
      "EVOLUTION BOTTLING ..........................................OK\n",
      "H10 COSTA ADEJE PALACE ..........................................OK\n",
      "THE ONE BARCELONA ..........................................OK\n",
      "HOTELES SILKEN ..........................................OK\n",
      "PATRONAT DE TURISME ..........................................OK\n",
      "INS. TURISMO DE LA REGION DE MURCIA ..........................................OK\n",
      "VIAJES INSULAR ..........................................OK\n",
      "OCEAN HOTELS BY H10 HOTELS, S.A. ..........................................OK\n",
      "CORPORACIÓN H10  HOTELS, S.L. ..........................................OK\n",
      "CENTRAL DE VIAJES, S.A ..........................................OK\n",
      "BARCELO-TRAVELSENS ..........................................OK\n",
      "ELEMENTAL CONSULTANCY ..........................................OK\n",
      "SMARTBOX ..........................................OK\n",
      "NEW EVENT TRAVEL BVBA ..........................................OK\n",
      "MANAGEMENT & TRAINING CORPORATION ..........................................OK\n",
      "ALESSANDRO FAEL GARCIA ..........................................OK\n",
      "DONGXIU GUO ..........................................OK\n"
     ]
    }
   ],
   "source": [
    "nuevo = []\n",
    "\n",
    "for elem in unique:\n",
    "    \n",
    "    if elem not in check:        \n",
    "        print(elem,'.......................................Nuevo!')\n",
    "        nuevo.append(elem)\n",
    "    else:\n",
    "        print(elem,'..........................................OK')\n"
   ]
  },
  {
   "cell_type": "code",
   "execution_count": 57,
   "metadata": {},
   "outputs": [
    {
     "data": {
      "text/plain": [
       "0"
      ]
     },
     "execution_count": 57,
     "metadata": {},
     "output_type": "execute_result"
    }
   ],
   "source": [
    "len(nuevo)"
   ]
  },
  {
   "cell_type": "code",
   "execution_count": 58,
   "metadata": {},
   "outputs": [
    {
     "data": {
      "text/plain": [
       "[]"
      ]
     },
     "execution_count": 58,
     "metadata": {},
     "output_type": "execute_result"
    }
   ],
   "source": [
    "nuevo"
   ]
  },
  {
   "cell_type": "markdown",
   "metadata": {},
   "source": [
    "-----"
   ]
  },
  {
   "cell_type": "code",
   "execution_count": 59,
   "metadata": {},
   "outputs": [],
   "source": [
    "mainc = reservas['Cliente Comercial'].tolist()"
   ]
  },
  {
   "cell_type": "code",
   "execution_count": 60,
   "metadata": {},
   "outputs": [
    {
     "data": {
      "text/plain": [
       "33156"
      ]
     },
     "execution_count": 60,
     "metadata": {},
     "output_type": "execute_result"
    }
   ],
   "source": [
    "len(mainc)"
   ]
  },
  {
   "cell_type": "code",
   "execution_count": 61,
   "metadata": {},
   "outputs": [],
   "source": [
    "def channel_segmentation(df):\n",
    "    \n",
    "    df2 = df.copy()\n",
    "    \n",
    "    otas = ['AGODA COMPANY PTE','BUDGETPLACES - EDREAMS',\n",
    "        'WIS-WELCOMEBEDS',\n",
    "        'EXPEDIA',\n",
    "        'BOOKING.COM',\n",
    "        'ATRAPALO.COM,',\n",
    "        'HOTELBEDS SWITZERLAND AG',\n",
    "        'KUONI GLOBAL TRAVEL SERVICES',\n",
    "        'RTS',\n",
    "        'PRESTIGIA.COM',\n",
    "        'HOTELBEDS UK',\n",
    "        'DESTINIA',\n",
    "           'CTRIP','BOOKING.COM LIMITED',]\n",
    "\n",
    "    trad = ['DE JONG INTRA','INTEROPA HOLIDAYS LIMITED','AIC TRAVEL GROUP SA',\n",
    "        'SENSATIONS DU MONDE',\n",
    "        'EUROPE EXPRESS',\n",
    "        'SUNAIR VAKANTIES B.V.','AGENTES DE VIAJES',\n",
    "        'TRANSAT TOURS CANADA','G2 TRAVEL',\n",
    "        'GATE 1 TRAVEL','WEDGEWOOD TRAVEL',\n",
    "        'PLEASANT HOLIDAYS','BCD TRAVEL BUSINESS SPAIN',\n",
    "        'TRAVEL AGENCIES','ALPHA HOLIDAYS',\n",
    "        'V.EL CORTE INGLES','BARCELO-ALISIOS',\n",
    "        'ABBEY (UK) TRAVEL LTD','CASHEL TRAVEL',\n",
    "        'AIR CANADA VACATIONS','NAUTALIA VIAJES',\n",
    "        'LIBERATE - HOTELBEDS',\n",
    "        'TRAVEL REPUBLIC',\n",
    "        'HOTEL DIRECT','OMEGA WORLD TRAVEL',\n",
    "        'VIAGENS ABREU',\n",
    "        'JUMBO TOURS',\n",
    "           'BCD TRAVEL GERMANY',\n",
    "           'ATLAS TRAVEL SOLUTIONS',\n",
    "           'BARCELO-TRAVELSENS',\n",
    "            'CENTRAL DE VIAJES, S.A',\n",
    "           'RUPIPER TOURS']\n",
    "\n",
    "    last = ['LASTMINUTE',\n",
    "        'HOTELSCOMBINED PTY LTD.',\n",
    "        'HOTEL TONIGHT UK',\n",
    "           'HOTELTONIGHT']\n",
    "\n",
    "    ttoo = ['TUI DEUTSCHLAND','MIKI TRAVEL LTD.',\n",
    "        'TUI NEDERLAND N.V.',\n",
    "        'SUNHOTELS',\n",
    "        'TOURMUNDIAL',\n",
    "        'LUXAIR',\n",
    "        'DER TOURISTIK DEUTSCHLAND',\n",
    "        'TUI BELGIUM','FTI TOURISTIK',\n",
    "           'SUPERBREAK MINI HOLIDAYS',\n",
    "           'TRAVCO CORPORATION','TUMLARE CORPORATION A/S ADM.']\n",
    "\n",
    "    direct = ['WEB H10','H10 PREMIUM',\n",
    "          'CLUB H10',\n",
    "          'DIRECT',\n",
    "        'COMPLIMENTARY H10',\n",
    "             'DONGXIU GUO',\n",
    "             'ALESSANDRO FAEL GARCIA',\n",
    "             'CORPORACIÓN H10  HOTELS, S.L.',\n",
    "             'OCEAN HOTELS BY H10 HOTELS, S.A.',\n",
    "             'H10 COSTA ADEJE PALACE',\n",
    "         'THE ONE BARCELONA']\n",
    "\n",
    "    corp = ['D-FINE','VENUE OPTIONS LIMITED',\n",
    "         'MIGUEL TORRES,'\n",
    "        'CAPITA BUSINESS TRAVEL',\n",
    "        'FLIGHT CENTRE UK Ltd',\n",
    "        'XXL, PULSE NIGHTCLUB',\n",
    "        'TATE',\n",
    "        'PREMIER BOOKING SERVICES',\n",
    "        'ERICSSON','HILLGATE SOLUTIONS',\n",
    "        'IMG ARTISTS',\n",
    "        'BOKU NETWORK SERVICES',\n",
    "        'COMPANIES',\n",
    "        'SOUTHBANK CENTRE LIMITED',\n",
    "        'OSIRIS EDUCATIONAL WOODHALL',\n",
    "        'POLAR CAPITAL PARTNERS',\n",
    "        'CHCS CLG',\n",
    "        'CLARITY MEDICAL SYSTEMS,',\n",
    "        'EGENCIA UK',\n",
    "        'RAILWAY CHILDREN',\n",
    "        'LONDON SOUTHBANK UNIVERSITY',\n",
    "        'PRIORITY',\n",
    "        'BARINGA PARTNERS',\n",
    "        'ON THE MARKET',\n",
    "        'CHECK POINT SOFTWARE TECHNOLOGIES',\n",
    "        'ITF',\n",
    "        'ACCESS BOOKINGS',\n",
    "        'MAINTEL EUROPE',\n",
    "        'REDFERN TRAVEL',\n",
    "        \"MOVIN' MUSIC\",\n",
    "        'TRADEXFIRM INTERNATIONAL',\n",
    "        'MACCREANOR LAVINGTON',\n",
    "        'BUNDESVERWALTUNGSAMT HAMM',\n",
    "        'ELEMENTA CONSULTING',\n",
    "        'MARCH ON STRESS',\n",
    "        'ASSOCIATION FOR PUBLIC SERVICE',\n",
    "        'COMPUTACENTER',\n",
    "        'THE HOSPITAL SATURDAY FUND',\n",
    "        'IAPS',\n",
    "        'CHARTERED INST. OF ENVIRONMENTAL HE',\n",
    "        'UK POWER NETWORKS HOLDINGS',\n",
    "        'IMPEX ENTERPRISES',\n",
    "        'TELE APOSTUAK',\n",
    "        'SEACO GLOBAL LIMITED',\n",
    "        'GENERALITAT DE CATALUNYA',\n",
    "        'CODORNIU,','MIGUEL TORRES,', \n",
    "        'TIPIK COMMUNICATION AGENCY','BOOK A TABLE-LIVE BOOKINGS',\n",
    "        'MONO CONSULTANTS','FOREST TRENDS ASSOCIATION',\n",
    "        'ULSTER UNIVERSITY',\n",
    "         'FRONTIER ECONOMICS',\n",
    "         'IBERICA FOOD & CULTURE','ELEMENTAL CONSULTANCY',\n",
    "         'MEETING POINT',\n",
    "         'TRAVEL COUNSELLORS',\n",
    "         'GO AHEAD TOURS _ EF CULTURAL','PRIDEPATH (COMPUTING) LTD.',\n",
    "         'SELECTIVE TRAVEL MANAGEMENT',\n",
    "        'BRITISH EMBASSY','MANAGEMENT & TRAINING CORPORATION','NEW EVENT TRAVEL BVBA',\n",
    "        'HOTELES SILKEN',\n",
    "         'PATRONAT DE TURISME',\n",
    "         'INS. TURISMO DE LA REGION DE MURCIA','MARKETING EVENTS AND TRAVEL',\n",
    "         'VIAJES INSULAR','COMMUNITY HEALTH PARTNERSHIPS',\n",
    "        'RYANAIR',\n",
    "         'ACXIOM','ABSOLUT SPORT',\n",
    "         'DUO CONFERENCE AND EVENTS','KIDILIZ GROUP',\n",
    "         'REED AND MACKAY TRAVEL LIMITED','GRUPO DAMM,',\n",
    "         'BABCOCK',\n",
    "         'SBTECH GLOBALE ISLE OF MAN','N,EW MEDICAL SYSTEMS',\n",
    "         'ITV',\n",
    "         'EVOLUTION BOTTLING','COACHING & COACHING','CORPORATE TRAVEL SERVICES',\n",
    "        'ASSOCIACIÓ BARCELONA GLOBAL','MONTESINOS UK',\n",
    "        'ESSITY UK',\n",
    "         'ORION ENGINEERING SERVICES','MTC GROUP','SBTECH GLOBAL LIMITED SUBSIDIARY BG',\n",
    "             'SGS PACKAGING EUROPE','WI-5',\n",
    "         'COLLEGE OF OPTOMETRISTS','NEW MEDICAL SYSTEMS',\n",
    "         'HLMAD','COMMUN,ITY HEALTH PARTNERSHIPS','AMEX-BARCELO', 'IPINNACLE',\n",
    "         'PEABODY','DAVIES GROUP',\n",
    "         'JOSEPH JOSEPH', 'SPECSAVERS OPTICAL SUPERSTORES',\n",
    "            'SOFIGATE LIMITED','CVC BRASIL OPERADORA',\n",
    "         'SONY EUROPE BV','EVONIK UK HOLDINGS LIMITED',\n",
    "            'BCO CONGRESS','BLACK SPARROW LTD',\n",
    "         'EXCITE HOLIDAYS PTE, LTD','IFFO',\n",
    "         'TURISME DE BARCELONA','YOUNG VIC COMPANY',\n",
    "         'BINDERHOLZ UK','THE INDEPENDENT HOTEL RESERVATIONS',\n",
    "           'HRG UK - MEETINGS, GROUPS & EVENTS',\n",
    "         'THE KNIGHTS OF THE HOLY SEPULCHRE','NYS GROUP',\n",
    "     'RESEARCH NOW',\n",
    "     'MABROUKA EVENTS',\n",
    "     'ARK GROUP DMCC',\n",
    "     'COMPUTACENTER AG & CO.OHG',\n",
    "     'FOREIGN AND COMMONWEALTH OFFICE',\n",
    "         'MARC GUITART',\n",
    "     'FORETAGSEKONOMISKA INSTITUTET 1888',\n",
    "     'CWT MEETING UND EVENTS',\n",
    "     'LEADING LOCATIONS',\n",
    "     'OSBORNE DISTRIBUIDORA',\n",
    "     'LA OTRA IBIZA',\n",
    "     'NAUTILUS INTERNATIONAL',\n",
    "     'INVER.COM.DIAGONAL, S.L.',\n",
    "     'FIELDGLASS',\n",
    "     'CARLOS MONTESINOS CARMONA',\n",
    "     'MGM MONDO DEL VINO',\n",
    "     'TRAVEL COUNSELLORS LOUISE CUTTING',\n",
    "     'CLUB HAUS AN DE SAUERWISEN',\n",
    "     'CHOICE SUPPORT',\n",
    "     'INTERNATIONAL FEDERATION OF',\n",
    "       'CAPITA BUSINESS TRAVEL']\n",
    "    \n",
    "\n",
    "    gds = ['TRAVELCLICK',\n",
    "       'HRS PAYMENT SOLUTIONS GMBH',\n",
    "       'CLICK TRAVEL',\n",
    "       'HRS',\n",
    "       'KEYTEL',\n",
    "       'CWT GLOBAL ESPAÑA']\n",
    "\n",
    "    flash = ['VOYAGE PRIVE ITALIA',\n",
    "         'RED LETTER DAYS',\n",
    "         'BONGO',\n",
    "         'VOYAGE PRIVE UK',\n",
    "         'VOYAGE PRIVE FRANCIA',\n",
    "         'SECRET ESCAPES',\n",
    "         'VOYAGE PRIVE ESPAÑA S.L.U.',\n",
    "         'LUXURY ESCAPES TRAVEL',\n",
    "            'SMARTBOX']\n",
    "    \n",
    "    df2['Market channel'] = np.where(df2['Cliente Comercial'].isin(otas),'OTA',\n",
    "             np.where(df2['Cliente Comercial'].isin(trad),'Travel agency',\n",
    "                      np.where(df2['Cliente Comercial'].isin(last),'Hotel deal apps',\n",
    "                               np.where(df2['Cliente Comercial'].isin(ttoo),'TTOO',\n",
    "                                        np.where(df2['Cliente Comercial'].isin(corp),'Corporate / Mice',\n",
    "                                                 np.where(df2['Cliente Comercial'].isin(direct),'Direct / Walk-in',\n",
    "                                                          np.where(df2['Cliente Comercial'].isin(gds),'GDS',\n",
    "                                                                   np.where(df2['Cliente Comercial'].isin(flash),'Flash / Boxes','Other'))))))))\n",
    "    \n",
    "    \n",
    "            \n",
    "    return df2\n",
    "\n",
    "reservas = channel_segmentation(reservas)"
   ]
  },
  {
   "cell_type": "code",
   "execution_count": 63,
   "metadata": {
    "scrolled": true
   },
   "outputs": [
    {
     "data": {
      "text/html": [
       "<div>\n",
       "<style scoped>\n",
       "    .dataframe tbody tr th:only-of-type {\n",
       "        vertical-align: middle;\n",
       "    }\n",
       "\n",
       "    .dataframe tbody tr th {\n",
       "        vertical-align: top;\n",
       "    }\n",
       "\n",
       "    .dataframe thead th {\n",
       "        text-align: right;\n",
       "    }\n",
       "</style>\n",
       "<table border=\"1\" class=\"dataframe\">\n",
       "  <thead>\n",
       "    <tr style=\"text-align: right;\">\n",
       "      <th></th>\n",
       "      <th>Numero Reserva</th>\n",
       "      <th>Cliente Comercial</th>\n",
       "      <th>Fecha llegada</th>\n",
       "      <th>Fecha de salida</th>\n",
       "      <th>Tipo de habitación</th>\n",
       "      <th>Estado</th>\n",
       "      <th>Identificador régimen alimenticio</th>\n",
       "      <th>Tarifa</th>\n",
       "      <th>Fecha de Creación</th>\n",
       "      <th>Nº de pax del tipo 1 alojados</th>\n",
       "      <th>Fecha de cancelación</th>\n",
       "      <th>VIP</th>\n",
       "      <th>Identificador segmento de mercado</th>\n",
       "      <th>Identificador procedencia de negocio</th>\n",
       "      <th>País</th>\n",
       "      <th>Identificador de canal</th>\n",
       "      <th>Status</th>\n",
       "      <th>Cancelled</th>\n",
       "      <th>Market channel</th>\n",
       "    </tr>\n",
       "  </thead>\n",
       "  <tbody>\n",
       "    <tr>\n",
       "      <th>0</th>\n",
       "      <td>4193691</td>\n",
       "      <td>BOOKING.COM</td>\n",
       "      <td>1/1/2019</td>\n",
       "      <td>7/1/2019</td>\n",
       "      <td>DBLSTD</td>\n",
       "      <td>Cancelada</td>\n",
       "      <td>BB</td>\n",
       "      <td>X_BAR</td>\n",
       "      <td>27/7/2018</td>\n",
       "      <td>1</td>\n",
       "      <td>27/7/2018</td>\n",
       "      <td>NaN</td>\n",
       "      <td>ONL</td>\n",
       "      <td>ONL</td>\n",
       "      <td>NaN</td>\n",
       "      <td>XML</td>\n",
       "      <td>Cancelled</td>\n",
       "      <td>1</td>\n",
       "      <td>OTA</td>\n",
       "    </tr>\n",
       "    <tr>\n",
       "      <th>2</th>\n",
       "      <td>4438480</td>\n",
       "      <td>MIKI TRAVEL LTD.</td>\n",
       "      <td>1/1/2019</td>\n",
       "      <td>3/1/2019</td>\n",
       "      <td>TPLSTD</td>\n",
       "      <td>Cancelada</td>\n",
       "      <td>BB</td>\n",
       "      <td>F_W18_S19</td>\n",
       "      <td>8/10/2018</td>\n",
       "      <td>3</td>\n",
       "      <td>12/10/2018</td>\n",
       "      <td>NaN</td>\n",
       "      <td>TTOO</td>\n",
       "      <td>NO</td>\n",
       "      <td>GB</td>\n",
       "      <td>EMAIL</td>\n",
       "      <td>Cancelled</td>\n",
       "      <td>1</td>\n",
       "      <td>TTOO</td>\n",
       "    </tr>\n",
       "    <tr>\n",
       "      <th>3</th>\n",
       "      <td>4472440</td>\n",
       "      <td>BOOKING.COM</td>\n",
       "      <td>1/1/2019</td>\n",
       "      <td>13/1/2019</td>\n",
       "      <td>DBLSTD</td>\n",
       "      <td>Cancelada</td>\n",
       "      <td>BB</td>\n",
       "      <td>X_BAR</td>\n",
       "      <td>17/10/2018</td>\n",
       "      <td>2</td>\n",
       "      <td>18/10/2018</td>\n",
       "      <td>NaN</td>\n",
       "      <td>ONL</td>\n",
       "      <td>ONL</td>\n",
       "      <td>NaN</td>\n",
       "      <td>XML</td>\n",
       "      <td>Cancelled</td>\n",
       "      <td>1</td>\n",
       "      <td>OTA</td>\n",
       "    </tr>\n",
       "    <tr>\n",
       "      <th>4</th>\n",
       "      <td>4563806</td>\n",
       "      <td>SUNHOTELS</td>\n",
       "      <td>1/1/2019</td>\n",
       "      <td>6/1/2019</td>\n",
       "      <td>DBLSTD</td>\n",
       "      <td>Cancelada</td>\n",
       "      <td>BB</td>\n",
       "      <td>F_W18_S19</td>\n",
       "      <td>12/11/2018</td>\n",
       "      <td>2</td>\n",
       "      <td>13/11/2018</td>\n",
       "      <td>NaN</td>\n",
       "      <td>TTOO</td>\n",
       "      <td>NO</td>\n",
       "      <td>AE</td>\n",
       "      <td>EMAIL</td>\n",
       "      <td>Cancelled</td>\n",
       "      <td>1</td>\n",
       "      <td>TTOO</td>\n",
       "    </tr>\n",
       "    <tr>\n",
       "      <th>5</th>\n",
       "      <td>4567131</td>\n",
       "      <td>SUNHOTELS</td>\n",
       "      <td>1/1/2019</td>\n",
       "      <td>6/1/2019</td>\n",
       "      <td>DBLSTD</td>\n",
       "      <td>Cancelada</td>\n",
       "      <td>BB</td>\n",
       "      <td>F_W18_S19</td>\n",
       "      <td>13/11/2018</td>\n",
       "      <td>2</td>\n",
       "      <td>16/11/2018</td>\n",
       "      <td>NaN</td>\n",
       "      <td>TTOO</td>\n",
       "      <td>NO</td>\n",
       "      <td>AE</td>\n",
       "      <td>EMAIL</td>\n",
       "      <td>Cancelled</td>\n",
       "      <td>1</td>\n",
       "      <td>TTOO</td>\n",
       "    </tr>\n",
       "  </tbody>\n",
       "</table>\n",
       "</div>"
      ],
      "text/plain": [
       "   Numero Reserva Cliente Comercial Fecha llegada Fecha de salida  \\\n",
       "0         4193691       BOOKING.COM      1/1/2019        7/1/2019   \n",
       "2         4438480  MIKI TRAVEL LTD.      1/1/2019        3/1/2019   \n",
       "3         4472440       BOOKING.COM      1/1/2019       13/1/2019   \n",
       "4         4563806         SUNHOTELS      1/1/2019        6/1/2019   \n",
       "5         4567131         SUNHOTELS      1/1/2019        6/1/2019   \n",
       "\n",
       "  Tipo de habitación     Estado Identificador régimen alimenticio     Tarifa  \\\n",
       "0             DBLSTD  Cancelada                                BB      X_BAR   \n",
       "2             TPLSTD  Cancelada                                BB  F_W18_S19   \n",
       "3             DBLSTD  Cancelada                                BB      X_BAR   \n",
       "4             DBLSTD  Cancelada                                BB  F_W18_S19   \n",
       "5             DBLSTD  Cancelada                                BB  F_W18_S19   \n",
       "\n",
       "  Fecha de Creación  Nº de pax del tipo 1 alojados Fecha de cancelación  VIP  \\\n",
       "0         27/7/2018                              1            27/7/2018  NaN   \n",
       "2         8/10/2018                              3           12/10/2018  NaN   \n",
       "3        17/10/2018                              2           18/10/2018  NaN   \n",
       "4        12/11/2018                              2           13/11/2018  NaN   \n",
       "5        13/11/2018                              2           16/11/2018  NaN   \n",
       "\n",
       "  Identificador segmento de mercado Identificador procedencia de negocio País  \\\n",
       "0                               ONL                                  ONL  NaN   \n",
       "2                              TTOO                                   NO   GB   \n",
       "3                               ONL                                  ONL  NaN   \n",
       "4                              TTOO                                   NO   AE   \n",
       "5                              TTOO                                   NO   AE   \n",
       "\n",
       "  Identificador de canal     Status  Cancelled Market channel  \n",
       "0                    XML  Cancelled          1            OTA  \n",
       "2                  EMAIL  Cancelled          1           TTOO  \n",
       "3                    XML  Cancelled          1            OTA  \n",
       "4                  EMAIL  Cancelled          1           TTOO  \n",
       "5                  EMAIL  Cancelled          1           TTOO  "
      ]
     },
     "execution_count": 63,
     "metadata": {},
     "output_type": "execute_result"
    }
   ],
   "source": [
    "reservas.head()"
   ]
  },
  {
   "cell_type": "code",
   "execution_count": 64,
   "metadata": {},
   "outputs": [],
   "source": [
    "seg = reservas['Market channel'].value_counts()"
   ]
  },
  {
   "cell_type": "markdown",
   "metadata": {},
   "source": [
    "### **Charts**"
   ]
  },
  {
   "cell_type": "code",
   "execution_count": 65,
   "metadata": {},
   "outputs": [
    {
     "data": {
      "image/png": "[encoded data removed]",
      "text/plain": [
       "<Figure size 720x576 with 1 Axes>"
      ]
     },
     "metadata": {},
     "output_type": "display_data"
    }
   ],
   "source": [
    "fg,ax = plt.subplots(figsize=(10, 8))\n",
    "\n",
    "plt.pie(seg,autopct='%1.1f%%')\n",
    "plt.title('Market channel')\n",
    "\n",
    "plt.show()"
   ]
  },
  {
   "cell_type": "code",
   "execution_count": null,
   "metadata": {},
   "outputs": [],
   "source": [
    "import matplotlib.style as style\n",
    "style.available"
   ]
  },
  {
   "cell_type": "code",
   "execution_count": null,
   "metadata": {},
   "outputs": [],
   "source": [
    "style.use('seaborn-poster') #sets the size of the charts\n",
    "style.use('seaborn')"
   ]
  },
  {
   "cell_type": "code",
   "execution_count": null,
   "metadata": {},
   "outputs": [],
   "source": [
    "colorname = []\n",
    "colorid = []\n",
    "\n",
    "import matplotlib\n",
    "for name, hex in matplotlib.colors.cnames.items():\n",
    "    colorname.append(name)\n",
    "    colorid.append(hex)"
   ]
  },
  {
   "cell_type": "code",
   "execution_count": null,
   "metadata": {},
   "outputs": [],
   "source": [
    "zippedcolors = list(zip(colorname, colorid))\n",
    "zippedcolors = sorted(zippedcolors, key=lambda x: x[1])"
   ]
  },
  {
   "cell_type": "code",
   "execution_count": null,
   "metadata": {},
   "outputs": [],
   "source": [
    "zippedcolors "
   ]
  },
  {
   "cell_type": "code",
   "execution_count": null,
   "metadata": {
    "scrolled": true
   },
   "outputs": [],
   "source": [
    "[f.name for f in matplotlib.font_manager.fontManager.afmlist]"
   ]
  },
  {
   "cell_type": "code",
   "execution_count": 68,
   "metadata": {},
   "outputs": [
    {
     "data": {
      "image/png": "[encoded data removed]",
      "text/plain": [
       "<Figure size 1368x936 with 1 Axes>"
      ]
     },
     "metadata": {
      "needs_background": "light"
     },
     "output_type": "display_data"
    }
   ],
   "source": [
    "plt.rcParams['font.family'] = 'sans-serif'\n",
    "plt.rcParams['font.sans-serif'] = ['Tahoma']\n",
    "\n",
    "\n",
    "fg,ax = plt.subplots(figsize=(19,13))\n",
    "sns.barplot(x=seg.index,y=seg)\n",
    "sns.color_palette(\"Paired\")\n",
    "plt.title('Market segmentation 2019',fontsize = 30, weight = 'bold')\n",
    "plt.xlabel('Market segment', fontsize = 20, weight = 'bold')\n",
    "\n",
    "plt.savefig(r'../charts/Market_channel_segmentation_2019')"
   ]
  },
  {
   "cell_type": "markdown",
   "metadata": {},
   "source": [
    "---"
   ]
  },
  {
   "cell_type": "markdown",
   "metadata": {},
   "source": [
    "## **Arrival date / departure**"
   ]
  },
  {
   "cell_type": "markdown",
   "metadata": {},
   "source": [
    "Substracting the arrival date to the departure date"
   ]
  },
  {
   "cell_type": "code",
   "execution_count": 69,
   "metadata": {},
   "outputs": [
    {
     "data": {
      "text/plain": [
       "Numero Reserva                              0\n",
       "Cliente Comercial                           0\n",
       "Fecha llegada                               0\n",
       "Fecha de salida                             0\n",
       "Tipo de habitación                          0\n",
       "Estado                                      0\n",
       "Identificador régimen alimenticio           0\n",
       "Tarifa                                     89\n",
       "Fecha de Creación                           0\n",
       "Nº de pax del tipo 1 alojados               0\n",
       "Fecha de cancelación                    26970\n",
       "VIP                                     29169\n",
       "Identificador segmento de mercado           0\n",
       "Identificador procedencia de negocio        0\n",
       "País                                     4629\n",
       "Identificador de canal                      0\n",
       "Status                                      0\n",
       "Cancelled                                   0\n",
       "Market channel                              0\n",
       "dtype: int64"
      ]
     },
     "execution_count": 69,
     "metadata": {},
     "output_type": "execute_result"
    }
   ],
   "source": [
    "reservas.isna().sum()"
   ]
  },
  {
   "cell_type": "code",
   "execution_count": 70,
   "metadata": {},
   "outputs": [],
   "source": [
    "reservas[\"Arrival\"]= pd.to_datetime(reservas['Fecha llegada'],dayfirst=True)\n",
    "reservas[\"Departure\"]= pd.to_datetime(reservas['Fecha de salida'],dayfirst=True)\n",
    "\n",
    "reservas[\"Creation date\"]= pd.to_datetime(reservas[\"Fecha de Creación\"],dayfirst=True)\n",
    "reservas[\"Cancellation date\"]= pd.to_datetime(reservas[\"Fecha de cancelación\"],dayfirst=True)"
   ]
  },
  {
   "cell_type": "markdown",
   "metadata": {},
   "source": [
    "### Length of the stay"
   ]
  },
  {
   "cell_type": "markdown",
   "metadata": {},
   "source": [
    "Converting date columns to date type"
   ]
  },
  {
   "cell_type": "code",
   "execution_count": 71,
   "metadata": {},
   "outputs": [],
   "source": [
    "reservas['Length of the stay'] = (reservas['Departure'] - reservas['Arrival']).dt.days"
   ]
  },
  {
   "cell_type": "code",
   "execution_count": 72,
   "metadata": {},
   "outputs": [
    {
     "data": {
      "text/plain": [
       "array([ 6,  2, 12,  5,  3,  4,  7, 11,  1, 14, 13, 10,  9, 15,  8, 20,  0,\n",
       "       29, 17, 30, 21], dtype=int64)"
      ]
     },
     "execution_count": 72,
     "metadata": {},
     "output_type": "execute_result"
    }
   ],
   "source": [
    "reservas['Length of the stay'].unique()"
   ]
  },
  {
   "cell_type": "code",
   "execution_count": 73,
   "metadata": {},
   "outputs": [
    {
     "data": {
      "text/plain": [
       "2.1802991916998433"
      ]
     },
     "execution_count": 73,
     "metadata": {},
     "output_type": "execute_result"
    }
   ],
   "source": [
    "reservas['Length of the stay'].mean()"
   ]
  },
  {
   "cell_type": "code",
   "execution_count": 74,
   "metadata": {},
   "outputs": [
    {
     "data": {
      "image/png": "[encoded data removed]",
      "text/plain": [
       "<Figure size 1296x648 with 1 Axes>"
      ]
     },
     "metadata": {
      "needs_background": "light"
     },
     "output_type": "display_data"
    }
   ],
   "source": [
    "leng = reservas['Length of the stay'].value_counts()\n",
    "\n",
    "fg,ax = plt.subplots(figsize=(18,9))\n",
    "\n",
    "sns.barplot(x=leng.index,y=leng,capsize=7.0)\n",
    "plt.title('Length of the stay')\n",
    "\n",
    "plt.show()"
   ]
  },
  {
   "cell_type": "markdown",
   "metadata": {},
   "source": [
    "---"
   ]
  },
  {
   "cell_type": "markdown",
   "metadata": {},
   "source": [
    "### Cancellation lead time"
   ]
  },
  {
   "cell_type": "markdown",
   "metadata": {},
   "source": [
    "Days transcurred between the **cancellation date** and the **arrival date** "
   ]
  },
  {
   "cell_type": "code",
   "execution_count": 75,
   "metadata": {},
   "outputs": [],
   "source": [
    "reservas['Cancellation lead time'] = (reservas['Arrival'] - reservas['Cancellation date']).dt.days"
   ]
  },
  {
   "cell_type": "code",
   "execution_count": 76,
   "metadata": {},
   "outputs": [
    {
     "data": {
      "text/plain": [
       "59.22825735531846"
      ]
     },
     "execution_count": 76,
     "metadata": {},
     "output_type": "execute_result"
    }
   ],
   "source": [
    "reservas['Cancellation lead time'].mean()"
   ]
  },
  {
   "cell_type": "code",
   "execution_count": 77,
   "metadata": {},
   "outputs": [],
   "source": [
    "cxldays = reservas['Cancellation lead time'].value_counts()"
   ]
  },
  {
   "cell_type": "code",
   "execution_count": 78,
   "metadata": {},
   "outputs": [
    {
     "data": {
      "image/png": "[encoded data removed]",
      "text/plain": [
       "<Figure size 720x360 with 1 Axes>"
      ]
     },
     "metadata": {
      "needs_background": "light"
     },
     "output_type": "display_data"
    }
   ],
   "source": [
    "fg,ax = plt.subplots(figsize=(10,5))\n",
    "\n",
    "sns.barplot(x=cxldays.index,y=cxldays)\n",
    "plt.title('Cancellation lead time (days)')\n",
    "\n",
    "plt.show()"
   ]
  },
  {
   "cell_type": "markdown",
   "metadata": {},
   "source": [
    "---"
   ]
  },
  {
   "cell_type": "markdown",
   "metadata": {},
   "source": [
    "### Lead Time"
   ]
  },
  {
   "cell_type": "markdown",
   "metadata": {},
   "source": [
    "Days transcurred btw **booking** and the **arrival date**"
   ]
  },
  {
   "cell_type": "code",
   "execution_count": 79,
   "metadata": {},
   "outputs": [],
   "source": [
    "reservas['Lead time'] = (reservas['Arrival'] - reservas['Creation date']).dt.days"
   ]
  },
  {
   "cell_type": "code",
   "execution_count": 80,
   "metadata": {},
   "outputs": [],
   "source": [
    "lead = reservas['Lead time'].value_counts()"
   ]
  },
  {
   "cell_type": "code",
   "execution_count": 81,
   "metadata": {},
   "outputs": [
    {
     "data": {
      "text/plain": [
       "74.51628664495114"
      ]
     },
     "execution_count": 81,
     "metadata": {},
     "output_type": "execute_result"
    }
   ],
   "source": [
    "reservas['Lead time'].mean()"
   ]
  },
  {
   "cell_type": "code",
   "execution_count": 82,
   "metadata": {},
   "outputs": [
    {
     "data": {
      "image/png": "[encoded data removed]",
      "text/plain": [
       "<Figure size 720x360 with 1 Axes>"
      ]
     },
     "metadata": {
      "needs_background": "light"
     },
     "output_type": "display_data"
    }
   ],
   "source": [
    "fg,ax = plt.subplots(figsize=(10,5))\n",
    "\n",
    "sns.barplot(x=lead.index,y=lead)\n",
    "plt.title('Lead time (Days transcurred between creation and arrival)')\n",
    "\n",
    "plt.show()"
   ]
  },
  {
   "cell_type": "markdown",
   "metadata": {},
   "source": [
    "### Cancellation after booking"
   ]
  },
  {
   "cell_type": "markdown",
   "metadata": {},
   "source": [
    "Days transcurred btw **booking date** and the **cancelation date**"
   ]
  },
  {
   "cell_type": "code",
   "execution_count": 83,
   "metadata": {},
   "outputs": [],
   "source": [
    "reservas['Cxl time'] = (reservas['Cancellation date'] - reservas['Creation date']).dt.days"
   ]
  },
  {
   "cell_type": "code",
   "execution_count": 84,
   "metadata": {},
   "outputs": [
    {
     "data": {
      "text/plain": [
       "44.123019721952794"
      ]
     },
     "execution_count": 84,
     "metadata": {},
     "output_type": "execute_result"
    }
   ],
   "source": [
    "reservas['Cxl time'].mean()"
   ]
  },
  {
   "cell_type": "code",
   "execution_count": 85,
   "metadata": {},
   "outputs": [],
   "source": [
    "cancel_days = reservas['Cxl time'].value_counts()"
   ]
  },
  {
   "cell_type": "code",
   "execution_count": 86,
   "metadata": {},
   "outputs": [
    {
     "data": {
      "image/png": "[encoded data removed]",
      "text/plain": [
       "<Figure size 720x360 with 1 Axes>"
      ]
     },
     "metadata": {
      "needs_background": "light"
     },
     "output_type": "display_data"
    }
   ],
   "source": [
    "fg,ax = plt.subplots(figsize=(10,5))\n",
    "\n",
    "sns.barplot(x=cancel_days.index,y=cancel_days)\n",
    "plt.title('Days transcurred from booking date and the cancelation date')\n",
    "\n",
    "plt.show()"
   ]
  },
  {
   "cell_type": "markdown",
   "metadata": {},
   "source": [
    "### Weekend or not weekend"
   ]
  },
  {
   "cell_type": "code",
   "execution_count": 87,
   "metadata": {},
   "outputs": [],
   "source": [
    "reservas['Arrival_day'] = np.where(reservas['Arrival'].dt.dayofweek.isin([0,1,2,3,4]),'L','W')\n",
    "\n",
    "reservas['Departure_day'] = np.where(reservas['Departure'].dt.dayofweek.isin([0,1,2,3,4]),'L','W')\n",
    "\n",
    "reservas['Stay type'] = reservas['Departure_day'] + '-' + reservas['Arrival_day']"
   ]
  },
  {
   "cell_type": "markdown",
   "metadata": {},
   "source": [
    "Checking if the stay is falling on the weekend on the L-L reservations"
   ]
  },
  {
   "cell_type": "code",
   "execution_count": 88,
   "metadata": {},
   "outputs": [],
   "source": [
    "ar_date = reservas[reservas['Stay type'] == 'L-L']['Arrival'].to_list()\n",
    "lenght_stay = reservas[reservas['Stay type'] == 'L-L']['Length of the stay'].to_list()"
   ]
  },
  {
   "cell_type": "code",
   "execution_count": 89,
   "metadata": {},
   "outputs": [],
   "source": [
    "L_W_L = []\n",
    "\n",
    "for i in range(len(ar_date)):\n",
    "    \n",
    "    weekend_in = False\n",
    "    \n",
    "    for l in range(lenght_stay[i]):\n",
    "        \n",
    "        if ar_date[i].weekday()+l in [5,6]:\n",
    "            \n",
    "            weekend_in = True\n",
    "            \n",
    "        \n",
    "    L_W_L.append(weekend_in)\n",
    "        \n",
    " "
   ]
  },
  {
   "cell_type": "code",
   "execution_count": 90,
   "metadata": {},
   "outputs": [],
   "source": [
    "reservas.loc[reservas['Stay type'] == 'L-L','Stay type'] = np.where(L_W_L,'L-W-L','L-L')"
   ]
  },
  {
   "cell_type": "code",
   "execution_count": 91,
   "metadata": {},
   "outputs": [],
   "source": [
    "stay_type = reservas['Stay type'].value_counts()"
   ]
  },
  {
   "cell_type": "code",
   "execution_count": 92,
   "metadata": {},
   "outputs": [
    {
     "data": {
      "image/png": "[encoded data removed]",
      "text/plain": [
       "<Figure size 720x360 with 1 Axes>"
      ]
     },
     "metadata": {
      "needs_background": "light"
     },
     "output_type": "display_data"
    }
   ],
   "source": [
    "fg,ax = plt.subplots(figsize=(10,5))\n",
    "\n",
    "sns.barplot(x=stay_type.index,y=stay_type)\n",
    "plt.title('Types of stay')\n",
    "\n",
    "plt.show()"
   ]
  },
  {
   "cell_type": "markdown",
   "metadata": {},
   "source": [
    "---"
   ]
  },
  {
   "cell_type": "markdown",
   "metadata": {},
   "source": [
    "### Arrival month"
   ]
  },
  {
   "cell_type": "markdown",
   "metadata": {},
   "source": [
    "**Month**, in order to display the date by month"
   ]
  },
  {
   "cell_type": "code",
   "execution_count": 93,
   "metadata": {},
   "outputs": [],
   "source": [
    "reservas['Arrival month'] = reservas['Arrival'].dt.month"
   ]
  },
  {
   "cell_type": "code",
   "execution_count": 94,
   "metadata": {},
   "outputs": [
    {
     "data": {
      "text/plain": [
       "array([ 1,  2,  3,  4,  5,  6,  7,  8,  9, 10, 11, 12], dtype=int64)"
      ]
     },
     "execution_count": 94,
     "metadata": {},
     "output_type": "execute_result"
    }
   ],
   "source": [
    "reservas['Arrival month'].unique()"
   ]
  },
  {
   "cell_type": "code",
   "execution_count": 95,
   "metadata": {},
   "outputs": [
    {
     "data": {
      "text/plain": [
       "11    3537\n",
       "12    3234\n",
       "10    3054\n",
       "6     2781\n",
       "9     2752\n",
       "7     2741\n",
       "3     2648\n",
       "5     2633\n",
       "8     2599\n",
       "1     2468\n",
       "4     2414\n",
       "2     2295\n",
       "Name: Arrival month, dtype: int64"
      ]
     },
     "execution_count": 95,
     "metadata": {},
     "output_type": "execute_result"
    }
   ],
   "source": [
    "reservas['Arrival month'].value_counts()"
   ]
  },
  {
   "cell_type": "code",
   "execution_count": 97,
   "metadata": {},
   "outputs": [
    {
     "data": {
      "image/png": "[encoded data removed]",
      "text/plain": [
       "<Figure size 1296x648 with 1 Axes>"
      ]
     },
     "metadata": {
      "needs_background": "light"
     },
     "output_type": "display_data"
    }
   ],
   "source": [
    "month = reservas['Arrival month'].value_counts()\n",
    "\n",
    "fg,ax = plt.subplots(figsize=(18,9))\n",
    "\n",
    "sns.barplot(x=month.index,y=month,palette=\"vlag\",capsize=5.0)\n",
    "plt.title('Arrival month')\n",
    "\n",
    "plt.show()"
   ]
  },
  {
   "cell_type": "code",
   "execution_count": 99,
   "metadata": {},
   "outputs": [
    {
     "data": {
      "text/plain": [
       "<AxesSubplot:xlabel='Arrival month', ylabel='count'>"
      ]
     },
     "execution_count": 99,
     "metadata": {},
     "output_type": "execute_result"
    },
    {
     "data": {
      "image/png": "[encoded data removed]",
      "text/plain": [
       "<Figure size 1296x648 with 1 Axes>"
      ]
     },
     "metadata": {
      "needs_background": "light"
     },
     "output_type": "display_data"
    }
   ],
   "source": [
    "fg,ax = plt.subplots(figsize=(18,9))\n",
    "\n",
    "sns.countplot(x=\"Arrival month\",hue='Status',data=reservas)"
   ]
  },
  {
   "cell_type": "markdown",
   "metadata": {},
   "source": [
    "---"
   ]
  },
  {
   "cell_type": "markdown",
   "metadata": {},
   "source": [
    "## **Room type**"
   ]
  },
  {
   "cell_type": "markdown",
   "metadata": {},
   "source": [
    "Room type grouped and with more understable names"
   ]
  },
  {
   "cell_type": "code",
   "execution_count": 101,
   "metadata": {},
   "outputs": [],
   "source": [
    "roomtype = reservas['Tipo de habitación'].tolist()"
   ]
  },
  {
   "cell_type": "code",
   "execution_count": 102,
   "metadata": {},
   "outputs": [
    {
     "data": {
      "text/plain": [
       "33156"
      ]
     },
     "execution_count": 102,
     "metadata": {},
     "output_type": "execute_result"
    }
   ],
   "source": [
    "len(roomtype)"
   ]
  },
  {
   "cell_type": "code",
   "execution_count": 103,
   "metadata": {},
   "outputs": [
    {
     "data": {
      "text/plain": [
       "DBLSTD       26905\n",
       "DBLSTDST      2366\n",
       "DBLDLX        1650\n",
       "DBLSTD__2     1009\n",
       "TPLSTD         890\n",
       "DBLSUP         266\n",
       "JRSSTD          58\n",
       "DBLDLX__2        9\n",
       "TPLSTD__2        1\n",
       "DBLSTDST2        1\n",
       "DBLSTD__1        1\n",
       "Name: Tipo de habitación, dtype: int64"
      ]
     },
     "execution_count": 103,
     "metadata": {},
     "output_type": "execute_result"
    }
   ],
   "source": [
    "reservas['Tipo de habitación'].value_counts()"
   ]
  },
  {
   "cell_type": "code",
   "execution_count": 104,
   "metadata": {},
   "outputs": [],
   "source": [
    "roomtypeok = []\n",
    "\n",
    "for elem in roomtype:\n",
    "    if elem == 'DBLDLX':        \n",
    "        roomtypeok.append(elem.replace(elem,'Double Deluxe'))\n",
    "    if elem == 'DBLSTD':\n",
    "        roomtypeok.append(elem.replace(elem,'Double Standard'))\n",
    "    if elem == 'TPLSTD':\n",
    "        roomtypeok.append(elem.replace(elem,'Triple Standard'))\n",
    "    if elem == 'DBLSTDST':\n",
    "        roomtypeok.append(elem.replace(elem,'Double Standard City View'))\n",
    "    if elem == 'DBLSUP':\n",
    "        roomtypeok.append(elem.replace(elem,'Double London Eye view'))\n",
    "    if elem == 'DBLSTD__2':\n",
    "        roomtypeok.append(elem.replace(elem,'Double Standard'))\n",
    "    if elem == 'JRSSTD':\n",
    "        roomtypeok.append(elem.replace(elem,'Junior Suite'))\n",
    "    if elem == 'TPLSTD__2':\n",
    "        roomtypeok.append(elem.replace(elem,'Triple Standard'))\n",
    "    if elem == 'DBLDLX__2':        \n",
    "        roomtypeok.append(elem.replace(elem,'Double Deluxe'))\n",
    "    if elem == 'DBLSTDST2':\n",
    "        roomtypeok.append(elem.replace(elem,'Double Standard City View'))\n",
    "    if elem == 'DBLSTD__1':\n",
    "        roomtypeok.append(elem.replace(elem,'Double Standard'))\n",
    "    "
   ]
  },
  {
   "cell_type": "code",
   "execution_count": 105,
   "metadata": {},
   "outputs": [
    {
     "data": {
      "text/plain": [
       "33156"
      ]
     },
     "execution_count": 105,
     "metadata": {},
     "output_type": "execute_result"
    }
   ],
   "source": [
    "len(roomtypeok)"
   ]
  },
  {
   "cell_type": "code",
   "execution_count": 106,
   "metadata": {},
   "outputs": [],
   "source": [
    "reservas['Room type'] = roomtypeok"
   ]
  },
  {
   "cell_type": "code",
   "execution_count": 107,
   "metadata": {},
   "outputs": [
    {
     "data": {
      "image/png": "[encoded data removed]",
      "text/plain": [
       "<Figure size 1296x648 with 1 Axes>"
      ]
     },
     "metadata": {
      "needs_background": "light"
     },
     "output_type": "display_data"
    }
   ],
   "source": [
    "room = reservas['Room type'].value_counts()\n",
    "\n",
    "fg,ax = plt.subplots(figsize=(18,9))\n",
    "\n",
    "sns.barplot(x=room.index,y=room,palette=\"vlag\",capsize=7.0)\n",
    "plt.title('Reservations per room type')\n",
    "\n",
    "plt.show()"
   ]
  },
  {
   "cell_type": "markdown",
   "metadata": {},
   "source": [
    "------"
   ]
  },
  {
   "cell_type": "markdown",
   "metadata": {},
   "source": [
    "## **Rate**"
   ]
  },
  {
   "cell_type": "code",
   "execution_count": 108,
   "metadata": {},
   "outputs": [
    {
     "data": {
      "text/plain": [
       "Numero Reserva                                   int64\n",
       "Cliente Comercial                               object\n",
       "Fecha llegada                                   object\n",
       "Fecha de salida                                 object\n",
       "Tipo de habitación                              object\n",
       "Estado                                          object\n",
       "Identificador régimen alimenticio               object\n",
       "Tarifa                                          object\n",
       "Fecha de Creación                               object\n",
       "Nº de pax del tipo 1 alojados                    int64\n",
       "Fecha de cancelación                            object\n",
       "VIP                                             object\n",
       "Identificador segmento de mercado               object\n",
       "Identificador procedencia de negocio            object\n",
       "País                                            object\n",
       "Identificador de canal                          object\n",
       "Status                                          object\n",
       "Cancelled                                        int64\n",
       "Market channel                                  object\n",
       "Arrival                                 datetime64[ns]\n",
       "Departure                               datetime64[ns]\n",
       "Creation date                           datetime64[ns]\n",
       "Cancellation date                       datetime64[ns]\n",
       "Length of the stay                               int64\n",
       "Cancellation lead time                         float64\n",
       "Lead time                                        int64\n",
       "Cxl time                                       float64\n",
       "Arrival_day                                     object\n",
       "Departure_day                                   object\n",
       "Stay type                                       object\n",
       "Arrival month                                    int64\n",
       "Room type                                       object\n",
       "dtype: object"
      ]
     },
     "execution_count": 108,
     "metadata": {},
     "output_type": "execute_result"
    }
   ],
   "source": [
    "reservas.dtypes"
   ]
  },
  {
   "cell_type": "code",
   "execution_count": 109,
   "metadata": {},
   "outputs": [],
   "source": [
    "reservas['Rate'] = reservas['Tarifa'].fillna('B_BAR')"
   ]
  },
  {
   "cell_type": "code",
   "execution_count": 110,
   "metadata": {},
   "outputs": [
    {
     "data": {
      "text/plain": [
       "VIP                                     29169\n",
       "Fecha de cancelación                    26970\n",
       "Cxl time                                26970\n",
       "Cancellation lead time                  26970\n",
       "Cancellation date                       26970\n",
       "País                                     4629\n",
       "Tarifa                                     89\n",
       "Rate                                        0\n",
       "Identificador segmento de mercado           0\n",
       "Nº de pax del tipo 1 alojados               0\n",
       "Fecha de Creación                           0\n",
       "Identificador régimen alimenticio           0\n",
       "Estado                                      0\n",
       "Tipo de habitación                          0\n",
       "Fecha de salida                             0\n",
       "Fecha llegada                               0\n",
       "Cliente Comercial                           0\n",
       "Identificador procedencia de negocio        0\n",
       "Status                                      0\n",
       "Identificador de canal                      0\n",
       "Room type                                   0\n",
       "Cancelled                                   0\n",
       "Market channel                              0\n",
       "Arrival                                     0\n",
       "Departure                                   0\n",
       "Creation date                               0\n",
       "Length of the stay                          0\n",
       "Lead time                                   0\n",
       "Arrival_day                                 0\n",
       "Departure_day                               0\n",
       "Stay type                                   0\n",
       "Arrival month                               0\n",
       "Numero Reserva                              0\n",
       "dtype: int64"
      ]
     },
     "execution_count": 110,
     "metadata": {},
     "output_type": "execute_result"
    }
   ],
   "source": [
    "reservas.isna().sum().sort_values(ascending=False)"
   ]
  },
  {
   "cell_type": "code",
   "execution_count": 111,
   "metadata": {},
   "outputs": [
    {
     "data": {
      "text/plain": [
       "array(['X_BAR', 'F_W18_S19', 'BFL_VP_O18', 'BFL_LX7N', 'C_163/183',\n",
       "       'B_BAR', 'X_BAR_NR', 'W_BAR', 'X_B_PK2', 'C_160/180', 'BFL_RED',\n",
       "       'C_155/175', 'C_170/190', 'BFL_VP_D18', 'W_BAR_NR', 'BFL_VP_S18',\n",
       "       'W_BAR_ROM', 'X_BAR_PK', 'W_ITF', 'C_145/165', 'C_180/200R',\n",
       "       'C_164/184', 'C_138/158', 'C_140/160R', 'G_BASE_20', 'C_180/200',\n",
       "       'C_165/185', 'C_150/170', 'BFL_BNG199', 'C_BAR/10%', 'B_BAR_NR',\n",
       "       'C_161/181', 'X_B_PKNR', 'C_140/160', 'X_DESTIMO', 'BFL_BNG200',\n",
       "       'C_150/170R', 'C_155/175R', 'W_VUELO_NR', 'C_145/165R',\n",
       "       'BFL_VP_J19', 'S_GOAH19', 'S_GTA_1819', 'W_VUELO', 'BFL_SE_M19',\n",
       "       'G_ITF_20', 'C_BAR/20%Ç', 'BFL_LX4N', 'C_157/177', 'C_BAR/20%',\n",
       "       'X_RTS', 'BFL_VP_M19', 'C_160/170', 'W_MCCRNR', 'X_BAR_PKUP',\n",
       "       'G_IAPS_20', 'X_B_PKNR2', 'BFL_VP_S19', 'BFL_SE_A19', 'C_158/178',\n",
       "       'BFL_SE_O19', 'F_W19_S20', 'F_JETA1920', 'C_153/173', 'BFL_SE_D19',\n",
       "       'BFL_VP_N19', 'BFL_VP_818', 'BFL_SE_J18', 'BFL_SE_O18',\n",
       "       'C_147/167', 'C_154/174', 'C_158/168', 'C_160/180R', 'C_H10COR'],\n",
       "      dtype=object)"
      ]
     },
     "execution_count": 111,
     "metadata": {},
     "output_type": "execute_result"
    }
   ],
   "source": [
    "reservas['Rate'].unique()"
   ]
  },
  {
   "cell_type": "markdown",
   "metadata": {},
   "source": [
    "Split rates into *Non refundable rate* and *free cancellaton* rate"
   ]
  },
  {
   "cell_type": "code",
   "execution_count": 112,
   "metadata": {},
   "outputs": [],
   "source": [
    "rates = reservas['Rate'].to_list()"
   ]
  },
  {
   "cell_type": "code",
   "execution_count": 113,
   "metadata": {},
   "outputs": [
    {
     "data": {
      "text/plain": [
       "['X_BAR',\n",
       " 'F_W18_S19',\n",
       " 'X_BAR',\n",
       " 'F_W18_S19',\n",
       " 'F_W18_S19',\n",
       " 'F_W18_S19',\n",
       " 'X_BAR',\n",
       " 'F_W18_S19',\n",
       " 'X_BAR',\n",
       " 'F_W18_S19',\n",
       " 'F_W18_S19',\n",
       " 'X_BAR',\n",
       " 'F_W18_S19',\n",
       " 'F_W18_S19',\n",
       " 'F_W18_S19',\n",
       " 'BFL_VP_O18',\n",
       " 'BFL_LX7N',\n",
       " 'BFL_LX7N',\n",
       " 'BFL_LX7N',\n",
       " 'X_BAR',\n",
       " 'X_BAR',\n",
       " 'C_163/183',\n",
       " 'X_BAR',\n",
       " 'B_BAR',\n",
       " 'F_W18_S19',\n",
       " 'X_BAR_NR',\n",
       " 'X_BAR_NR',\n",
       " 'X_BAR',\n",
       " 'X_BAR_NR',\n",
       " 'W_BAR',\n",
       " 'X_BAR',\n",
       " 'X_B_PK2',\n",
       " 'F_W18_S19',\n",
       " 'B_BAR',\n",
       " 'C_160/180',\n",
       " 'F_W18_S19',\n",
       " 'F_W18_S19',\n",
       " 'X_BAR',\n",
       " 'W_BAR',\n",
       " 'X_BAR',\n",
       " 'X_BAR',\n",
       " 'X_BAR',\n",
       " 'F_W18_S19',\n",
       " 'BFL_RED',\n",
       " 'X_BAR',\n",
       " 'F_W18_S19',\n",
       " 'X_BAR',\n",
       " 'X_BAR',\n",
       " 'F_W18_S19',\n",
       " 'X_BAR',\n",
       " 'B_BAR',\n",
       " 'F_W18_S19',\n",
       " 'F_W18_S19',\n",
       " 'C_155/175',\n",
       " 'W_BAR',\n",
       " 'F_W18_S19',\n",
       " 'W_BAR',\n",
       " 'F_W18_S19',\n",
       " 'F_W18_S19',\n",
       " 'C_170/190',\n",
       " 'C_170/190',\n",
       " 'B_BAR',\n",
       " 'C_155/175',\n",
       " 'X_BAR',\n",
       " 'X_BAR',\n",
       " 'C_163/183',\n",
       " 'X_BAR',\n",
       " 'X_BAR',\n",
       " 'F_W18_S19',\n",
       " 'F_W18_S19',\n",
       " 'X_BAR',\n",
       " 'X_BAR',\n",
       " 'X_BAR',\n",
       " 'X_BAR',\n",
       " 'C_163/183',\n",
       " 'X_BAR',\n",
       " 'X_BAR',\n",
       " 'B_BAR',\n",
       " 'W_BAR',\n",
       " 'F_W18_S19',\n",
       " 'C_160/180',\n",
       " 'C_160/180',\n",
       " 'C_160/180',\n",
       " 'C_170/190',\n",
       " 'X_BAR_NR',\n",
       " 'X_BAR',\n",
       " 'F_W18_S19',\n",
       " 'BFL_VP_D18',\n",
       " 'X_BAR',\n",
       " 'W_BAR_NR',\n",
       " 'BFL_VP_S18',\n",
       " 'BFL_VP_S18',\n",
       " 'F_W18_S19',\n",
       " 'X_BAR',\n",
       " 'X_BAR',\n",
       " 'F_W18_S19',\n",
       " 'X_BAR',\n",
       " 'X_BAR_NR',\n",
       " 'X_BAR_NR',\n",
       " 'W_BAR_ROM',\n",
       " 'X_BAR',\n",
       " 'X_BAR',\n",
       " 'W_BAR_ROM',\n",
       " 'BFL_VP_O18',\n",
       " 'X_BAR',\n",
       " 'X_BAR',\n",
       " 'X_BAR_PK',\n",
       " 'X_BAR_NR',\n",
       " 'X_BAR',\n",
       " 'X_BAR_NR',\n",
       " 'BFL_VP_D18',\n",
       " 'X_BAR_NR',\n",
       " 'X_BAR',\n",
       " 'W_BAR',\n",
       " 'X_BAR',\n",
       " 'X_BAR',\n",
       " 'X_BAR',\n",
       " 'F_W18_S19',\n",
       " 'X_BAR',\n",
       " 'C_155/175',\n",
       " 'C_155/175',\n",
       " 'W_ITF',\n",
       " 'B_BAR',\n",
       " 'X_BAR',\n",
       " 'C_155/175',\n",
       " 'C_155/175',\n",
       " 'C_155/175',\n",
       " 'C_155/175',\n",
       " 'X_BAR',\n",
       " 'C_145/165',\n",
       " 'W_ITF',\n",
       " 'X_BAR',\n",
       " 'C_155/175',\n",
       " 'X_BAR',\n",
       " 'B_BAR',\n",
       " 'B_BAR',\n",
       " 'F_W18_S19',\n",
       " 'F_W18_S19',\n",
       " 'F_W18_S19',\n",
       " 'X_BAR',\n",
       " 'X_BAR',\n",
       " 'C_155/175',\n",
       " 'BFL_LX7N',\n",
       " 'C_180/200R',\n",
       " 'C_155/175',\n",
       " 'C_155/175',\n",
       " 'C_164/184',\n",
       " 'C_160/180',\n",
       " 'C_138/158',\n",
       " 'F_W18_S19',\n",
       " 'C_180/200R',\n",
       " 'X_BAR',\n",
       " 'X_BAR',\n",
       " 'X_BAR',\n",
       " 'X_BAR',\n",
       " 'F_W18_S19',\n",
       " 'C_140/160R',\n",
       " 'X_BAR',\n",
       " 'C_155/175',\n",
       " 'C_155/175',\n",
       " 'C_155/175',\n",
       " 'F_W18_S19',\n",
       " 'F_W18_S19',\n",
       " 'F_W18_S19',\n",
       " 'B_BAR',\n",
       " 'X_BAR',\n",
       " 'C_160/180',\n",
       " 'C_138/158',\n",
       " 'C_155/175',\n",
       " 'C_155/175',\n",
       " 'X_BAR',\n",
       " 'X_BAR',\n",
       " 'X_BAR',\n",
       " 'F_W18_S19',\n",
       " 'C_155/175',\n",
       " 'X_BAR',\n",
       " 'X_BAR',\n",
       " 'X_BAR',\n",
       " 'X_BAR',\n",
       " 'X_BAR',\n",
       " 'X_BAR',\n",
       " 'X_BAR',\n",
       " 'X_BAR',\n",
       " 'X_BAR',\n",
       " 'B_BAR',\n",
       " 'C_155/175',\n",
       " 'X_BAR_NR',\n",
       " 'X_BAR_NR',\n",
       " 'F_W18_S19',\n",
       " 'W_BAR',\n",
       " 'W_BAR',\n",
       " 'X_BAR',\n",
       " 'G_BASE_20',\n",
       " 'X_BAR',\n",
       " 'X_BAR_NR',\n",
       " 'W_BAR',\n",
       " 'C_155/175',\n",
       " 'X_BAR',\n",
       " 'B_BAR',\n",
       " 'X_BAR',\n",
       " 'F_W18_S19',\n",
       " 'X_BAR',\n",
       " 'X_BAR',\n",
       " 'W_BAR',\n",
       " 'W_BAR',\n",
       " 'W_BAR',\n",
       " 'W_BAR',\n",
       " 'X_BAR',\n",
       " 'B_BAR',\n",
       " 'B_BAR',\n",
       " 'X_BAR_NR',\n",
       " 'X_BAR',\n",
       " 'W_BAR',\n",
       " 'W_BAR',\n",
       " 'X_BAR',\n",
       " 'C_155/175',\n",
       " 'X_BAR',\n",
       " 'F_W18_S19',\n",
       " 'F_W18_S19',\n",
       " 'X_BAR',\n",
       " 'F_W18_S19',\n",
       " 'X_BAR',\n",
       " 'F_W18_S19',\n",
       " 'F_W18_S19',\n",
       " 'F_W18_S19',\n",
       " 'X_BAR',\n",
       " 'X_BAR',\n",
       " 'W_BAR',\n",
       " 'C_163/183',\n",
       " 'B_BAR',\n",
       " 'C_155/175',\n",
       " 'B_BAR',\n",
       " 'B_BAR',\n",
       " 'W_BAR',\n",
       " 'X_BAR',\n",
       " 'X_BAR',\n",
       " 'C_155/175',\n",
       " 'F_W18_S19',\n",
       " 'B_BAR',\n",
       " 'C_170/190',\n",
       " 'C_180/200R',\n",
       " 'C_180/200R',\n",
       " 'C_180/200',\n",
       " 'C_180/200R',\n",
       " 'C_170/190',\n",
       " 'C_165/185',\n",
       " 'C_155/175',\n",
       " 'C_163/183',\n",
       " 'C_180/200',\n",
       " 'C_160/180',\n",
       " 'F_W18_S19',\n",
       " 'B_BAR',\n",
       " 'B_BAR',\n",
       " 'B_BAR',\n",
       " 'X_BAR',\n",
       " 'B_BAR',\n",
       " 'X_BAR',\n",
       " 'X_BAR',\n",
       " 'B_BAR',\n",
       " 'C_160/180',\n",
       " 'C_163/183',\n",
       " 'C_155/175',\n",
       " 'C_163/183',\n",
       " 'C_163/183',\n",
       " 'C_165/185',\n",
       " 'C_150/170',\n",
       " 'X_BAR',\n",
       " 'X_BAR',\n",
       " 'X_BAR',\n",
       " 'X_BAR',\n",
       " 'X_BAR',\n",
       " 'X_BAR',\n",
       " 'X_BAR',\n",
       " 'W_BAR',\n",
       " 'W_BAR',\n",
       " 'F_W18_S19',\n",
       " 'X_BAR',\n",
       " 'X_BAR',\n",
       " 'X_BAR',\n",
       " 'X_BAR',\n",
       " 'X_BAR',\n",
       " 'F_W18_S19',\n",
       " 'X_BAR',\n",
       " 'X_BAR',\n",
       " 'X_BAR',\n",
       " 'W_BAR',\n",
       " 'F_W18_S19',\n",
       " 'X_BAR',\n",
       " 'F_W18_S19',\n",
       " 'X_BAR',\n",
       " 'BFL_BNG199',\n",
       " 'C_155/175',\n",
       " 'X_BAR',\n",
       " 'F_W18_S19',\n",
       " 'F_W18_S19',\n",
       " 'F_W18_S19',\n",
       " 'F_W18_S19',\n",
       " 'W_BAR',\n",
       " 'X_BAR',\n",
       " 'F_W18_S19',\n",
       " 'F_W18_S19',\n",
       " 'B_BAR',\n",
       " 'F_W18_S19',\n",
       " 'F_W18_S19',\n",
       " 'X_BAR',\n",
       " 'X_BAR',\n",
       " 'X_BAR',\n",
       " 'X_BAR',\n",
       " 'X_BAR',\n",
       " 'X_BAR',\n",
       " 'X_BAR',\n",
       " 'X_BAR',\n",
       " 'X_BAR',\n",
       " 'X_BAR',\n",
       " 'C_180/200',\n",
       " 'X_BAR',\n",
       " 'F_W18_S19',\n",
       " 'X_BAR',\n",
       " 'W_BAR',\n",
       " 'C_155/175',\n",
       " 'C_163/183',\n",
       " 'C_160/180',\n",
       " 'C_155/175',\n",
       " 'X_BAR',\n",
       " 'X_BAR',\n",
       " 'C_163/183',\n",
       " 'X_BAR_NR',\n",
       " 'C_138/158',\n",
       " 'X_BAR',\n",
       " 'X_BAR',\n",
       " 'F_W18_S19',\n",
       " 'X_BAR',\n",
       " 'X_BAR',\n",
       " 'F_W18_S19',\n",
       " 'X_BAR',\n",
       " 'X_BAR',\n",
       " 'F_W18_S19',\n",
       " 'C_155/175',\n",
       " 'C_164/184',\n",
       " 'C_165/185',\n",
       " 'C_BAR/10%',\n",
       " 'F_W18_S19',\n",
       " 'C_BAR/10%',\n",
       " 'X_BAR',\n",
       " 'C_138/158',\n",
       " 'X_BAR',\n",
       " 'X_BAR',\n",
       " 'B_BAR',\n",
       " 'X_BAR',\n",
       " 'X_BAR',\n",
       " 'X_BAR',\n",
       " 'X_BAR',\n",
       " 'X_BAR',\n",
       " 'X_BAR',\n",
       " 'C_155/175',\n",
       " 'F_W18_S19',\n",
       " 'F_W18_S19',\n",
       " 'F_W18_S19',\n",
       " 'B_BAR',\n",
       " 'C_155/175',\n",
       " 'C_165/185',\n",
       " 'C_165/185',\n",
       " 'C_170/190',\n",
       " 'B_BAR',\n",
       " 'X_BAR',\n",
       " 'X_BAR',\n",
       " 'X_BAR_NR',\n",
       " 'X_BAR_NR',\n",
       " 'C_145/165',\n",
       " 'C_155/175',\n",
       " 'X_BAR',\n",
       " 'X_BAR_NR',\n",
       " 'X_BAR_NR',\n",
       " 'X_BAR',\n",
       " 'B_BAR',\n",
       " 'X_BAR',\n",
       " 'X_BAR',\n",
       " 'X_BAR',\n",
       " 'X_BAR',\n",
       " 'X_BAR',\n",
       " 'X_BAR',\n",
       " 'X_BAR',\n",
       " 'X_BAR',\n",
       " 'X_BAR',\n",
       " 'W_BAR',\n",
       " 'X_BAR',\n",
       " 'X_BAR_NR',\n",
       " 'X_BAR',\n",
       " 'B_BAR',\n",
       " 'X_BAR',\n",
       " 'F_W18_S19',\n",
       " 'F_W18_S19',\n",
       " 'X_BAR',\n",
       " 'X_BAR',\n",
       " 'X_BAR',\n",
       " 'X_BAR',\n",
       " 'X_BAR',\n",
       " 'X_BAR',\n",
       " 'X_BAR_NR',\n",
       " 'X_BAR_NR',\n",
       " 'X_BAR',\n",
       " 'X_BAR',\n",
       " 'X_BAR',\n",
       " 'F_W18_S19',\n",
       " 'G_BASE_20',\n",
       " 'G_BASE_20',\n",
       " 'G_BASE_20',\n",
       " 'X_BAR_NR',\n",
       " 'C_155/175',\n",
       " 'X_BAR',\n",
       " 'X_BAR',\n",
       " 'W_BAR',\n",
       " 'W_BAR',\n",
       " 'X_BAR',\n",
       " 'X_BAR',\n",
       " 'C_155/175',\n",
       " 'X_BAR',\n",
       " 'X_BAR',\n",
       " 'G_BASE_20',\n",
       " 'C_155/175',\n",
       " 'G_BASE_20',\n",
       " 'B_BAR_NR',\n",
       " 'X_BAR',\n",
       " 'C_155/175',\n",
       " 'X_BAR',\n",
       " 'C_138/158',\n",
       " 'C_163/183',\n",
       " 'W_BAR',\n",
       " 'X_BAR',\n",
       " 'C_160/180',\n",
       " 'C_160/180',\n",
       " 'X_BAR_NR',\n",
       " 'X_BAR',\n",
       " 'W_BAR_NR',\n",
       " 'W_BAR',\n",
       " 'W_BAR',\n",
       " 'X_BAR',\n",
       " 'W_BAR',\n",
       " 'W_BAR',\n",
       " 'X_BAR',\n",
       " 'F_W18_S19',\n",
       " 'F_W18_S19',\n",
       " 'F_W18_S19',\n",
       " 'F_W18_S19',\n",
       " 'BFL_VP_D18',\n",
       " 'W_BAR',\n",
       " 'X_BAR_PK',\n",
       " 'X_BAR',\n",
       " 'X_BAR',\n",
       " 'W_BAR_NR',\n",
       " 'X_BAR',\n",
       " 'X_BAR',\n",
       " 'X_BAR',\n",
       " 'X_BAR',\n",
       " 'F_W18_S19',\n",
       " 'X_BAR_PK',\n",
       " 'X_BAR',\n",
       " 'X_BAR_NR',\n",
       " 'X_BAR_NR',\n",
       " 'X_BAR',\n",
       " 'X_BAR',\n",
       " 'X_BAR',\n",
       " 'X_BAR',\n",
       " 'W_BAR',\n",
       " 'F_W18_S19',\n",
       " 'F_W18_S19',\n",
       " 'C_180/200R',\n",
       " 'W_BAR',\n",
       " 'W_BAR',\n",
       " 'C_155/175',\n",
       " 'C_155/175',\n",
       " 'C_155/175',\n",
       " 'X_BAR',\n",
       " 'X_BAR',\n",
       " 'X_BAR',\n",
       " 'X_BAR',\n",
       " 'X_BAR_NR',\n",
       " 'X_BAR_NR',\n",
       " 'X_BAR_NR',\n",
       " 'F_W18_S19',\n",
       " 'X_BAR',\n",
       " 'W_BAR',\n",
       " 'X_BAR',\n",
       " 'F_W18_S19',\n",
       " 'W_BAR',\n",
       " 'X_BAR',\n",
       " 'C_138/158',\n",
       " 'W_BAR',\n",
       " 'C_163/183',\n",
       " 'B_BAR',\n",
       " 'BFL_RED',\n",
       " 'B_BAR',\n",
       " 'C_BAR/10%',\n",
       " 'C_150/170',\n",
       " 'C_150/170',\n",
       " 'C_150/170',\n",
       " 'G_BASE_20',\n",
       " 'X_BAR',\n",
       " 'W_ITF',\n",
       " 'X_BAR',\n",
       " 'C_BAR/10%',\n",
       " 'B_BAR',\n",
       " 'X_BAR',\n",
       " 'W_ITF',\n",
       " 'C_180/200',\n",
       " 'C_145/165',\n",
       " 'X_BAR_NR',\n",
       " 'C_163/183',\n",
       " 'BFL_VP_D18',\n",
       " 'C_BAR/10%',\n",
       " 'C_145/165',\n",
       " 'B_BAR_NR',\n",
       " 'B_BAR_NR',\n",
       " 'C_155/175',\n",
       " 'C_145/165',\n",
       " 'C_145/165',\n",
       " 'X_BAR',\n",
       " 'X_BAR',\n",
       " 'X_BAR',\n",
       " 'C_180/200R',\n",
       " 'C_165/185',\n",
       " 'X_BAR',\n",
       " 'W_BAR',\n",
       " 'W_BAR',\n",
       " 'F_W18_S19',\n",
       " 'W_BAR',\n",
       " 'F_W18_S19',\n",
       " 'C_150/170',\n",
       " 'BFL_VP_D18',\n",
       " 'X_BAR',\n",
       " 'F_W18_S19',\n",
       " 'X_BAR',\n",
       " 'X_BAR_NR',\n",
       " 'F_W18_S19',\n",
       " 'X_BAR',\n",
       " 'C_145/165',\n",
       " 'X_BAR',\n",
       " 'C_160/180',\n",
       " 'C_145/165',\n",
       " 'C_165/185',\n",
       " 'X_BAR',\n",
       " 'X_BAR',\n",
       " 'X_BAR',\n",
       " 'C_155/175',\n",
       " 'X_BAR',\n",
       " 'X_BAR',\n",
       " 'C_145/165',\n",
       " 'B_BAR_NR',\n",
       " 'C_161/181',\n",
       " 'X_BAR',\n",
       " 'BFL_VP_S18',\n",
       " 'BFL_VP_S18',\n",
       " 'X_BAR',\n",
       " 'F_W18_S19',\n",
       " 'X_BAR',\n",
       " 'X_BAR',\n",
       " 'X_BAR',\n",
       " 'X_BAR',\n",
       " 'X_BAR',\n",
       " 'X_BAR',\n",
       " 'X_BAR',\n",
       " 'C_160/180',\n",
       " 'X_BAR',\n",
       " 'X_BAR',\n",
       " 'X_B_PKNR',\n",
       " 'G_BASE_20',\n",
       " 'G_BASE_20',\n",
       " 'G_BASE_20',\n",
       " 'G_BASE_20',\n",
       " 'G_BASE_20',\n",
       " 'G_BASE_20',\n",
       " 'G_BASE_20',\n",
       " 'G_BASE_20',\n",
       " 'G_BASE_20',\n",
       " 'X_BAR',\n",
       " 'F_W18_S19',\n",
       " 'X_BAR',\n",
       " 'X_BAR',\n",
       " 'X_BAR',\n",
       " 'W_BAR',\n",
       " 'X_BAR',\n",
       " 'X_BAR',\n",
       " 'X_BAR',\n",
       " 'B_BAR_NR',\n",
       " 'X_BAR',\n",
       " 'X_BAR',\n",
       " 'X_BAR',\n",
       " 'X_BAR',\n",
       " 'C_155/175',\n",
       " 'F_W18_S19',\n",
       " 'X_BAR',\n",
       " 'X_BAR',\n",
       " 'X_BAR',\n",
       " 'X_BAR',\n",
       " 'B_BAR',\n",
       " 'C_163/183',\n",
       " 'BFL_BNG199',\n",
       " 'C_155/175',\n",
       " 'BFL_BNG199',\n",
       " 'X_BAR_NR',\n",
       " 'C_163/183',\n",
       " 'X_BAR_NR',\n",
       " 'X_BAR',\n",
       " 'C_145/165',\n",
       " 'C_145/165',\n",
       " 'C_180/200R',\n",
       " 'C_180/200R',\n",
       " 'B_BAR_NR',\n",
       " 'F_W18_S19',\n",
       " 'X_BAR',\n",
       " 'B_BAR',\n",
       " 'X_BAR',\n",
       " 'C_140/160R',\n",
       " 'C_140/160R',\n",
       " 'C_140/160R',\n",
       " 'C_160/180',\n",
       " 'B_BAR_NR',\n",
       " 'X_BAR',\n",
       " 'X_BAR',\n",
       " 'X_BAR',\n",
       " 'F_W18_S19',\n",
       " 'C_140/160',\n",
       " 'C_140/160',\n",
       " 'BFL_VP_D18',\n",
       " 'X_BAR',\n",
       " 'X_BAR',\n",
       " 'C_163/183',\n",
       " 'C_155/175',\n",
       " 'X_BAR',\n",
       " 'X_BAR',\n",
       " 'X_BAR',\n",
       " 'W_BAR',\n",
       " 'X_BAR',\n",
       " 'F_W18_S19',\n",
       " 'F_W18_S19',\n",
       " 'F_W18_S19',\n",
       " 'X_BAR',\n",
       " 'W_BAR_ROM',\n",
       " 'W_BAR',\n",
       " 'X_BAR',\n",
       " 'X_BAR',\n",
       " 'X_BAR',\n",
       " 'X_BAR',\n",
       " 'W_BAR_ROM',\n",
       " 'X_BAR',\n",
       " 'W_BAR',\n",
       " 'W_BAR',\n",
       " 'W_BAR',\n",
       " 'W_BAR',\n",
       " 'F_W18_S19',\n",
       " 'X_BAR',\n",
       " 'X_BAR',\n",
       " 'C_163/183',\n",
       " 'X_BAR',\n",
       " 'BFL_RED',\n",
       " 'W_BAR',\n",
       " 'X_BAR',\n",
       " 'C_150/170',\n",
       " 'X_BAR',\n",
       " 'X_BAR',\n",
       " 'C_BAR/10%',\n",
       " 'C_BAR/10%',\n",
       " 'B_BAR_NR',\n",
       " 'W_BAR',\n",
       " 'F_W18_S19',\n",
       " 'X_BAR',\n",
       " 'X_BAR',\n",
       " 'B_BAR',\n",
       " 'F_W18_S19',\n",
       " 'X_DESTIMO',\n",
       " 'C_165/185',\n",
       " 'X_BAR',\n",
       " 'C_160/180',\n",
       " 'C_160/180',\n",
       " 'C_163/183',\n",
       " 'X_BAR',\n",
       " 'G_BASE_20',\n",
       " 'X_BAR',\n",
       " 'X_BAR',\n",
       " 'W_BAR',\n",
       " 'W_BAR',\n",
       " 'C_165/185',\n",
       " 'C_BAR/10%',\n",
       " 'X_BAR_NR',\n",
       " 'X_BAR',\n",
       " 'C_163/183',\n",
       " 'B_BAR',\n",
       " 'C_145/165',\n",
       " 'C_155/175',\n",
       " 'C_180/200R',\n",
       " 'X_BAR',\n",
       " 'B_BAR_NR',\n",
       " 'C_145/165',\n",
       " 'C_160/180',\n",
       " 'C_180/200R',\n",
       " 'C_BAR/10%',\n",
       " 'G_BASE_20',\n",
       " 'C_170/190',\n",
       " 'C_170/190',\n",
       " 'B_BAR',\n",
       " 'X_BAR',\n",
       " 'X_BAR',\n",
       " 'W_BAR',\n",
       " 'W_BAR',\n",
       " 'W_BAR',\n",
       " 'W_BAR',\n",
       " 'G_BASE_20',\n",
       " 'G_BASE_20',\n",
       " 'F_W18_S19',\n",
       " 'C_155/175',\n",
       " 'C_155/175',\n",
       " 'X_BAR',\n",
       " 'C_145/165',\n",
       " 'F_W18_S19',\n",
       " 'G_BASE_20',\n",
       " 'C_145/165',\n",
       " 'B_BAR',\n",
       " 'C_170/190',\n",
       " 'C_170/190',\n",
       " 'C_170/190',\n",
       " 'C_170/190',\n",
       " 'C_170/190',\n",
       " 'C_170/190',\n",
       " 'C_170/190',\n",
       " 'C_170/190',\n",
       " 'C_170/190',\n",
       " 'C_170/190',\n",
       " 'X_DESTIMO',\n",
       " 'B_BAR',\n",
       " 'F_W18_S19',\n",
       " 'X_BAR',\n",
       " 'C_160/180',\n",
       " 'X_BAR',\n",
       " 'F_W18_S19',\n",
       " 'W_BAR',\n",
       " 'W_BAR',\n",
       " 'W_BAR',\n",
       " 'X_DESTIMO',\n",
       " 'X_BAR_NR',\n",
       " 'X_BAR',\n",
       " 'X_BAR_NR',\n",
       " 'X_BAR',\n",
       " 'B_BAR',\n",
       " 'BFL_BNG200',\n",
       " 'W_BAR',\n",
       " 'W_BAR',\n",
       " 'W_BAR',\n",
       " 'X_BAR',\n",
       " 'X_BAR',\n",
       " 'X_BAR',\n",
       " 'X_BAR',\n",
       " 'F_W18_S19',\n",
       " 'X_BAR_NR',\n",
       " 'X_BAR_NR',\n",
       " 'X_BAR',\n",
       " 'F_W18_S19',\n",
       " 'X_BAR',\n",
       " 'X_BAR',\n",
       " 'X_BAR',\n",
       " 'X_BAR',\n",
       " 'F_W18_S19',\n",
       " 'X_BAR',\n",
       " 'W_BAR',\n",
       " 'W_BAR',\n",
       " 'X_BAR',\n",
       " 'W_BAR',\n",
       " 'C_165/185',\n",
       " 'C_BAR/10%',\n",
       " 'C_160/180',\n",
       " 'C_170/190',\n",
       " 'C_BAR/10%',\n",
       " 'W_BAR',\n",
       " 'C_155/175',\n",
       " 'C_155/175',\n",
       " 'C_155/175',\n",
       " 'C_155/175',\n",
       " 'C_155/175',\n",
       " 'C_160/180',\n",
       " 'F_W18_S19',\n",
       " 'F_W18_S19',\n",
       " 'B_BAR',\n",
       " 'B_BAR',\n",
       " 'C_145/165',\n",
       " 'C_155/175',\n",
       " 'C_150/170',\n",
       " 'W_BAR',\n",
       " 'W_BAR',\n",
       " 'C_145/165',\n",
       " 'C_165/185',\n",
       " 'X_BAR',\n",
       " 'X_BAR',\n",
       " 'X_BAR',\n",
       " 'C_155/175',\n",
       " 'C_170/190',\n",
       " 'X_BAR',\n",
       " 'C_145/165',\n",
       " 'C_145/165',\n",
       " 'X_BAR',\n",
       " 'X_BAR',\n",
       " 'F_W18_S19',\n",
       " 'C_155/175',\n",
       " 'X_BAR',\n",
       " 'BFL_RED',\n",
       " 'X_B_PKNR',\n",
       " 'X_BAR',\n",
       " 'G_BASE_20',\n",
       " 'G_BASE_20',\n",
       " 'G_BASE_20',\n",
       " 'F_W18_S19',\n",
       " 'F_W18_S19',\n",
       " 'F_W18_S19',\n",
       " 'W_BAR',\n",
       " 'X_BAR',\n",
       " 'X_BAR',\n",
       " 'F_W18_S19',\n",
       " 'F_W18_S19',\n",
       " 'X_BAR',\n",
       " 'X_BAR',\n",
       " 'W_BAR',\n",
       " 'W_BAR',\n",
       " 'X_BAR',\n",
       " 'X_BAR',\n",
       " 'X_BAR',\n",
       " 'X_BAR',\n",
       " 'X_BAR',\n",
       " 'X_BAR',\n",
       " 'X_BAR',\n",
       " 'X_BAR',\n",
       " 'X_BAR',\n",
       " 'X_BAR',\n",
       " 'X_BAR',\n",
       " 'X_BAR',\n",
       " 'X_BAR',\n",
       " 'X_BAR',\n",
       " 'X_BAR',\n",
       " 'X_BAR',\n",
       " 'B_BAR',\n",
       " 'F_W18_S19',\n",
       " 'X_BAR',\n",
       " 'F_W18_S19',\n",
       " 'F_W18_S19',\n",
       " 'F_W18_S19',\n",
       " 'F_W18_S19',\n",
       " 'X_BAR',\n",
       " 'X_BAR',\n",
       " 'F_W18_S19',\n",
       " 'B_BAR',\n",
       " 'C_155/175',\n",
       " 'C_155/175',\n",
       " 'C_155/175',\n",
       " 'C_155/175',\n",
       " 'C_155/175',\n",
       " 'C_155/175',\n",
       " 'W_ITF',\n",
       " 'X_BAR',\n",
       " 'C_160/180',\n",
       " 'G_BASE_20',\n",
       " 'X_BAR',\n",
       " 'C_155/175',\n",
       " 'X_BAR',\n",
       " 'X_BAR',\n",
       " 'X_BAR',\n",
       " 'X_BAR',\n",
       " 'C_155/175',\n",
       " 'W_BAR',\n",
       " 'X_BAR',\n",
       " 'C_BAR/10%',\n",
       " 'X_BAR',\n",
       " 'C_BAR/10%',\n",
       " 'C_138/158',\n",
       " 'C_BAR/10%',\n",
       " 'F_W18_S19',\n",
       " 'X_BAR_NR',\n",
       " 'C_155/175',\n",
       " 'C_155/175',\n",
       " 'X_BAR',\n",
       " 'X_BAR',\n",
       " 'X_BAR',\n",
       " 'X_BAR',\n",
       " 'X_BAR',\n",
       " 'X_BAR',\n",
       " 'X_BAR',\n",
       " 'X_BAR',\n",
       " 'X_BAR',\n",
       " 'X_BAR',\n",
       " 'X_BAR',\n",
       " 'X_BAR',\n",
       " 'X_BAR',\n",
       " 'X_BAR',\n",
       " 'X_BAR',\n",
       " 'X_BAR',\n",
       " 'C_163/183',\n",
       " 'X_BAR',\n",
       " 'X_BAR',\n",
       " 'F_W18_S19',\n",
       " 'F_W18_S19',\n",
       " 'C_163/183',\n",
       " 'X_BAR',\n",
       " 'X_B_PKNR',\n",
       " 'B_BAR_NR',\n",
       " 'X_BAR',\n",
       " 'X_BAR',\n",
       " 'X_BAR',\n",
       " 'C_150/170',\n",
       " 'C_160/180',\n",
       " 'G_BASE_20',\n",
       " 'W_BAR',\n",
       " 'C_155/175',\n",
       " 'F_W18_S19',\n",
       " 'X_BAR',\n",
       " 'F_W18_S19',\n",
       " 'F_W18_S19',\n",
       " 'C_145/165',\n",
       " 'C_BAR/10%',\n",
       " 'X_BAR',\n",
       " 'W_BAR',\n",
       " 'F_W18_S19',\n",
       " 'W_BAR',\n",
       " 'W_BAR',\n",
       " 'W_BAR',\n",
       " 'W_BAR',\n",
       " 'C_155/175',\n",
       " 'F_W18_S19',\n",
       " 'X_BAR',\n",
       " 'C_BAR/10%',\n",
       " 'C_163/183',\n",
       " 'C_163/183',\n",
       " 'W_BAR',\n",
       " 'X_BAR',\n",
       " 'BFL_VP_O18',\n",
       " 'W_BAR',\n",
       " 'W_BAR',\n",
       " 'BFL_VP_D18',\n",
       " 'X_BAR',\n",
       " 'X_BAR',\n",
       " 'F_W18_S19',\n",
       " 'F_W18_S19',\n",
       " 'X_BAR',\n",
       " 'F_W18_S19',\n",
       " 'X_BAR_NR',\n",
       " 'B_BAR_NR',\n",
       " 'X_BAR',\n",
       " 'C_155/175',\n",
       " 'C_155/175',\n",
       " 'C_155/175',\n",
       " 'C_155/175',\n",
       " 'C_155/175',\n",
       " 'C_165/185',\n",
       " 'W_BAR',\n",
       " 'B_BAR',\n",
       " 'B_BAR',\n",
       " 'C_155/175',\n",
       " 'X_BAR',\n",
       " 'B_BAR_NR',\n",
       " 'X_BAR',\n",
       " 'X_BAR',\n",
       " 'C_BAR/10%',\n",
       " 'X_BAR',\n",
       " 'X_BAR',\n",
       " 'C_155/175',\n",
       " 'X_BAR',\n",
       " 'B_BAR',\n",
       " 'C_163/183',\n",
       " 'X_BAR',\n",
       " 'W_ITF',\n",
       " 'W_ITF',\n",
       " 'W_ITF',\n",
       " 'W_ITF',\n",
       " 'W_ITF',\n",
       " 'W_ITF',\n",
       " 'C_170/190',\n",
       " 'G_BASE_20',\n",
       " 'X_BAR',\n",
       " 'C_155/175',\n",
       " 'G_BASE_20',\n",
       " 'G_BASE_20',\n",
       " 'X_BAR',\n",
       " 'B_BAR',\n",
       " 'C_145/165',\n",
       " 'C_160/180',\n",
       " 'C_160/180',\n",
       " 'C_160/180',\n",
       " 'X_BAR',\n",
       " 'C_160/180',\n",
       " 'C_165/185',\n",
       " 'C_160/180',\n",
       " 'C_155/175',\n",
       " 'X_BAR',\n",
       " 'B_BAR_NR',\n",
       " 'B_BAR_NR',\n",
       " 'X_BAR_NR',\n",
       " 'C_155/175',\n",
       " 'C_155/175',\n",
       " 'C_145/165',\n",
       " 'G_BASE_20',\n",
       " 'BFL_VP_D18',\n",
       " 'F_W18_S19',\n",
       " 'F_W18_S19',\n",
       " 'F_W18_S19',\n",
       " 'F_W18_S19',\n",
       " ...]"
      ]
     },
     "execution_count": 113,
     "metadata": {},
     "output_type": "execute_result"
    }
   ],
   "source": [
    "rates"
   ]
  },
  {
   "cell_type": "code",
   "execution_count": 114,
   "metadata": {},
   "outputs": [
    {
     "name": "stdout",
     "output_type": "stream",
     "text": [
      "33156\n"
     ]
    }
   ],
   "source": [
    "nr = []\n",
    "\n",
    "for elem in rates:\n",
    "        \n",
    "    if \"NR\" in elem:\n",
    "        nr.append(elem.replace(elem,'1'))        \n",
    "    else:\n",
    "        nr.append(elem.replace(elem,'0'))\n",
    "        \n",
    "        \n",
    "print(len(nr))"
   ]
  },
  {
   "cell_type": "code",
   "execution_count": 115,
   "metadata": {},
   "outputs": [
    {
     "data": {
      "text/plain": [
       "['0',\n",
       " '0',\n",
       " '0',\n",
       " '0',\n",
       " '0',\n",
       " '0',\n",
       " '0',\n",
       " '0',\n",
       " '0',\n",
       " '0',\n",
       " '0',\n",
       " '0',\n",
       " '0',\n",
       " '0',\n",
       " '0',\n",
       " '0',\n",
       " '0',\n",
       " '0',\n",
       " '0',\n",
       " '0',\n",
       " '0',\n",
       " '0',\n",
       " '0',\n",
       " '0',\n",
       " '0',\n",
       " '1',\n",
       " '1',\n",
       " '0',\n",
       " '1',\n",
       " '0',\n",
       " '0',\n",
       " '0',\n",
       " '0',\n",
       " '0',\n",
       " '0',\n",
       " '0',\n",
       " '0',\n",
       " '0',\n",
       " '0',\n",
       " '0',\n",
       " '0',\n",
       " '0',\n",
       " '0',\n",
       " '0',\n",
       " '0',\n",
       " '0',\n",
       " '0',\n",
       " '0',\n",
       " '0',\n",
       " '0',\n",
       " '0',\n",
       " '0',\n",
       " '0',\n",
       " '0',\n",
       " '0',\n",
       " '0',\n",
       " '0',\n",
       " '0',\n",
       " '0',\n",
       " '0',\n",
       " '0',\n",
       " '0',\n",
       " '0',\n",
       " '0',\n",
       " '0',\n",
       " '0',\n",
       " '0',\n",
       " '0',\n",
       " '0',\n",
       " '0',\n",
       " '0',\n",
       " '0',\n",
       " '0',\n",
       " '0',\n",
       " '0',\n",
       " '0',\n",
       " '0',\n",
       " '0',\n",
       " '0',\n",
       " '0',\n",
       " '0',\n",
       " '0',\n",
       " '0',\n",
       " '0',\n",
       " '1',\n",
       " '0',\n",
       " '0',\n",
       " '0',\n",
       " '0',\n",
       " '1',\n",
       " '0',\n",
       " '0',\n",
       " '0',\n",
       " '0',\n",
       " '0',\n",
       " '0',\n",
       " '0',\n",
       " '1',\n",
       " '1',\n",
       " '0',\n",
       " '0',\n",
       " '0',\n",
       " '0',\n",
       " '0',\n",
       " '0',\n",
       " '0',\n",
       " '0',\n",
       " '1',\n",
       " '0',\n",
       " '1',\n",
       " '0',\n",
       " '1',\n",
       " '0',\n",
       " '0',\n",
       " '0',\n",
       " '0',\n",
       " '0',\n",
       " '0',\n",
       " '0',\n",
       " '0',\n",
       " '0',\n",
       " '0',\n",
       " '0',\n",
       " '0',\n",
       " '0',\n",
       " '0',\n",
       " '0',\n",
       " '0',\n",
       " '0',\n",
       " '0',\n",
       " '0',\n",
       " '0',\n",
       " '0',\n",
       " '0',\n",
       " '0',\n",
       " '0',\n",
       " '0',\n",
       " '0',\n",
       " '0',\n",
       " '0',\n",
       " '0',\n",
       " '0',\n",
       " '0',\n",
       " '0',\n",
       " '0',\n",
       " '0',\n",
       " '0',\n",
       " '0',\n",
       " '0',\n",
       " '0',\n",
       " '0',\n",
       " '0',\n",
       " '0',\n",
       " '0',\n",
       " '0',\n",
       " '0',\n",
       " '0',\n",
       " '0',\n",
       " '0',\n",
       " '0',\n",
       " '0',\n",
       " '0',\n",
       " '0',\n",
       " '0',\n",
       " '0',\n",
       " '0',\n",
       " '0',\n",
       " '0',\n",
       " '0',\n",
       " '0',\n",
       " '0',\n",
       " '0',\n",
       " '0',\n",
       " '0',\n",
       " '0',\n",
       " '0',\n",
       " '0',\n",
       " '0',\n",
       " '0',\n",
       " '0',\n",
       " '0',\n",
       " '0',\n",
       " '0',\n",
       " '0',\n",
       " '0',\n",
       " '0',\n",
       " '1',\n",
       " '1',\n",
       " '0',\n",
       " '0',\n",
       " '0',\n",
       " '0',\n",
       " '0',\n",
       " '0',\n",
       " '1',\n",
       " '0',\n",
       " '0',\n",
       " '0',\n",
       " '0',\n",
       " '0',\n",
       " '0',\n",
       " '0',\n",
       " '0',\n",
       " '0',\n",
       " '0',\n",
       " '0',\n",
       " '0',\n",
       " '0',\n",
       " '0',\n",
       " '0',\n",
       " '1',\n",
       " '0',\n",
       " '0',\n",
       " '0',\n",
       " '0',\n",
       " '0',\n",
       " '0',\n",
       " '0',\n",
       " '0',\n",
       " '0',\n",
       " '0',\n",
       " '0',\n",
       " '0',\n",
       " '0',\n",
       " '0',\n",
       " '0',\n",
       " '0',\n",
       " '0',\n",
       " '0',\n",
       " '0',\n",
       " '0',\n",
       " '0',\n",
       " '0',\n",
       " '0',\n",
       " '0',\n",
       " '0',\n",
       " '0',\n",
       " '0',\n",
       " '0',\n",
       " '0',\n",
       " '0',\n",
       " '0',\n",
       " '0',\n",
       " '0',\n",
       " '0',\n",
       " '0',\n",
       " '0',\n",
       " '0',\n",
       " '0',\n",
       " '0',\n",
       " '0',\n",
       " '0',\n",
       " '0',\n",
       " '0',\n",
       " '0',\n",
       " '0',\n",
       " '0',\n",
       " '0',\n",
       " '0',\n",
       " '0',\n",
       " '0',\n",
       " '0',\n",
       " '0',\n",
       " '0',\n",
       " '0',\n",
       " '0',\n",
       " '0',\n",
       " '0',\n",
       " '0',\n",
       " '0',\n",
       " '0',\n",
       " '0',\n",
       " '0',\n",
       " '0',\n",
       " '0',\n",
       " '0',\n",
       " '0',\n",
       " '0',\n",
       " '0',\n",
       " '0',\n",
       " '0',\n",
       " '0',\n",
       " '0',\n",
       " '0',\n",
       " '0',\n",
       " '0',\n",
       " '0',\n",
       " '0',\n",
       " '0',\n",
       " '0',\n",
       " '0',\n",
       " '0',\n",
       " '0',\n",
       " '0',\n",
       " '0',\n",
       " '0',\n",
       " '0',\n",
       " '0',\n",
       " '0',\n",
       " '0',\n",
       " '0',\n",
       " '0',\n",
       " '0',\n",
       " '0',\n",
       " '0',\n",
       " '0',\n",
       " '0',\n",
       " '0',\n",
       " '0',\n",
       " '0',\n",
       " '0',\n",
       " '0',\n",
       " '0',\n",
       " '0',\n",
       " '0',\n",
       " '0',\n",
       " '0',\n",
       " '0',\n",
       " '0',\n",
       " '0',\n",
       " '0',\n",
       " '0',\n",
       " '0',\n",
       " '0',\n",
       " '0',\n",
       " '0',\n",
       " '1',\n",
       " '0',\n",
       " '0',\n",
       " '0',\n",
       " '0',\n",
       " '0',\n",
       " '0',\n",
       " '0',\n",
       " '0',\n",
       " '0',\n",
       " '0',\n",
       " '0',\n",
       " '0',\n",
       " '0',\n",
       " '0',\n",
       " '0',\n",
       " '0',\n",
       " '0',\n",
       " '0',\n",
       " '0',\n",
       " '0',\n",
       " '0',\n",
       " '0',\n",
       " '0',\n",
       " '0',\n",
       " '0',\n",
       " '0',\n",
       " '0',\n",
       " '0',\n",
       " '0',\n",
       " '0',\n",
       " '0',\n",
       " '0',\n",
       " '0',\n",
       " '0',\n",
       " '0',\n",
       " '0',\n",
       " '0',\n",
       " '0',\n",
       " '0',\n",
       " '1',\n",
       " '1',\n",
       " '0',\n",
       " '0',\n",
       " '0',\n",
       " '1',\n",
       " '1',\n",
       " '0',\n",
       " '0',\n",
       " '0',\n",
       " '0',\n",
       " '0',\n",
       " '0',\n",
       " '0',\n",
       " '0',\n",
       " '0',\n",
       " '0',\n",
       " '0',\n",
       " '0',\n",
       " '0',\n",
       " '1',\n",
       " '0',\n",
       " '0',\n",
       " '0',\n",
       " '0',\n",
       " '0',\n",
       " '0',\n",
       " '0',\n",
       " '0',\n",
       " '0',\n",
       " '0',\n",
       " '0',\n",
       " '1',\n",
       " '1',\n",
       " '0',\n",
       " '0',\n",
       " '0',\n",
       " '0',\n",
       " '0',\n",
       " '0',\n",
       " '0',\n",
       " '1',\n",
       " '0',\n",
       " '0',\n",
       " '0',\n",
       " '0',\n",
       " '0',\n",
       " '0',\n",
       " '0',\n",
       " '0',\n",
       " '0',\n",
       " '0',\n",
       " '0',\n",
       " '0',\n",
       " '0',\n",
       " '1',\n",
       " '0',\n",
       " '0',\n",
       " '0',\n",
       " '0',\n",
       " '0',\n",
       " '0',\n",
       " '0',\n",
       " '0',\n",
       " '0',\n",
       " '1',\n",
       " '0',\n",
       " '1',\n",
       " '0',\n",
       " '0',\n",
       " '0',\n",
       " '0',\n",
       " '0',\n",
       " '0',\n",
       " '0',\n",
       " '0',\n",
       " '0',\n",
       " '0',\n",
       " '0',\n",
       " '0',\n",
       " '0',\n",
       " '0',\n",
       " '0',\n",
       " '1',\n",
       " '0',\n",
       " '0',\n",
       " '0',\n",
       " '0',\n",
       " '0',\n",
       " '0',\n",
       " '0',\n",
       " '1',\n",
       " '1',\n",
       " '0',\n",
       " '0',\n",
       " '0',\n",
       " '0',\n",
       " '0',\n",
       " '0',\n",
       " '0',\n",
       " '0',\n",
       " '0',\n",
       " '0',\n",
       " '0',\n",
       " '0',\n",
       " '0',\n",
       " '0',\n",
       " '0',\n",
       " '0',\n",
       " '0',\n",
       " '1',\n",
       " '1',\n",
       " '1',\n",
       " '0',\n",
       " '0',\n",
       " '0',\n",
       " '0',\n",
       " '0',\n",
       " '0',\n",
       " '0',\n",
       " '0',\n",
       " '0',\n",
       " '0',\n",
       " '0',\n",
       " '0',\n",
       " '0',\n",
       " '0',\n",
       " '0',\n",
       " '0',\n",
       " '0',\n",
       " '0',\n",
       " '0',\n",
       " '0',\n",
       " '0',\n",
       " '0',\n",
       " '0',\n",
       " '0',\n",
       " '0',\n",
       " '0',\n",
       " '0',\n",
       " '1',\n",
       " '0',\n",
       " '0',\n",
       " '0',\n",
       " '0',\n",
       " '1',\n",
       " '1',\n",
       " '0',\n",
       " '0',\n",
       " '0',\n",
       " '0',\n",
       " '0',\n",
       " '0',\n",
       " '0',\n",
       " '0',\n",
       " '0',\n",
       " '0',\n",
       " '0',\n",
       " '0',\n",
       " '0',\n",
       " '0',\n",
       " '0',\n",
       " '0',\n",
       " '0',\n",
       " '0',\n",
       " '0',\n",
       " '1',\n",
       " '0',\n",
       " '0',\n",
       " '0',\n",
       " '0',\n",
       " '0',\n",
       " '0',\n",
       " '0',\n",
       " '0',\n",
       " '0',\n",
       " '0',\n",
       " '0',\n",
       " '0',\n",
       " '0',\n",
       " '0',\n",
       " '1',\n",
       " '0',\n",
       " '0',\n",
       " '0',\n",
       " '0',\n",
       " '0',\n",
       " '0',\n",
       " '0',\n",
       " '0',\n",
       " '0',\n",
       " '0',\n",
       " '0',\n",
       " '0',\n",
       " '0',\n",
       " '0',\n",
       " '0',\n",
       " '0',\n",
       " '1',\n",
       " '0',\n",
       " '0',\n",
       " '0',\n",
       " '0',\n",
       " '0',\n",
       " '0',\n",
       " '0',\n",
       " '0',\n",
       " '0',\n",
       " '0',\n",
       " '0',\n",
       " '0',\n",
       " '0',\n",
       " '0',\n",
       " '0',\n",
       " '0',\n",
       " '0',\n",
       " '0',\n",
       " '1',\n",
       " '0',\n",
       " '0',\n",
       " '0',\n",
       " '0',\n",
       " '0',\n",
       " '0',\n",
       " '0',\n",
       " '0',\n",
       " '0',\n",
       " '0',\n",
       " '0',\n",
       " '0',\n",
       " '0',\n",
       " '0',\n",
       " '0',\n",
       " '1',\n",
       " '0',\n",
       " '1',\n",
       " '0',\n",
       " '0',\n",
       " '0',\n",
       " '0',\n",
       " '0',\n",
       " '1',\n",
       " '0',\n",
       " '0',\n",
       " '0',\n",
       " '0',\n",
       " '0',\n",
       " '0',\n",
       " '0',\n",
       " '0',\n",
       " '1',\n",
       " '0',\n",
       " '0',\n",
       " '0',\n",
       " '0',\n",
       " '0',\n",
       " '0',\n",
       " '0',\n",
       " '0',\n",
       " '0',\n",
       " '0',\n",
       " '0',\n",
       " '0',\n",
       " '0',\n",
       " '0',\n",
       " '0',\n",
       " '0',\n",
       " '0',\n",
       " '0',\n",
       " '0',\n",
       " '0',\n",
       " '0',\n",
       " '0',\n",
       " '0',\n",
       " '0',\n",
       " '0',\n",
       " '0',\n",
       " '0',\n",
       " '0',\n",
       " '0',\n",
       " '0',\n",
       " '0',\n",
       " '0',\n",
       " '0',\n",
       " '0',\n",
       " '0',\n",
       " '0',\n",
       " '0',\n",
       " '0',\n",
       " '0',\n",
       " '0',\n",
       " '0',\n",
       " '0',\n",
       " '0',\n",
       " '0',\n",
       " '0',\n",
       " '1',\n",
       " '0',\n",
       " '0',\n",
       " '0',\n",
       " '0',\n",
       " '0',\n",
       " '0',\n",
       " '0',\n",
       " '0',\n",
       " '0',\n",
       " '0',\n",
       " '0',\n",
       " '0',\n",
       " '0',\n",
       " '0',\n",
       " '0',\n",
       " '0',\n",
       " '0',\n",
       " '0',\n",
       " '0',\n",
       " '0',\n",
       " '1',\n",
       " '0',\n",
       " '0',\n",
       " '0',\n",
       " '0',\n",
       " '0',\n",
       " '0',\n",
       " '0',\n",
       " '1',\n",
       " '0',\n",
       " '0',\n",
       " '0',\n",
       " '0',\n",
       " '0',\n",
       " '0',\n",
       " '0',\n",
       " '0',\n",
       " '0',\n",
       " '0',\n",
       " '0',\n",
       " '0',\n",
       " '0',\n",
       " '0',\n",
       " '0',\n",
       " '0',\n",
       " '0',\n",
       " '0',\n",
       " '0',\n",
       " '0',\n",
       " '0',\n",
       " '0',\n",
       " '0',\n",
       " '0',\n",
       " '0',\n",
       " '0',\n",
       " '0',\n",
       " '0',\n",
       " '0',\n",
       " '0',\n",
       " '0',\n",
       " '0',\n",
       " '0',\n",
       " '0',\n",
       " '0',\n",
       " '0',\n",
       " '0',\n",
       " '0',\n",
       " '0',\n",
       " '0',\n",
       " '0',\n",
       " '0',\n",
       " '0',\n",
       " '0',\n",
       " '0',\n",
       " '0',\n",
       " '1',\n",
       " '0',\n",
       " '1',\n",
       " '0',\n",
       " '0',\n",
       " '0',\n",
       " '0',\n",
       " '0',\n",
       " '0',\n",
       " '0',\n",
       " '0',\n",
       " '0',\n",
       " '0',\n",
       " '0',\n",
       " '1',\n",
       " '1',\n",
       " '0',\n",
       " '0',\n",
       " '0',\n",
       " '0',\n",
       " '0',\n",
       " '0',\n",
       " '0',\n",
       " '0',\n",
       " '0',\n",
       " '0',\n",
       " '0',\n",
       " '0',\n",
       " '0',\n",
       " '0',\n",
       " '0',\n",
       " '0',\n",
       " '0',\n",
       " '0',\n",
       " '0',\n",
       " '0',\n",
       " '0',\n",
       " '0',\n",
       " '0',\n",
       " '0',\n",
       " '0',\n",
       " '0',\n",
       " '0',\n",
       " '0',\n",
       " '0',\n",
       " '0',\n",
       " '0',\n",
       " '0',\n",
       " '0',\n",
       " '0',\n",
       " '0',\n",
       " '0',\n",
       " '0',\n",
       " '0',\n",
       " '0',\n",
       " '0',\n",
       " '0',\n",
       " '0',\n",
       " '0',\n",
       " '0',\n",
       " '0',\n",
       " '0',\n",
       " '0',\n",
       " '0',\n",
       " '0',\n",
       " '1',\n",
       " '0',\n",
       " '0',\n",
       " '0',\n",
       " '0',\n",
       " '0',\n",
       " '0',\n",
       " '0',\n",
       " '0',\n",
       " '0',\n",
       " '0',\n",
       " '0',\n",
       " '0',\n",
       " '0',\n",
       " '0',\n",
       " '0',\n",
       " '0',\n",
       " '0',\n",
       " '0',\n",
       " '0',\n",
       " '0',\n",
       " '0',\n",
       " '0',\n",
       " '0',\n",
       " '0',\n",
       " '0',\n",
       " '0',\n",
       " '0',\n",
       " '0',\n",
       " '0',\n",
       " '0',\n",
       " '0',\n",
       " '0',\n",
       " '0',\n",
       " '0',\n",
       " '0',\n",
       " '0',\n",
       " '0',\n",
       " '0',\n",
       " '0',\n",
       " '0',\n",
       " '0',\n",
       " '0',\n",
       " '0',\n",
       " '0',\n",
       " '0',\n",
       " '0',\n",
       " '0',\n",
       " '0',\n",
       " '0',\n",
       " '0',\n",
       " '0',\n",
       " '0',\n",
       " '0',\n",
       " '0',\n",
       " '0',\n",
       " '0',\n",
       " '0',\n",
       " '0',\n",
       " '0',\n",
       " '0',\n",
       " '0',\n",
       " '0',\n",
       " '0',\n",
       " '0',\n",
       " '0',\n",
       " '0',\n",
       " '0',\n",
       " '0',\n",
       " '1',\n",
       " '0',\n",
       " '0',\n",
       " '0',\n",
       " '0',\n",
       " '0',\n",
       " '0',\n",
       " '0',\n",
       " '0',\n",
       " '0',\n",
       " '0',\n",
       " '0',\n",
       " '0',\n",
       " '0',\n",
       " '0',\n",
       " '0',\n",
       " '0',\n",
       " '0',\n",
       " '0',\n",
       " '0',\n",
       " '0',\n",
       " '0',\n",
       " '0',\n",
       " '0',\n",
       " '0',\n",
       " '0',\n",
       " '1',\n",
       " '1',\n",
       " '0',\n",
       " '0',\n",
       " '0',\n",
       " '0',\n",
       " '0',\n",
       " '0',\n",
       " '0',\n",
       " '0',\n",
       " '0',\n",
       " '0',\n",
       " '0',\n",
       " '0',\n",
       " '0',\n",
       " '0',\n",
       " '0',\n",
       " '0',\n",
       " '0',\n",
       " '0',\n",
       " '0',\n",
       " '0',\n",
       " '0',\n",
       " '0',\n",
       " '0',\n",
       " '0',\n",
       " '0',\n",
       " '0',\n",
       " '0',\n",
       " '0',\n",
       " '0',\n",
       " '0',\n",
       " '0',\n",
       " '0',\n",
       " '0',\n",
       " '0',\n",
       " '0',\n",
       " '0',\n",
       " '0',\n",
       " '0',\n",
       " '0',\n",
       " '1',\n",
       " '1',\n",
       " '0',\n",
       " '0',\n",
       " '0',\n",
       " '0',\n",
       " '0',\n",
       " '0',\n",
       " '0',\n",
       " '0',\n",
       " '0',\n",
       " '0',\n",
       " '0',\n",
       " '0',\n",
       " '1',\n",
       " '0',\n",
       " '0',\n",
       " '0',\n",
       " '0',\n",
       " '0',\n",
       " '0',\n",
       " '0',\n",
       " '0',\n",
       " '0',\n",
       " '0',\n",
       " '0',\n",
       " '0',\n",
       " '0',\n",
       " '0',\n",
       " '0',\n",
       " '0',\n",
       " '0',\n",
       " '0',\n",
       " '0',\n",
       " '0',\n",
       " '0',\n",
       " '0',\n",
       " '0',\n",
       " '0',\n",
       " '0',\n",
       " '0',\n",
       " '0',\n",
       " '0',\n",
       " '0',\n",
       " '0',\n",
       " '0',\n",
       " '0',\n",
       " '0',\n",
       " '0',\n",
       " '1',\n",
       " '1',\n",
       " '1',\n",
       " '0',\n",
       " '0',\n",
       " '0',\n",
       " '0',\n",
       " '0',\n",
       " '0',\n",
       " '0',\n",
       " '0',\n",
       " '0',\n",
       " ...]"
      ]
     },
     "execution_count": 115,
     "metadata": {},
     "output_type": "execute_result"
    }
   ],
   "source": [
    "nr"
   ]
  },
  {
   "cell_type": "code",
   "execution_count": 116,
   "metadata": {},
   "outputs": [],
   "source": [
    "reservas['Non Refundable'] = nr"
   ]
  },
  {
   "cell_type": "code",
   "execution_count": 117,
   "metadata": {},
   "outputs": [
    {
     "data": {
      "text/plain": [
       "0        0\n",
       "2        0\n",
       "3        0\n",
       "4        0\n",
       "5        0\n",
       "        ..\n",
       "36602    0\n",
       "36603    0\n",
       "36604    0\n",
       "36605    1\n",
       "36606    1\n",
       "Name: Non Refundable, Length: 33156, dtype: object"
      ]
     },
     "execution_count": 117,
     "metadata": {},
     "output_type": "execute_result"
    }
   ],
   "source": [
    "reservas['Non Refundable']"
   ]
  },
  {
   "cell_type": "code",
   "execution_count": 118,
   "metadata": {},
   "outputs": [],
   "source": [
    "reservas['Non Refundable'] = pd.to_numeric(reservas['Non Refundable'])"
   ]
  },
  {
   "cell_type": "code",
   "execution_count": 119,
   "metadata": {},
   "outputs": [
    {
     "data": {
      "text/plain": [
       "array([0, 1], dtype=int64)"
      ]
     },
     "execution_count": 119,
     "metadata": {},
     "output_type": "execute_result"
    }
   ],
   "source": [
    "reservas['Non Refundable'].unique()"
   ]
  },
  {
   "cell_type": "code",
   "execution_count": 120,
   "metadata": {},
   "outputs": [
    {
     "data": {
      "text/html": [
       "<div>\n",
       "<style scoped>\n",
       "    .dataframe tbody tr th:only-of-type {\n",
       "        vertical-align: middle;\n",
       "    }\n",
       "\n",
       "    .dataframe tbody tr th {\n",
       "        vertical-align: top;\n",
       "    }\n",
       "\n",
       "    .dataframe thead th {\n",
       "        text-align: right;\n",
       "    }\n",
       "</style>\n",
       "<table border=\"1\" class=\"dataframe\">\n",
       "  <thead>\n",
       "    <tr style=\"text-align: right;\">\n",
       "      <th></th>\n",
       "      <th>Numero Reserva</th>\n",
       "      <th>Cliente Comercial</th>\n",
       "      <th>Fecha llegada</th>\n",
       "      <th>Fecha de salida</th>\n",
       "      <th>Tipo de habitación</th>\n",
       "      <th>Estado</th>\n",
       "      <th>Identificador régimen alimenticio</th>\n",
       "      <th>Tarifa</th>\n",
       "      <th>Fecha de Creación</th>\n",
       "      <th>Nº de pax del tipo 1 alojados</th>\n",
       "      <th>...</th>\n",
       "      <th>Cancellation lead time</th>\n",
       "      <th>Lead time</th>\n",
       "      <th>Cxl time</th>\n",
       "      <th>Arrival_day</th>\n",
       "      <th>Departure_day</th>\n",
       "      <th>Stay type</th>\n",
       "      <th>Arrival month</th>\n",
       "      <th>Room type</th>\n",
       "      <th>Rate</th>\n",
       "      <th>Non Refundable</th>\n",
       "    </tr>\n",
       "  </thead>\n",
       "  <tbody>\n",
       "    <tr>\n",
       "      <th>0</th>\n",
       "      <td>4193691</td>\n",
       "      <td>BOOKING.COM</td>\n",
       "      <td>1/1/2019</td>\n",
       "      <td>7/1/2019</td>\n",
       "      <td>DBLSTD</td>\n",
       "      <td>Cancelada</td>\n",
       "      <td>BB</td>\n",
       "      <td>X_BAR</td>\n",
       "      <td>27/7/2018</td>\n",
       "      <td>1</td>\n",
       "      <td>...</td>\n",
       "      <td>158.0</td>\n",
       "      <td>158</td>\n",
       "      <td>0.0</td>\n",
       "      <td>L</td>\n",
       "      <td>L</td>\n",
       "      <td>L-W-L</td>\n",
       "      <td>1</td>\n",
       "      <td>Double Standard</td>\n",
       "      <td>X_BAR</td>\n",
       "      <td>0</td>\n",
       "    </tr>\n",
       "    <tr>\n",
       "      <th>2</th>\n",
       "      <td>4438480</td>\n",
       "      <td>MIKI TRAVEL LTD.</td>\n",
       "      <td>1/1/2019</td>\n",
       "      <td>3/1/2019</td>\n",
       "      <td>TPLSTD</td>\n",
       "      <td>Cancelada</td>\n",
       "      <td>BB</td>\n",
       "      <td>F_W18_S19</td>\n",
       "      <td>8/10/2018</td>\n",
       "      <td>3</td>\n",
       "      <td>...</td>\n",
       "      <td>81.0</td>\n",
       "      <td>85</td>\n",
       "      <td>4.0</td>\n",
       "      <td>L</td>\n",
       "      <td>L</td>\n",
       "      <td>L-L</td>\n",
       "      <td>1</td>\n",
       "      <td>Triple Standard</td>\n",
       "      <td>F_W18_S19</td>\n",
       "      <td>0</td>\n",
       "    </tr>\n",
       "    <tr>\n",
       "      <th>3</th>\n",
       "      <td>4472440</td>\n",
       "      <td>BOOKING.COM</td>\n",
       "      <td>1/1/2019</td>\n",
       "      <td>13/1/2019</td>\n",
       "      <td>DBLSTD</td>\n",
       "      <td>Cancelada</td>\n",
       "      <td>BB</td>\n",
       "      <td>X_BAR</td>\n",
       "      <td>17/10/2018</td>\n",
       "      <td>2</td>\n",
       "      <td>...</td>\n",
       "      <td>75.0</td>\n",
       "      <td>76</td>\n",
       "      <td>1.0</td>\n",
       "      <td>L</td>\n",
       "      <td>W</td>\n",
       "      <td>W-L</td>\n",
       "      <td>1</td>\n",
       "      <td>Double Standard</td>\n",
       "      <td>X_BAR</td>\n",
       "      <td>0</td>\n",
       "    </tr>\n",
       "    <tr>\n",
       "      <th>4</th>\n",
       "      <td>4563806</td>\n",
       "      <td>SUNHOTELS</td>\n",
       "      <td>1/1/2019</td>\n",
       "      <td>6/1/2019</td>\n",
       "      <td>DBLSTD</td>\n",
       "      <td>Cancelada</td>\n",
       "      <td>BB</td>\n",
       "      <td>F_W18_S19</td>\n",
       "      <td>12/11/2018</td>\n",
       "      <td>2</td>\n",
       "      <td>...</td>\n",
       "      <td>49.0</td>\n",
       "      <td>50</td>\n",
       "      <td>1.0</td>\n",
       "      <td>L</td>\n",
       "      <td>W</td>\n",
       "      <td>W-L</td>\n",
       "      <td>1</td>\n",
       "      <td>Double Standard</td>\n",
       "      <td>F_W18_S19</td>\n",
       "      <td>0</td>\n",
       "    </tr>\n",
       "    <tr>\n",
       "      <th>5</th>\n",
       "      <td>4567131</td>\n",
       "      <td>SUNHOTELS</td>\n",
       "      <td>1/1/2019</td>\n",
       "      <td>6/1/2019</td>\n",
       "      <td>DBLSTD</td>\n",
       "      <td>Cancelada</td>\n",
       "      <td>BB</td>\n",
       "      <td>F_W18_S19</td>\n",
       "      <td>13/11/2018</td>\n",
       "      <td>2</td>\n",
       "      <td>...</td>\n",
       "      <td>46.0</td>\n",
       "      <td>49</td>\n",
       "      <td>3.0</td>\n",
       "      <td>L</td>\n",
       "      <td>W</td>\n",
       "      <td>W-L</td>\n",
       "      <td>1</td>\n",
       "      <td>Double Standard</td>\n",
       "      <td>F_W18_S19</td>\n",
       "      <td>0</td>\n",
       "    </tr>\n",
       "  </tbody>\n",
       "</table>\n",
       "<p>5 rows × 34 columns</p>\n",
       "</div>"
      ],
      "text/plain": [
       "   Numero Reserva Cliente Comercial Fecha llegada Fecha de salida  \\\n",
       "0         4193691       BOOKING.COM      1/1/2019        7/1/2019   \n",
       "2         4438480  MIKI TRAVEL LTD.      1/1/2019        3/1/2019   \n",
       "3         4472440       BOOKING.COM      1/1/2019       13/1/2019   \n",
       "4         4563806         SUNHOTELS      1/1/2019        6/1/2019   \n",
       "5         4567131         SUNHOTELS      1/1/2019        6/1/2019   \n",
       "\n",
       "  Tipo de habitación     Estado Identificador régimen alimenticio     Tarifa  \\\n",
       "0             DBLSTD  Cancelada                                BB      X_BAR   \n",
       "2             TPLSTD  Cancelada                                BB  F_W18_S19   \n",
       "3             DBLSTD  Cancelada                                BB      X_BAR   \n",
       "4             DBLSTD  Cancelada                                BB  F_W18_S19   \n",
       "5             DBLSTD  Cancelada                                BB  F_W18_S19   \n",
       "\n",
       "  Fecha de Creación  Nº de pax del tipo 1 alojados  ...  \\\n",
       "0         27/7/2018                              1  ...   \n",
       "2         8/10/2018                              3  ...   \n",
       "3        17/10/2018                              2  ...   \n",
       "4        12/11/2018                              2  ...   \n",
       "5        13/11/2018                              2  ...   \n",
       "\n",
       "  Cancellation lead time Lead time Cxl time Arrival_day Departure_day  \\\n",
       "0                  158.0       158      0.0           L             L   \n",
       "2                   81.0        85      4.0           L             L   \n",
       "3                   75.0        76      1.0           L             W   \n",
       "4                   49.0        50      1.0           L             W   \n",
       "5                   46.0        49      3.0           L             W   \n",
       "\n",
       "  Stay type Arrival month        Room type       Rate Non Refundable  \n",
       "0     L-W-L             1  Double Standard      X_BAR              0  \n",
       "2       L-L             1  Triple Standard  F_W18_S19              0  \n",
       "3       W-L             1  Double Standard      X_BAR              0  \n",
       "4       W-L             1  Double Standard  F_W18_S19              0  \n",
       "5       W-L             1  Double Standard  F_W18_S19              0  \n",
       "\n",
       "[5 rows x 34 columns]"
      ]
     },
     "execution_count": 120,
     "metadata": {},
     "output_type": "execute_result"
    }
   ],
   "source": [
    "reservas.head()"
   ]
  },
  {
   "cell_type": "markdown",
   "metadata": {},
   "source": [
    "## **Meal plan**"
   ]
  },
  {
   "cell_type": "code",
   "execution_count": 121,
   "metadata": {},
   "outputs": [
    {
     "data": {
      "text/plain": [
       "Numero Reserva                                   int64\n",
       "Cliente Comercial                               object\n",
       "Fecha llegada                                   object\n",
       "Fecha de salida                                 object\n",
       "Tipo de habitación                              object\n",
       "Estado                                          object\n",
       "Identificador régimen alimenticio               object\n",
       "Tarifa                                          object\n",
       "Fecha de Creación                               object\n",
       "Nº de pax del tipo 1 alojados                    int64\n",
       "Fecha de cancelación                            object\n",
       "VIP                                             object\n",
       "Identificador segmento de mercado               object\n",
       "Identificador procedencia de negocio            object\n",
       "País                                            object\n",
       "Identificador de canal                          object\n",
       "Status                                          object\n",
       "Cancelled                                        int64\n",
       "Market channel                                  object\n",
       "Arrival                                 datetime64[ns]\n",
       "Departure                               datetime64[ns]\n",
       "Creation date                           datetime64[ns]\n",
       "Cancellation date                       datetime64[ns]\n",
       "Length of the stay                               int64\n",
       "Cancellation lead time                         float64\n",
       "Lead time                                        int64\n",
       "Cxl time                                       float64\n",
       "Arrival_day                                     object\n",
       "Departure_day                                   object\n",
       "Stay type                                       object\n",
       "Arrival month                                    int64\n",
       "Room type                                       object\n",
       "Rate                                            object\n",
       "Non Refundable                                   int64\n",
       "dtype: object"
      ]
     },
     "execution_count": 121,
     "metadata": {},
     "output_type": "execute_result"
    }
   ],
   "source": [
    "reservas.dtypes"
   ]
  },
  {
   "cell_type": "code",
   "execution_count": 122,
   "metadata": {},
   "outputs": [
    {
     "data": {
      "text/plain": [
       "array(['BB', 'RO', 'HB'], dtype=object)"
      ]
     },
     "execution_count": 122,
     "metadata": {},
     "output_type": "execute_result"
    }
   ],
   "source": [
    "reservas['Identificador régimen alimenticio'].unique()"
   ]
  },
  {
   "cell_type": "code",
   "execution_count": 123,
   "metadata": {},
   "outputs": [],
   "source": [
    "reservas['Meal'] = reservas['Identificador régimen alimenticio']"
   ]
  },
  {
   "cell_type": "code",
   "execution_count": 124,
   "metadata": {},
   "outputs": [],
   "source": [
    "meal = reservas['Identificador régimen alimenticio'].value_counts()"
   ]
  },
  {
   "cell_type": "code",
   "execution_count": 125,
   "metadata": {},
   "outputs": [
    {
     "data": {
      "image/png": "[encoded data removed]",
      "text/plain": [
       "<Figure size 1296x648 with 1 Axes>"
      ]
     },
     "metadata": {
      "needs_background": "light"
     },
     "output_type": "display_data"
    }
   ],
   "source": [
    "fg,ax = plt.subplots(figsize=(18,9))\n",
    "\n",
    "sns.barplot(x=meal.index,y=meal,palette=\"vlag\",capsize=7.0)\n",
    "plt.title('Meal identifier')\n",
    "\n",
    "plt.show()"
   ]
  },
  {
   "cell_type": "markdown",
   "metadata": {},
   "source": [
    "## **Country**"
   ]
  },
  {
   "cell_type": "code",
   "execution_count": 126,
   "metadata": {},
   "outputs": [
    {
     "data": {
      "text/plain": [
       "Index(['Numero Reserva', 'Cliente Comercial', 'Fecha llegada',\n",
       "       'Fecha de salida', 'Tipo de habitación', 'Estado',\n",
       "       'Identificador régimen alimenticio', 'Tarifa', 'Fecha de Creación',\n",
       "       'Nº de pax del tipo 1 alojados', 'Fecha de cancelación', 'VIP',\n",
       "       'Identificador segmento de mercado',\n",
       "       'Identificador procedencia de negocio', 'País',\n",
       "       'Identificador de canal', 'Status', 'Cancelled', 'Market channel',\n",
       "       'Arrival', 'Departure', 'Creation date', 'Cancellation date',\n",
       "       'Length of the stay', 'Cancellation lead time', 'Lead time', 'Cxl time',\n",
       "       'Arrival_day', 'Departure_day', 'Stay type', 'Arrival month',\n",
       "       'Room type', 'Rate', 'Non Refundable', 'Meal'],\n",
       "      dtype='object')"
      ]
     },
     "execution_count": 126,
     "metadata": {},
     "output_type": "execute_result"
    }
   ],
   "source": [
    "reservas.columns"
   ]
  },
  {
   "cell_type": "code",
   "execution_count": 15,
   "metadata": {},
   "outputs": [],
   "source": [
    "pais = reservas['País'].value_counts()"
   ]
  },
  {
   "cell_type": "code",
   "execution_count": 29,
   "metadata": {},
   "outputs": [],
   "source": [
    "ok = reservas[reservas['Status']=='Confirmed']"
   ]
  },
  {
   "cell_type": "code",
   "execution_count": 30,
   "metadata": {},
   "outputs": [],
   "source": [
    "cxl = reservas[reservas['Status']=='Cancelled']"
   ]
  },
  {
   "cell_type": "code",
   "execution_count": 34,
   "metadata": {},
   "outputs": [
    {
     "data": {
      "text/plain": [
       "GB    10062\n",
       "ES     6125\n",
       "US     4257\n",
       "DE     2019\n",
       "CH     1843\n",
       "SG      893\n",
       "NL      668\n",
       "FR      660\n",
       "AE      421\n",
       "BE      400\n",
       "CA      274\n",
       "IE      270\n",
       "DK      206\n",
       "LU      151\n",
       "AU      149\n",
       "LI      144\n",
       "HK      137\n",
       "CN      112\n",
       "IL       79\n",
       "PT       69\n",
       "IT       49\n",
       "MX        8\n",
       "BG        5\n",
       "SE        2\n",
       "DO        2\n",
       "AT        1\n",
       "BR        1\n",
       "Name: País, dtype: int64"
      ]
     },
     "execution_count": 34,
     "metadata": {},
     "output_type": "execute_result"
    }
   ],
   "source": [
    "reservas['País'].value_counts()"
   ]
  },
  {
   "cell_type": "code",
   "execution_count": 21,
   "metadata": {},
   "outputs": [
    {
     "data": {
      "text/plain": [
       "GB    1692\n",
       "ES     963\n",
       "US     677\n",
       "DE     274\n",
       "CH     251\n",
       "AE     112\n",
       "NL      76\n",
       "SG      75\n",
       "LI      55\n",
       "CA      40\n",
       "BE      38\n",
       "CN      27\n",
       "LU      26\n",
       "IE      22\n",
       "FR      21\n",
       "IL      17\n",
       "AU      12\n",
       "PT      10\n",
       "MX       4\n",
       "IT       4\n",
       "DK       3\n",
       "HK       2\n",
       "BG       1\n",
       "BR       1\n",
       "Name: País, dtype: int64"
      ]
     },
     "execution_count": 21,
     "metadata": {},
     "output_type": "execute_result"
    }
   ],
   "source": [
    "cxl['País'].value_counts()"
   ]
  },
  {
   "cell_type": "code",
   "execution_count": 16,
   "metadata": {},
   "outputs": [],
   "source": [
    "reservas['Country'] = reservas['País'].fillna('')"
   ]
  },
  {
   "cell_type": "code",
   "execution_count": 17,
   "metadata": {},
   "outputs": [
    {
     "data": {
      "text/plain": [
       "GB    10062\n",
       "ES     6125\n",
       "US     4257\n",
       "DE     2019\n",
       "CH     1843\n",
       "SG      893\n",
       "NL      668\n",
       "FR      660\n",
       "AE      421\n",
       "BE      400\n",
       "CA      274\n",
       "IE      270\n",
       "DK      206\n",
       "LU      151\n",
       "AU      149\n",
       "LI      144\n",
       "HK      137\n",
       "CN      112\n",
       "IL       79\n",
       "PT       69\n",
       "IT       49\n",
       "MX        8\n",
       "BG        5\n",
       "SE        2\n",
       "DO        2\n",
       "AT        1\n",
       "BR        1\n",
       "Name: País, dtype: int64"
      ]
     },
     "execution_count": 17,
     "metadata": {},
     "output_type": "execute_result"
    }
   ],
   "source": [
    "pais"
   ]
  },
  {
   "cell_type": "code",
   "execution_count": 129,
   "metadata": {},
   "outputs": [
    {
     "data": {
      "text/plain": [
       "Numero Reserva                              0\n",
       "Cliente Comercial                           0\n",
       "Fecha llegada                               0\n",
       "Fecha de salida                             0\n",
       "Tipo de habitación                          0\n",
       "Estado                                      0\n",
       "Identificador régimen alimenticio           0\n",
       "Tarifa                                     89\n",
       "Fecha de Creación                           0\n",
       "Nº de pax del tipo 1 alojados               0\n",
       "Fecha de cancelación                    26970\n",
       "VIP                                     29169\n",
       "Identificador segmento de mercado           0\n",
       "Identificador procedencia de negocio        0\n",
       "País                                     4629\n",
       "Identificador de canal                      0\n",
       "Status                                      0\n",
       "Cancelled                                   0\n",
       "Market channel                              0\n",
       "Arrival                                     0\n",
       "Departure                                   0\n",
       "Creation date                               0\n",
       "Cancellation date                       26970\n",
       "Length of the stay                          0\n",
       "Cancellation lead time                  26970\n",
       "Lead time                                   0\n",
       "Cxl time                                26970\n",
       "Arrival_day                                 0\n",
       "Departure_day                               0\n",
       "Stay type                                   0\n",
       "Arrival month                               0\n",
       "Room type                                   0\n",
       "Rate                                        0\n",
       "Non Refundable                              0\n",
       "Meal                                        0\n",
       "Country                                     0\n",
       "dtype: int64"
      ]
     },
     "execution_count": 129,
     "metadata": {},
     "output_type": "execute_result"
    }
   ],
   "source": [
    "reservas.isna().sum()"
   ]
  },
  {
   "cell_type": "code",
   "execution_count": 130,
   "metadata": {},
   "outputs": [
    {
     "data": {
      "image/png": "[encoded data removed]",
      "text/plain": [
       "<Figure size 1296x648 with 1 Axes>"
      ]
     },
     "metadata": {
      "needs_background": "light"
     },
     "output_type": "display_data"
    }
   ],
   "source": [
    "fg,ax = plt.subplots(figsize=(18,9))\n",
    "\n",
    "sns.barplot(x=pais.index,y=pais,palette=\"vlag\",capsize=7.0)\n",
    "plt.title('Country emisor')\n",
    "\n",
    "plt.show()"
   ]
  },
  {
   "cell_type": "code",
   "execution_count": 131,
   "metadata": {},
   "outputs": [],
   "source": [
    "country = reservas['Country'].to_list()\n",
    "\n",
    "countries = ['GB','ES','US','DE','CH']"
   ]
  },
  {
   "cell_type": "code",
   "execution_count": 132,
   "metadata": {},
   "outputs": [],
   "source": [
    "new_count = []\n",
    "\n",
    "for elem in country:\n",
    "    if elem == 'GB':\n",
    "        new_count.append(elem.replace('GB','United Kingdom'))\n",
    "    if elem == 'ES':    \n",
    "        new_count.append(elem.replace('ES','Spain'))\n",
    "    if elem == 'US':    \n",
    "        new_count.append(elem.replace('US','United States'))\n",
    "    if elem == 'DE':    \n",
    "        new_count.append(elem.replace('DE','Germany'))\n",
    "    if elem == 'CH':    \n",
    "        new_count.append(elem.replace('CH','China'))\n",
    "    if elem not in countries:\n",
    "        new_count.append(elem.replace(elem,'Other'))"
   ]
  },
  {
   "cell_type": "code",
   "execution_count": 133,
   "metadata": {},
   "outputs": [],
   "source": [
    "reservas['Country'] = new_count"
   ]
  },
  {
   "cell_type": "code",
   "execution_count": 134,
   "metadata": {},
   "outputs": [
    {
     "data": {
      "text/plain": [
       "United Kingdom    9895\n",
       "Other             9252\n",
       "Spain             6029\n",
       "United States     4170\n",
       "Germany           1995\n",
       "China             1815\n",
       "Name: Country, dtype: int64"
      ]
     },
     "execution_count": 134,
     "metadata": {},
     "output_type": "execute_result"
    }
   ],
   "source": [
    "reservas['Country'].value_counts()"
   ]
  },
  {
   "cell_type": "markdown",
   "metadata": {},
   "source": [
    "---"
   ]
  },
  {
   "cell_type": "markdown",
   "metadata": {},
   "source": [
    "## **VIP**"
   ]
  },
  {
   "cell_type": "code",
   "execution_count": 135,
   "metadata": {},
   "outputs": [
    {
     "data": {
      "text/plain": [
       "array([nan, '5', '1', '2', '3', '4', 'P', '6', '9', '7', '8'],\n",
       "      dtype=object)"
      ]
     },
     "execution_count": 135,
     "metadata": {},
     "output_type": "execute_result"
    }
   ],
   "source": [
    "reservas['VIP'].unique()"
   ]
  },
  {
   "cell_type": "code",
   "execution_count": 136,
   "metadata": {},
   "outputs": [
    {
     "data": {
      "text/plain": [
       "5    3774\n",
       "1     102\n",
       "2      58\n",
       "3      30\n",
       "P       7\n",
       "9       6\n",
       "4       5\n",
       "6       3\n",
       "8       1\n",
       "7       1\n",
       "Name: VIP, dtype: int64"
      ]
     },
     "execution_count": 136,
     "metadata": {},
     "output_type": "execute_result"
    }
   ],
   "source": [
    "reservas['VIP'].value_counts()"
   ]
  },
  {
   "cell_type": "code",
   "execution_count": 137,
   "metadata": {},
   "outputs": [],
   "source": [
    "reservas['VIP'] = reservas['VIP'].fillna(0)"
   ]
  },
  {
   "cell_type": "code",
   "execution_count": 138,
   "metadata": {},
   "outputs": [],
   "source": [
    "vip = reservas['VIP'].to_list()"
   ]
  },
  {
   "cell_type": "code",
   "execution_count": 139,
   "metadata": {},
   "outputs": [],
   "source": [
    "vip_ok = []\n",
    "\n",
    "for elem in vip:\n",
    "    if elem != 0:\n",
    "        vip_ok.append(str(elem).replace(elem,'1'))\n",
    "    if elem == 0:\n",
    "        vip_ok.append(str(elem))"
   ]
  },
  {
   "cell_type": "code",
   "execution_count": 140,
   "metadata": {},
   "outputs": [],
   "source": [
    "reservas['VIP'] = vip_ok"
   ]
  },
  {
   "cell_type": "code",
   "execution_count": 141,
   "metadata": {},
   "outputs": [],
   "source": [
    "reservas['VIP'] = pd.to_numeric(reservas['VIP'])"
   ]
  },
  {
   "cell_type": "code",
   "execution_count": 142,
   "metadata": {},
   "outputs": [
    {
     "data": {
      "image/png": "[encoded data removed]",
      "text/plain": [
       "<Figure size 1296x648 with 1 Axes>"
      ]
     },
     "metadata": {
      "needs_background": "light"
     },
     "output_type": "display_data"
    }
   ],
   "source": [
    "vips = reservas['VIP'].value_counts()\n",
    "\n",
    "fg,ax = plt.subplots(figsize=(18,9))\n",
    "\n",
    "sns.barplot(x=vips.index,y=vips,palette=\"vlag\",capsize=7.0)\n",
    "plt.title('VIP customers')\n",
    "\n",
    "plt.show()"
   ]
  },
  {
   "cell_type": "markdown",
   "metadata": {},
   "source": [
    "---"
   ]
  },
  {
   "cell_type": "markdown",
   "metadata": {},
   "source": [
    "## **N of pax**"
   ]
  },
  {
   "cell_type": "code",
   "execution_count": 143,
   "metadata": {},
   "outputs": [],
   "source": [
    "reservas['N of pax'] = reservas ['Nº de pax del tipo 1 alojados']"
   ]
  },
  {
   "cell_type": "code",
   "execution_count": 144,
   "metadata": {},
   "outputs": [
    {
     "data": {
      "image/png": "[encoded data removed]",
      "text/plain": [
       "<Figure size 1296x648 with 1 Axes>"
      ]
     },
     "metadata": {
      "needs_background": "light"
     },
     "output_type": "display_data"
    }
   ],
   "source": [
    "pax = reservas['N of pax'].value_counts()\n",
    "\n",
    "fg,ax = plt.subplots(figsize=(18,9))\n",
    "\n",
    "sns.barplot(x=pax.index,y=pax,palette=\"vlag\",capsize=7.0)\n",
    "plt.title('Number of people')\n",
    "\n",
    "plt.show()"
   ]
  },
  {
   "cell_type": "markdown",
   "metadata": {},
   "source": [
    "## **Channel**"
   ]
  },
  {
   "cell_type": "code",
   "execution_count": 22,
   "metadata": {},
   "outputs": [],
   "source": [
    "reservas['Channel'] = reservas['Identificador de canal']"
   ]
  },
  {
   "cell_type": "code",
   "execution_count": 23,
   "metadata": {},
   "outputs": [
    {
     "data": {
      "text/plain": [
       "array(['XML', 'EMAIL', 'GDS', 'WEB', 'IMPLANT', 'ONL', 'CALLCENTER',\n",
       "       'MICE OPC/A', 'TELF', 'MICE TTOO', 'MICE COMP', 'WALKIN'],\n",
       "      dtype=object)"
      ]
     },
     "execution_count": 23,
     "metadata": {},
     "output_type": "execute_result"
    }
   ],
   "source": [
    "reservas['Channel'].unique()"
   ]
  },
  {
   "cell_type": "code",
   "execution_count": 24,
   "metadata": {},
   "outputs": [
    {
     "data": {
      "text/plain": [
       "EMAIL         14504\n",
       "XML           10688\n",
       "WEB            3692\n",
       "GDS            2787\n",
       "MICE COMP       800\n",
       "MICE OPC/A      546\n",
       "IMPLANT         272\n",
       "ONL             232\n",
       "CALLCENTER      104\n",
       "MICE TTOO        65\n",
       "TELF             24\n",
       "WALKIN            3\n",
       "Name: Channel, dtype: int64"
      ]
     },
     "execution_count": 24,
     "metadata": {},
     "output_type": "execute_result"
    }
   ],
   "source": [
    "reservas['Channel'].value_counts()"
   ]
  },
  {
   "cell_type": "code",
   "execution_count": 25,
   "metadata": {},
   "outputs": [],
   "source": [
    "channel = reservas['Channel'].to_list()"
   ]
  },
  {
   "cell_type": "code",
   "execution_count": 26,
   "metadata": {},
   "outputs": [],
   "source": [
    "channels = []\n",
    "\n",
    "for item in channel:\n",
    "    if item == 'EMAIL':\n",
    "        channels.append(item)\n",
    "    if item == 'XML':\n",
    "        channels.append(item)\n",
    "    if item == 'WEB':\n",
    "        channels.append(item)\n",
    "    if item == 'GDS':\n",
    "        channels.append(item)\n",
    "    if item == 'MICE COMP':\n",
    "        channels.append(item.replace(item,'MICE'))\n",
    "    if item == 'MICE OPC/A':\n",
    "        channels.append(item.replace(item,'MICE'))\n",
    "    if item == 'IMPLANT':\n",
    "        channels.append(item.replace(item,'Other'))\n",
    "    if item == 'ONL':\n",
    "        channels.append(item.replace(item,'Other'))\n",
    "    if item == 'CALLCENTER':\n",
    "        channels.append(item.replace(item,'Other'))\n",
    "    if item == 'MICE TTOO':\n",
    "        channels.append(item.replace(item,'MICE'))\n",
    "    if item == 'TELF':\n",
    "        channels.append(item.replace(item,'Other'))\n",
    "    if item == 'WALKIN':\n",
    "        channels.append(item.replace(item,'Other'))\n",
    "        \n",
    "\n",
    "    \n",
    "        \n",
    "        "
   ]
  },
  {
   "cell_type": "code",
   "execution_count": 27,
   "metadata": {},
   "outputs": [],
   "source": [
    "reservas['Channel'] = channels"
   ]
  },
  {
   "cell_type": "code",
   "execution_count": 33,
   "metadata": {},
   "outputs": [
    {
     "data": {
      "text/plain": [
       "EMAIL    14504\n",
       "XML      10688\n",
       "WEB       3692\n",
       "GDS       2787\n",
       "MICE      1411\n",
       "Other      635\n",
       "Name: Channel, dtype: int64"
      ]
     },
     "execution_count": 33,
     "metadata": {},
     "output_type": "execute_result"
    }
   ],
   "source": [
    "reservas['Channel'].value_counts()"
   ]
  },
  {
   "cell_type": "code",
   "execution_count": 32,
   "metadata": {},
   "outputs": [
    {
     "data": {
      "text/plain": [
       "XML      2709\n",
       "EMAIL    1603\n",
       "MICE      666\n",
       "WEB       579\n",
       "GDS       485\n",
       "Other     136\n",
       "Name: Channel, dtype: int64"
      ]
     },
     "execution_count": 32,
     "metadata": {},
     "output_type": "execute_result"
    }
   ],
   "source": [
    "cxl['Channel'].value_counts()"
   ]
  },
  {
   "cell_type": "code",
   "execution_count": 151,
   "metadata": {},
   "outputs": [],
   "source": [
    "chan = reservas['Channel'].value_counts()"
   ]
  },
  {
   "cell_type": "code",
   "execution_count": 152,
   "metadata": {},
   "outputs": [
    {
     "data": {
      "image/png": "[encoded data removed]",
      "text/plain": [
       "<Figure size 1296x648 with 1 Axes>"
      ]
     },
     "metadata": {
      "needs_background": "light"
     },
     "output_type": "display_data"
    }
   ],
   "source": [
    "fg,ax = plt.subplots(figsize=(18,9))\n",
    "\n",
    "sns.barplot(x=chan.index,y=chan,palette=\"vlag\",capsize=5.0)\n",
    "plt.title('Market channel')\n",
    "\n",
    "plt.show()"
   ]
  },
  {
   "cell_type": "code",
   "execution_count": 153,
   "metadata": {},
   "outputs": [
    {
     "data": {
      "text/plain": [
       "<AxesSubplot:xlabel='Channel', ylabel='count'>"
      ]
     },
     "execution_count": 153,
     "metadata": {},
     "output_type": "execute_result"
    },
    {
     "data": {
      "image/png": "[encoded data removed]",
      "text/plain": [
       "<Figure size 1296x648 with 1 Axes>"
      ]
     },
     "metadata": {
      "needs_background": "light"
     },
     "output_type": "display_data"
    }
   ],
   "source": [
    "fg,ax = plt.subplots(figsize=(18,9))\n",
    "\n",
    "sns.countplot(x=\"Channel\",hue='Estado',data=reservas)"
   ]
  },
  {
   "cell_type": "markdown",
   "metadata": {},
   "source": [
    "---"
   ]
  },
  {
   "cell_type": "markdown",
   "metadata": {},
   "source": [
    "## **Market country**"
   ]
  },
  {
   "cell_type": "markdown",
   "metadata": {},
   "source": [
    "---"
   ]
  },
  {
   "cell_type": "code",
   "execution_count": 154,
   "metadata": {},
   "outputs": [
    {
     "data": {
      "text/plain": [
       "array(['ONL', 'NO', 'BEL', 'ASIA', 'EMP', 'DIR', 'CAN', 'HOL', 'UK',\n",
       "       'GER', 'FRA', 'ESP', 'LUX', 'USA', 'CO', 'BR'], dtype=object)"
      ]
     },
     "execution_count": 154,
     "metadata": {},
     "output_type": "execute_result"
    }
   ],
   "source": [
    "reservas['Identificador procedencia de negocio'].unique()"
   ]
  },
  {
   "cell_type": "code",
   "execution_count": 155,
   "metadata": {},
   "outputs": [],
   "source": [
    "reservas['Market country'] = reservas['Identificador procedencia de negocio']"
   ]
  },
  {
   "cell_type": "markdown",
   "metadata": {},
   "source": [
    "---"
   ]
  },
  {
   "cell_type": "markdown",
   "metadata": {},
   "source": [
    "## **Market segment**"
   ]
  },
  {
   "cell_type": "markdown",
   "metadata": {},
   "source": [
    "---"
   ]
  },
  {
   "cell_type": "code",
   "execution_count": 156,
   "metadata": {},
   "outputs": [],
   "source": [
    "reservas['Market segmentation'] = reservas['Identificador segmento de mercado']"
   ]
  },
  {
   "cell_type": "code",
   "execution_count": 157,
   "metadata": {},
   "outputs": [
    {
     "data": {
      "text/plain": [
       "array(['ONL', 'TTOO', 'CORP', 'DIR', 'MICE', 'COMPL'], dtype=object)"
      ]
     },
     "execution_count": 157,
     "metadata": {},
     "output_type": "execute_result"
    }
   ],
   "source": [
    "reservas['Market segmentation'].unique()"
   ]
  },
  {
   "cell_type": "code",
   "execution_count": 158,
   "metadata": {},
   "outputs": [],
   "source": [
    "segment = reservas['Market segmentation'].value_counts()"
   ]
  },
  {
   "cell_type": "code",
   "execution_count": 159,
   "metadata": {},
   "outputs": [
    {
     "data": {
      "image/png": "[encoded data removed]",
      "text/plain": [
       "<Figure size 1296x648 with 1 Axes>"
      ]
     },
     "metadata": {
      "needs_background": "light"
     },
     "output_type": "display_data"
    }
   ],
   "source": [
    "fg,ax = plt.subplots(figsize=(18,9))\n",
    "\n",
    "sns.barplot(x=segment.index,y=segment,palette=\"vlag\",capsize=5.0)\n",
    "plt.title('Market segmentation')\n",
    "\n",
    "plt.show()"
   ]
  },
  {
   "cell_type": "markdown",
   "metadata": {},
   "source": [
    "---"
   ]
  },
  {
   "cell_type": "markdown",
   "metadata": {},
   "source": [
    "# Dealing with **N/A's**"
   ]
  },
  {
   "cell_type": "markdown",
   "metadata": {},
   "source": [
    "---"
   ]
  },
  {
   "cell_type": "code",
   "execution_count": 160,
   "metadata": {},
   "outputs": [
    {
     "data": {
      "text/plain": [
       "Fecha de cancelación                    26970\n",
       "Cancellation date                       26970\n",
       "Cancellation lead time                  26970\n",
       "Cxl time                                26970\n",
       "País                                     4629\n",
       "Tarifa                                     89\n",
       "Market segmentation                         0\n",
       "Identificador de canal                      0\n",
       "Identificador procedencia de negocio        0\n",
       "Identificador segmento de mercado           0\n",
       "VIP                                         0\n",
       "Nº de pax del tipo 1 alojados               0\n",
       "Cancelled                                   0\n",
       "Fecha de Creación                           0\n",
       "Identificador régimen alimenticio           0\n",
       "Estado                                      0\n",
       "Tipo de habitación                          0\n",
       "Fecha de salida                             0\n",
       "Fecha llegada                               0\n",
       "Cliente Comercial                           0\n",
       "Status                                      0\n",
       "Arrival                                     0\n",
       "Market channel                              0\n",
       "Market country                              0\n",
       "Channel                                     0\n",
       "N of pax                                    0\n",
       "Country                                     0\n",
       "Meal                                        0\n",
       "Non Refundable                              0\n",
       "Rate                                        0\n",
       "Room type                                   0\n",
       "Arrival month                               0\n",
       "Stay type                                   0\n",
       "Departure_day                               0\n",
       "Arrival_day                                 0\n",
       "Lead time                                   0\n",
       "Length of the stay                          0\n",
       "Creation date                               0\n",
       "Departure                                   0\n",
       "Numero Reserva                              0\n",
       "dtype: int64"
      ]
     },
     "execution_count": 160,
     "metadata": {},
     "output_type": "execute_result"
    }
   ],
   "source": [
    "reservas.isna().sum().sort_values(ascending=False)"
   ]
  },
  {
   "cell_type": "code",
   "execution_count": 161,
   "metadata": {},
   "outputs": [],
   "source": [
    "reservas = reservas.fillna(0)"
   ]
  },
  {
   "cell_type": "markdown",
   "metadata": {},
   "source": [
    "---"
   ]
  },
  {
   "cell_type": "markdown",
   "metadata": {},
   "source": [
    "# Pre-proccessing"
   ]
  },
  {
   "cell_type": "markdown",
   "metadata": {},
   "source": [
    "---"
   ]
  },
  {
   "cell_type": "code",
   "execution_count": 162,
   "metadata": {},
   "outputs": [
    {
     "data": {
      "text/plain": [
       "Numero Reserva                                   int64\n",
       "Cliente Comercial                               object\n",
       "Fecha llegada                                   object\n",
       "Fecha de salida                                 object\n",
       "Tipo de habitación                              object\n",
       "Estado                                          object\n",
       "Identificador régimen alimenticio               object\n",
       "Tarifa                                          object\n",
       "Fecha de Creación                               object\n",
       "Nº de pax del tipo 1 alojados                    int64\n",
       "Fecha de cancelación                            object\n",
       "VIP                                              int64\n",
       "Identificador segmento de mercado               object\n",
       "Identificador procedencia de negocio            object\n",
       "País                                            object\n",
       "Identificador de canal                          object\n",
       "Status                                          object\n",
       "Cancelled                                        int64\n",
       "Market channel                                  object\n",
       "Arrival                                 datetime64[ns]\n",
       "Departure                               datetime64[ns]\n",
       "Creation date                           datetime64[ns]\n",
       "Cancellation date                               object\n",
       "Length of the stay                               int64\n",
       "Cancellation lead time                         float64\n",
       "Lead time                                        int64\n",
       "Cxl time                                       float64\n",
       "Arrival_day                                     object\n",
       "Departure_day                                   object\n",
       "Stay type                                       object\n",
       "Arrival month                                    int64\n",
       "Room type                                       object\n",
       "Rate                                            object\n",
       "Non Refundable                                   int64\n",
       "Meal                                            object\n",
       "Country                                         object\n",
       "N of pax                                         int64\n",
       "Channel                                         object\n",
       "Market country                                  object\n",
       "Market segmentation                             object\n",
       "dtype: object"
      ]
     },
     "execution_count": 162,
     "metadata": {},
     "output_type": "execute_result"
    }
   ],
   "source": [
    "reservas.dtypes"
   ]
  },
  {
   "cell_type": "code",
   "execution_count": 163,
   "metadata": {},
   "outputs": [
    {
     "data": {
      "text/plain": [
       "Index(['Numero Reserva', 'Cliente Comercial', 'Fecha llegada',\n",
       "       'Fecha de salida', 'Tipo de habitación', 'Estado',\n",
       "       'Identificador régimen alimenticio', 'Tarifa', 'Fecha de Creación',\n",
       "       'Nº de pax del tipo 1 alojados', 'Fecha de cancelación', 'VIP',\n",
       "       'Identificador segmento de mercado',\n",
       "       'Identificador procedencia de negocio', 'País',\n",
       "       'Identificador de canal', 'Status', 'Cancelled', 'Market channel',\n",
       "       'Arrival', 'Departure', 'Creation date', 'Cancellation date',\n",
       "       'Length of the stay', 'Cancellation lead time', 'Lead time', 'Cxl time',\n",
       "       'Arrival_day', 'Departure_day', 'Stay type', 'Arrival month',\n",
       "       'Room type', 'Rate', 'Non Refundable', 'Meal', 'Country', 'N of pax',\n",
       "       'Channel', 'Market country', 'Market segmentation'],\n",
       "      dtype='object')"
      ]
     },
     "execution_count": 163,
     "metadata": {},
     "output_type": "execute_result"
    }
   ],
   "source": [
    "reservas.columns"
   ]
  },
  {
   "cell_type": "code",
   "execution_count": 164,
   "metadata": {},
   "outputs": [],
   "source": [
    "reservas = reservas.drop(columns=['Numero Reserva', 'Cliente Comercial', 'Fecha llegada',\n",
    "       'Fecha de salida', 'Tipo de habitación', 'Estado','Rate',\n",
    "       'Identificador régimen alimenticio', 'Tarifa', 'Fecha de Creación',\n",
    "       'Nº de pax del tipo 1 alojados','Fecha de cancelación',\n",
    "       'Identificador segmento de mercado',\n",
    "       'Identificador procedencia de negocio', 'País',\n",
    "       'Identificador de canal'])"
   ]
  },
  {
   "cell_type": "code",
   "execution_count": 165,
   "metadata": {},
   "outputs": [
    {
     "data": {
      "text/plain": [
       "VIP                                int64\n",
       "Status                            object\n",
       "Cancelled                          int64\n",
       "Market channel                    object\n",
       "Arrival                   datetime64[ns]\n",
       "Departure                 datetime64[ns]\n",
       "Creation date             datetime64[ns]\n",
       "Cancellation date                 object\n",
       "Length of the stay                 int64\n",
       "Cancellation lead time           float64\n",
       "Lead time                          int64\n",
       "Cxl time                         float64\n",
       "Arrival_day                       object\n",
       "Departure_day                     object\n",
       "Stay type                         object\n",
       "Arrival month                      int64\n",
       "Room type                         object\n",
       "Non Refundable                     int64\n",
       "Meal                              object\n",
       "Country                           object\n",
       "N of pax                           int64\n",
       "Channel                           object\n",
       "Market country                    object\n",
       "Market segmentation               object\n",
       "dtype: object"
      ]
     },
     "execution_count": 165,
     "metadata": {},
     "output_type": "execute_result"
    }
   ],
   "source": [
    "reservas.dtypes"
   ]
  },
  {
   "cell_type": "code",
   "execution_count": 166,
   "metadata": {},
   "outputs": [
    {
     "data": {
      "text/plain": [
       "Market segmentation       0\n",
       "Market country            0\n",
       "Status                    0\n",
       "Cancelled                 0\n",
       "Market channel            0\n",
       "Arrival                   0\n",
       "Departure                 0\n",
       "Creation date             0\n",
       "Cancellation date         0\n",
       "Length of the stay        0\n",
       "Cancellation lead time    0\n",
       "Lead time                 0\n",
       "Cxl time                  0\n",
       "Arrival_day               0\n",
       "Departure_day             0\n",
       "Stay type                 0\n",
       "Arrival month             0\n",
       "Room type                 0\n",
       "Non Refundable            0\n",
       "Meal                      0\n",
       "Country                   0\n",
       "N of pax                  0\n",
       "Channel                   0\n",
       "VIP                       0\n",
       "dtype: int64"
      ]
     },
     "execution_count": 166,
     "metadata": {},
     "output_type": "execute_result"
    }
   ],
   "source": [
    "reservas.isna().sum().sort_values(ascending=False)"
   ]
  },
  {
   "cell_type": "code",
   "execution_count": 167,
   "metadata": {},
   "outputs": [
    {
     "data": {
      "text/html": [
       "<div>\n",
       "<style scoped>\n",
       "    .dataframe tbody tr th:only-of-type {\n",
       "        vertical-align: middle;\n",
       "    }\n",
       "\n",
       "    .dataframe tbody tr th {\n",
       "        vertical-align: top;\n",
       "    }\n",
       "\n",
       "    .dataframe thead th {\n",
       "        text-align: right;\n",
       "    }\n",
       "</style>\n",
       "<table border=\"1\" class=\"dataframe\">\n",
       "  <thead>\n",
       "    <tr style=\"text-align: right;\">\n",
       "      <th></th>\n",
       "      <th>VIP</th>\n",
       "      <th>Status</th>\n",
       "      <th>Cancelled</th>\n",
       "      <th>Market channel</th>\n",
       "      <th>Arrival</th>\n",
       "      <th>Departure</th>\n",
       "      <th>Creation date</th>\n",
       "      <th>Cancellation date</th>\n",
       "      <th>Length of the stay</th>\n",
       "      <th>Cancellation lead time</th>\n",
       "      <th>...</th>\n",
       "      <th>Stay type</th>\n",
       "      <th>Arrival month</th>\n",
       "      <th>Room type</th>\n",
       "      <th>Non Refundable</th>\n",
       "      <th>Meal</th>\n",
       "      <th>Country</th>\n",
       "      <th>N of pax</th>\n",
       "      <th>Channel</th>\n",
       "      <th>Market country</th>\n",
       "      <th>Market segmentation</th>\n",
       "    </tr>\n",
       "  </thead>\n",
       "  <tbody>\n",
       "    <tr>\n",
       "      <th>0</th>\n",
       "      <td>0</td>\n",
       "      <td>Cancelled</td>\n",
       "      <td>1</td>\n",
       "      <td>OTA</td>\n",
       "      <td>2019-01-01</td>\n",
       "      <td>2019-01-07</td>\n",
       "      <td>2018-07-27</td>\n",
       "      <td>2018-07-27 00:00:00</td>\n",
       "      <td>6</td>\n",
       "      <td>158.0</td>\n",
       "      <td>...</td>\n",
       "      <td>L-W-L</td>\n",
       "      <td>1</td>\n",
       "      <td>Double Standard</td>\n",
       "      <td>0</td>\n",
       "      <td>BB</td>\n",
       "      <td>Other</td>\n",
       "      <td>1</td>\n",
       "      <td>XML</td>\n",
       "      <td>ONL</td>\n",
       "      <td>ONL</td>\n",
       "    </tr>\n",
       "    <tr>\n",
       "      <th>2</th>\n",
       "      <td>0</td>\n",
       "      <td>Cancelled</td>\n",
       "      <td>1</td>\n",
       "      <td>TTOO</td>\n",
       "      <td>2019-01-01</td>\n",
       "      <td>2019-01-03</td>\n",
       "      <td>2018-10-08</td>\n",
       "      <td>2018-10-12 00:00:00</td>\n",
       "      <td>2</td>\n",
       "      <td>81.0</td>\n",
       "      <td>...</td>\n",
       "      <td>L-L</td>\n",
       "      <td>1</td>\n",
       "      <td>Triple Standard</td>\n",
       "      <td>0</td>\n",
       "      <td>BB</td>\n",
       "      <td>United Kingdom</td>\n",
       "      <td>3</td>\n",
       "      <td>EMAIL</td>\n",
       "      <td>NO</td>\n",
       "      <td>TTOO</td>\n",
       "    </tr>\n",
       "    <tr>\n",
       "      <th>3</th>\n",
       "      <td>0</td>\n",
       "      <td>Cancelled</td>\n",
       "      <td>1</td>\n",
       "      <td>OTA</td>\n",
       "      <td>2019-01-01</td>\n",
       "      <td>2019-01-13</td>\n",
       "      <td>2018-10-17</td>\n",
       "      <td>2018-10-18 00:00:00</td>\n",
       "      <td>12</td>\n",
       "      <td>75.0</td>\n",
       "      <td>...</td>\n",
       "      <td>W-L</td>\n",
       "      <td>1</td>\n",
       "      <td>Double Standard</td>\n",
       "      <td>0</td>\n",
       "      <td>BB</td>\n",
       "      <td>Other</td>\n",
       "      <td>2</td>\n",
       "      <td>XML</td>\n",
       "      <td>ONL</td>\n",
       "      <td>ONL</td>\n",
       "    </tr>\n",
       "    <tr>\n",
       "      <th>4</th>\n",
       "      <td>0</td>\n",
       "      <td>Cancelled</td>\n",
       "      <td>1</td>\n",
       "      <td>TTOO</td>\n",
       "      <td>2019-01-01</td>\n",
       "      <td>2019-01-06</td>\n",
       "      <td>2018-11-12</td>\n",
       "      <td>2018-11-13 00:00:00</td>\n",
       "      <td>5</td>\n",
       "      <td>49.0</td>\n",
       "      <td>...</td>\n",
       "      <td>W-L</td>\n",
       "      <td>1</td>\n",
       "      <td>Double Standard</td>\n",
       "      <td>0</td>\n",
       "      <td>BB</td>\n",
       "      <td>Other</td>\n",
       "      <td>2</td>\n",
       "      <td>EMAIL</td>\n",
       "      <td>NO</td>\n",
       "      <td>TTOO</td>\n",
       "    </tr>\n",
       "    <tr>\n",
       "      <th>5</th>\n",
       "      <td>0</td>\n",
       "      <td>Cancelled</td>\n",
       "      <td>1</td>\n",
       "      <td>TTOO</td>\n",
       "      <td>2019-01-01</td>\n",
       "      <td>2019-01-06</td>\n",
       "      <td>2018-11-13</td>\n",
       "      <td>2018-11-16 00:00:00</td>\n",
       "      <td>5</td>\n",
       "      <td>46.0</td>\n",
       "      <td>...</td>\n",
       "      <td>W-L</td>\n",
       "      <td>1</td>\n",
       "      <td>Double Standard</td>\n",
       "      <td>0</td>\n",
       "      <td>BB</td>\n",
       "      <td>Other</td>\n",
       "      <td>2</td>\n",
       "      <td>EMAIL</td>\n",
       "      <td>NO</td>\n",
       "      <td>TTOO</td>\n",
       "    </tr>\n",
       "  </tbody>\n",
       "</table>\n",
       "<p>5 rows × 24 columns</p>\n",
       "</div>"
      ],
      "text/plain": [
       "   VIP     Status  Cancelled Market channel    Arrival  Departure  \\\n",
       "0    0  Cancelled          1            OTA 2019-01-01 2019-01-07   \n",
       "2    0  Cancelled          1           TTOO 2019-01-01 2019-01-03   \n",
       "3    0  Cancelled          1            OTA 2019-01-01 2019-01-13   \n",
       "4    0  Cancelled          1           TTOO 2019-01-01 2019-01-06   \n",
       "5    0  Cancelled          1           TTOO 2019-01-01 2019-01-06   \n",
       "\n",
       "  Creation date    Cancellation date  Length of the stay  \\\n",
       "0    2018-07-27  2018-07-27 00:00:00                   6   \n",
       "2    2018-10-08  2018-10-12 00:00:00                   2   \n",
       "3    2018-10-17  2018-10-18 00:00:00                  12   \n",
       "4    2018-11-12  2018-11-13 00:00:00                   5   \n",
       "5    2018-11-13  2018-11-16 00:00:00                   5   \n",
       "\n",
       "   Cancellation lead time  ...  Stay type  Arrival month        Room type  \\\n",
       "0                   158.0  ...      L-W-L              1  Double Standard   \n",
       "2                    81.0  ...        L-L              1  Triple Standard   \n",
       "3                    75.0  ...        W-L              1  Double Standard   \n",
       "4                    49.0  ...        W-L              1  Double Standard   \n",
       "5                    46.0  ...        W-L              1  Double Standard   \n",
       "\n",
       "  Non Refundable Meal         Country N of pax  Channel Market country  \\\n",
       "0              0   BB           Other        1      XML            ONL   \n",
       "2              0   BB  United Kingdom        3    EMAIL             NO   \n",
       "3              0   BB           Other        2      XML            ONL   \n",
       "4              0   BB           Other        2    EMAIL             NO   \n",
       "5              0   BB           Other        2    EMAIL             NO   \n",
       "\n",
       "  Market segmentation  \n",
       "0                 ONL  \n",
       "2                TTOO  \n",
       "3                 ONL  \n",
       "4                TTOO  \n",
       "5                TTOO  \n",
       "\n",
       "[5 rows x 24 columns]"
      ]
     },
     "execution_count": 167,
     "metadata": {},
     "output_type": "execute_result"
    }
   ],
   "source": [
    "reservas.head()"
   ]
  },
  {
   "cell_type": "code",
   "execution_count": 168,
   "metadata": {},
   "outputs": [
    {
     "data": {
      "text/plain": [
       "Index(['VIP', 'Status', 'Cancelled', 'Market channel', 'Arrival', 'Departure',\n",
       "       'Creation date', 'Cancellation date', 'Length of the stay',\n",
       "       'Cancellation lead time', 'Lead time', 'Cxl time', 'Arrival_day',\n",
       "       'Departure_day', 'Stay type', 'Arrival month', 'Room type',\n",
       "       'Non Refundable', 'Meal', 'Country', 'N of pax', 'Channel',\n",
       "       'Market country', 'Market segmentation'],\n",
       "      dtype='object')"
      ]
     },
     "execution_count": 168,
     "metadata": {},
     "output_type": "execute_result"
    }
   ],
   "source": [
    "reservas.columns"
   ]
  },
  {
   "cell_type": "code",
   "execution_count": 169,
   "metadata": {},
   "outputs": [],
   "source": [
    "cols = list(reservas.columns.values)"
   ]
  },
  {
   "cell_type": "code",
   "execution_count": 170,
   "metadata": {},
   "outputs": [
    {
     "data": {
      "text/plain": [
       "['VIP',\n",
       " 'Status',\n",
       " 'Cancelled',\n",
       " 'Market channel',\n",
       " 'Arrival',\n",
       " 'Departure',\n",
       " 'Creation date',\n",
       " 'Cancellation date',\n",
       " 'Length of the stay',\n",
       " 'Cancellation lead time',\n",
       " 'Lead time',\n",
       " 'Cxl time',\n",
       " 'Arrival_day',\n",
       " 'Departure_day',\n",
       " 'Stay type',\n",
       " 'Arrival month',\n",
       " 'Room type',\n",
       " 'Non Refundable',\n",
       " 'Meal',\n",
       " 'Country',\n",
       " 'N of pax',\n",
       " 'Channel',\n",
       " 'Market country',\n",
       " 'Market segmentation']"
      ]
     },
     "execution_count": 170,
     "metadata": {},
     "output_type": "execute_result"
    }
   ],
   "source": [
    "cols"
   ]
  },
  {
   "cell_type": "code",
   "execution_count": 171,
   "metadata": {},
   "outputs": [],
   "source": [
    "reservas = reservas[['Cancelled','Arrival','Arrival month','Departure','Length of the stay','Creation date','Lead time',\n",
    "                                     'Cancellation date','Cxl time','Cancellation lead time','Stay type','Room type',\n",
    "                    'Meal','N of pax','Non Refundable','VIP','Country','Market channel','Channel']]"
   ]
  },
  {
   "cell_type": "code",
   "execution_count": 172,
   "metadata": {},
   "outputs": [
    {
     "data": {
      "text/html": [
       "<div>\n",
       "<style scoped>\n",
       "    .dataframe tbody tr th:only-of-type {\n",
       "        vertical-align: middle;\n",
       "    }\n",
       "\n",
       "    .dataframe tbody tr th {\n",
       "        vertical-align: top;\n",
       "    }\n",
       "\n",
       "    .dataframe thead th {\n",
       "        text-align: right;\n",
       "    }\n",
       "</style>\n",
       "<table border=\"1\" class=\"dataframe\">\n",
       "  <thead>\n",
       "    <tr style=\"text-align: right;\">\n",
       "      <th></th>\n",
       "      <th>Cancelled</th>\n",
       "      <th>Arrival</th>\n",
       "      <th>Arrival month</th>\n",
       "      <th>Departure</th>\n",
       "      <th>Length of the stay</th>\n",
       "      <th>Creation date</th>\n",
       "      <th>Lead time</th>\n",
       "      <th>Cancellation date</th>\n",
       "      <th>Cxl time</th>\n",
       "      <th>Cancellation lead time</th>\n",
       "      <th>Stay type</th>\n",
       "      <th>Room type</th>\n",
       "      <th>Meal</th>\n",
       "      <th>N of pax</th>\n",
       "      <th>Non Refundable</th>\n",
       "      <th>VIP</th>\n",
       "      <th>Country</th>\n",
       "      <th>Market channel</th>\n",
       "      <th>Channel</th>\n",
       "    </tr>\n",
       "  </thead>\n",
       "  <tbody>\n",
       "    <tr>\n",
       "      <th>0</th>\n",
       "      <td>1</td>\n",
       "      <td>2019-01-01</td>\n",
       "      <td>1</td>\n",
       "      <td>2019-01-07</td>\n",
       "      <td>6</td>\n",
       "      <td>2018-07-27</td>\n",
       "      <td>158</td>\n",
       "      <td>2018-07-27 00:00:00</td>\n",
       "      <td>0.0</td>\n",
       "      <td>158.0</td>\n",
       "      <td>L-W-L</td>\n",
       "      <td>Double Standard</td>\n",
       "      <td>BB</td>\n",
       "      <td>1</td>\n",
       "      <td>0</td>\n",
       "      <td>0</td>\n",
       "      <td>Other</td>\n",
       "      <td>OTA</td>\n",
       "      <td>XML</td>\n",
       "    </tr>\n",
       "    <tr>\n",
       "      <th>2</th>\n",
       "      <td>1</td>\n",
       "      <td>2019-01-01</td>\n",
       "      <td>1</td>\n",
       "      <td>2019-01-03</td>\n",
       "      <td>2</td>\n",
       "      <td>2018-10-08</td>\n",
       "      <td>85</td>\n",
       "      <td>2018-10-12 00:00:00</td>\n",
       "      <td>4.0</td>\n",
       "      <td>81.0</td>\n",
       "      <td>L-L</td>\n",
       "      <td>Triple Standard</td>\n",
       "      <td>BB</td>\n",
       "      <td>3</td>\n",
       "      <td>0</td>\n",
       "      <td>0</td>\n",
       "      <td>United Kingdom</td>\n",
       "      <td>TTOO</td>\n",
       "      <td>EMAIL</td>\n",
       "    </tr>\n",
       "    <tr>\n",
       "      <th>3</th>\n",
       "      <td>1</td>\n",
       "      <td>2019-01-01</td>\n",
       "      <td>1</td>\n",
       "      <td>2019-01-13</td>\n",
       "      <td>12</td>\n",
       "      <td>2018-10-17</td>\n",
       "      <td>76</td>\n",
       "      <td>2018-10-18 00:00:00</td>\n",
       "      <td>1.0</td>\n",
       "      <td>75.0</td>\n",
       "      <td>W-L</td>\n",
       "      <td>Double Standard</td>\n",
       "      <td>BB</td>\n",
       "      <td>2</td>\n",
       "      <td>0</td>\n",
       "      <td>0</td>\n",
       "      <td>Other</td>\n",
       "      <td>OTA</td>\n",
       "      <td>XML</td>\n",
       "    </tr>\n",
       "    <tr>\n",
       "      <th>4</th>\n",
       "      <td>1</td>\n",
       "      <td>2019-01-01</td>\n",
       "      <td>1</td>\n",
       "      <td>2019-01-06</td>\n",
       "      <td>5</td>\n",
       "      <td>2018-11-12</td>\n",
       "      <td>50</td>\n",
       "      <td>2018-11-13 00:00:00</td>\n",
       "      <td>1.0</td>\n",
       "      <td>49.0</td>\n",
       "      <td>W-L</td>\n",
       "      <td>Double Standard</td>\n",
       "      <td>BB</td>\n",
       "      <td>2</td>\n",
       "      <td>0</td>\n",
       "      <td>0</td>\n",
       "      <td>Other</td>\n",
       "      <td>TTOO</td>\n",
       "      <td>EMAIL</td>\n",
       "    </tr>\n",
       "    <tr>\n",
       "      <th>5</th>\n",
       "      <td>1</td>\n",
       "      <td>2019-01-01</td>\n",
       "      <td>1</td>\n",
       "      <td>2019-01-06</td>\n",
       "      <td>5</td>\n",
       "      <td>2018-11-13</td>\n",
       "      <td>49</td>\n",
       "      <td>2018-11-16 00:00:00</td>\n",
       "      <td>3.0</td>\n",
       "      <td>46.0</td>\n",
       "      <td>W-L</td>\n",
       "      <td>Double Standard</td>\n",
       "      <td>BB</td>\n",
       "      <td>2</td>\n",
       "      <td>0</td>\n",
       "      <td>0</td>\n",
       "      <td>Other</td>\n",
       "      <td>TTOO</td>\n",
       "      <td>EMAIL</td>\n",
       "    </tr>\n",
       "  </tbody>\n",
       "</table>\n",
       "</div>"
      ],
      "text/plain": [
       "   Cancelled    Arrival  Arrival month  Departure  Length of the stay  \\\n",
       "0          1 2019-01-01              1 2019-01-07                   6   \n",
       "2          1 2019-01-01              1 2019-01-03                   2   \n",
       "3          1 2019-01-01              1 2019-01-13                  12   \n",
       "4          1 2019-01-01              1 2019-01-06                   5   \n",
       "5          1 2019-01-01              1 2019-01-06                   5   \n",
       "\n",
       "  Creation date  Lead time    Cancellation date  Cxl time  \\\n",
       "0    2018-07-27        158  2018-07-27 00:00:00       0.0   \n",
       "2    2018-10-08         85  2018-10-12 00:00:00       4.0   \n",
       "3    2018-10-17         76  2018-10-18 00:00:00       1.0   \n",
       "4    2018-11-12         50  2018-11-13 00:00:00       1.0   \n",
       "5    2018-11-13         49  2018-11-16 00:00:00       3.0   \n",
       "\n",
       "   Cancellation lead time Stay type        Room type Meal  N of pax  \\\n",
       "0                   158.0     L-W-L  Double Standard   BB         1   \n",
       "2                    81.0       L-L  Triple Standard   BB         3   \n",
       "3                    75.0       W-L  Double Standard   BB         2   \n",
       "4                    49.0       W-L  Double Standard   BB         2   \n",
       "5                    46.0       W-L  Double Standard   BB         2   \n",
       "\n",
       "   Non Refundable  VIP         Country Market channel Channel  \n",
       "0               0    0           Other            OTA     XML  \n",
       "2               0    0  United Kingdom           TTOO   EMAIL  \n",
       "3               0    0           Other            OTA     XML  \n",
       "4               0    0           Other           TTOO   EMAIL  \n",
       "5               0    0           Other           TTOO   EMAIL  "
      ]
     },
     "execution_count": 172,
     "metadata": {},
     "output_type": "execute_result"
    }
   ],
   "source": [
    "reservas.head()"
   ]
  },
  {
   "cell_type": "code",
   "execution_count": 173,
   "metadata": {},
   "outputs": [],
   "source": [
    "reservas.to_csv(r'../data/rvas_ok.csv')"
   ]
  },
  {
   "cell_type": "markdown",
   "metadata": {},
   "source": [
    "---"
   ]
  }
 ],
 "metadata": {
  "kernelspec": {
   "display_name": "Python 3",
   "language": "python",
   "name": "python3"
  },
  "language_info": {
   "codemirror_mode": {
    "name": "ipython",
    "version": 3
   },
   "file_extension": ".py",
   "mimetype": "text/x-python",
   "name": "python",
   "nbconvert_exporter": "python",
   "pygments_lexer": "ipython3",
   "version": "3.8.5"
  },
  "toc": {
   "base_numbering": 1,
   "nav_menu": {},
   "number_sections": true,
   "sideBar": true,
   "skip_h1_title": false,
   "title_cell": "Table of Contents",
   "title_sidebar": "Contents",
   "toc_cell": false,
   "toc_position": {
    "height": "calc(100% - 180px)",
    "left": "10px",
    "top": "150px",
    "width": "279.2px"
   },
   "toc_section_display": true,
   "toc_window_display": true
  },
  "varInspector": {
   "cols": {
    "lenName": 16,
    "lenType": 16,
    "lenVar": 40
   },
   "kernels_config": {
    "python": {
     "delete_cmd_postfix": "",
     "delete_cmd_prefix": "del ",
     "library": "var_list.py",
     "varRefreshCmd": "print(var_dic_list())"
    },
    "r": {
     "delete_cmd_postfix": ") ",
     "delete_cmd_prefix": "rm(",
     "library": "var_list.r",
     "varRefreshCmd": "cat(var_dic_list()) "
    }
   },
   "types_to_exclude": [
    "module",
    "function",
    "builtin_function_or_method",
    "instance",
    "_Feature"
   ],
   "window_display": false
  }
 },
 "nbformat": 4,
 "nbformat_minor": 4
}
