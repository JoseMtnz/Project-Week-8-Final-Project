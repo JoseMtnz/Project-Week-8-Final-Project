{
 "cells": [
  {
   "cell_type": "code",
   "execution_count": 2,
   "metadata": {},
   "outputs": [],
   "source": [
    "import pandas as pd\n",
    "import numpy as np\n",
    "import re\n",
    "\n",
    "import matplotlib.pyplot as plt\n",
    "%matplotlib inline\n",
    "import seaborn as sns"
   ]
  },
  {
   "cell_type": "code",
   "execution_count": 5,
   "metadata": {},
   "outputs": [
    {
     "name": "stderr",
     "output_type": "stream",
     "text": [
      "C:\\Users\\jmont\\anaconda3\\lib\\site-packages\\IPython\\core\\interactiveshell.py:3146: DtypeWarning: Columns (10,11) have mixed types.Specify dtype option on import or set low_memory=False.\n",
      "  has_raised = await self.run_ast_nodes(code_ast.body, cell_name,\n"
     ]
    }
   ],
   "source": [
    "reservas = pd.read_csv(r'../data/CXL.csv')"
   ]
  },
  {
   "cell_type": "code",
   "execution_count": 7,
   "metadata": {},
   "outputs": [
    {
     "data": {
      "text/html": [
       "<div>\n",
       "<style scoped>\n",
       "    .dataframe tbody tr th:only-of-type {\n",
       "        vertical-align: middle;\n",
       "    }\n",
       "\n",
       "    .dataframe tbody tr th {\n",
       "        vertical-align: top;\n",
       "    }\n",
       "\n",
       "    .dataframe thead th {\n",
       "        text-align: right;\n",
       "    }\n",
       "</style>\n",
       "<table border=\"1\" class=\"dataframe\">\n",
       "  <thead>\n",
       "    <tr style=\"text-align: right;\">\n",
       "      <th></th>\n",
       "      <th>Numero Reserva</th>\n",
       "      <th>Cliente Comercial</th>\n",
       "      <th>Fecha llegada</th>\n",
       "      <th>Fecha de salida</th>\n",
       "      <th>Tipo de habitación</th>\n",
       "      <th>Estado</th>\n",
       "      <th>Identificador régimen alimenticio</th>\n",
       "      <th>Tarifa</th>\n",
       "      <th>Fecha de Creación</th>\n",
       "      <th>Nº de pax del tipo 1 alojados</th>\n",
       "      <th>Fecha de cancelación</th>\n",
       "      <th>VIP</th>\n",
       "      <th>Identificador segmento de mercado</th>\n",
       "      <th>Identificador procedencia de negocio</th>\n",
       "      <th>País</th>\n",
       "      <th>Identificador de canal</th>\n",
       "    </tr>\n",
       "  </thead>\n",
       "  <tbody>\n",
       "    <tr>\n",
       "      <th>0</th>\n",
       "      <td>4193691</td>\n",
       "      <td>BOOKING.COM</td>\n",
       "      <td>1/1/2019</td>\n",
       "      <td>7/1/2019</td>\n",
       "      <td>DBLSTD</td>\n",
       "      <td>Cancelada</td>\n",
       "      <td>BB</td>\n",
       "      <td>X_BAR</td>\n",
       "      <td>27/7/2018</td>\n",
       "      <td>1</td>\n",
       "      <td>27/7/2018</td>\n",
       "      <td>NaN</td>\n",
       "      <td>ONL</td>\n",
       "      <td>ONL</td>\n",
       "      <td>NaN</td>\n",
       "      <td>XML</td>\n",
       "    </tr>\n",
       "    <tr>\n",
       "      <th>1</th>\n",
       "      <td>4304804</td>\n",
       "      <td>HRS</td>\n",
       "      <td>1/1/2019</td>\n",
       "      <td>10/1/2019</td>\n",
       "      <td>DBLSTD</td>\n",
       "      <td>No show</td>\n",
       "      <td>RO</td>\n",
       "      <td>X_BAR</td>\n",
       "      <td>30/8/2018</td>\n",
       "      <td>1</td>\n",
       "      <td>NaN</td>\n",
       "      <td>NaN</td>\n",
       "      <td>ONL</td>\n",
       "      <td>ONL</td>\n",
       "      <td>DE</td>\n",
       "      <td>XML</td>\n",
       "    </tr>\n",
       "    <tr>\n",
       "      <th>2</th>\n",
       "      <td>4438480</td>\n",
       "      <td>MIKI TRAVEL LTD.</td>\n",
       "      <td>1/1/2019</td>\n",
       "      <td>3/1/2019</td>\n",
       "      <td>TPLSTD</td>\n",
       "      <td>Cancelada</td>\n",
       "      <td>BB</td>\n",
       "      <td>F_W18_S19</td>\n",
       "      <td>8/10/2018</td>\n",
       "      <td>3</td>\n",
       "      <td>12/10/2018</td>\n",
       "      <td>NaN</td>\n",
       "      <td>TTOO</td>\n",
       "      <td>NO</td>\n",
       "      <td>GB</td>\n",
       "      <td>EMAIL</td>\n",
       "    </tr>\n",
       "    <tr>\n",
       "      <th>3</th>\n",
       "      <td>4472440</td>\n",
       "      <td>BOOKING.COM</td>\n",
       "      <td>1/1/2019</td>\n",
       "      <td>13/1/2019</td>\n",
       "      <td>DBLSTD</td>\n",
       "      <td>Cancelada</td>\n",
       "      <td>BB</td>\n",
       "      <td>X_BAR</td>\n",
       "      <td>17/10/2018</td>\n",
       "      <td>2</td>\n",
       "      <td>18/10/2018</td>\n",
       "      <td>NaN</td>\n",
       "      <td>ONL</td>\n",
       "      <td>ONL</td>\n",
       "      <td>NaN</td>\n",
       "      <td>XML</td>\n",
       "    </tr>\n",
       "    <tr>\n",
       "      <th>4</th>\n",
       "      <td>4563806</td>\n",
       "      <td>SUNHOTELS</td>\n",
       "      <td>1/1/2019</td>\n",
       "      <td>6/1/2019</td>\n",
       "      <td>DBLSTD</td>\n",
       "      <td>Cancelada</td>\n",
       "      <td>BB</td>\n",
       "      <td>F_W18_S19</td>\n",
       "      <td>12/11/2018</td>\n",
       "      <td>2</td>\n",
       "      <td>13/11/2018</td>\n",
       "      <td>NaN</td>\n",
       "      <td>TTOO</td>\n",
       "      <td>NO</td>\n",
       "      <td>AE</td>\n",
       "      <td>EMAIL</td>\n",
       "    </tr>\n",
       "  </tbody>\n",
       "</table>\n",
       "</div>"
      ],
      "text/plain": [
       "   Numero Reserva Cliente Comercial Fecha llegada Fecha de salida  \\\n",
       "0         4193691       BOOKING.COM      1/1/2019        7/1/2019   \n",
       "1         4304804               HRS      1/1/2019       10/1/2019   \n",
       "2         4438480  MIKI TRAVEL LTD.      1/1/2019        3/1/2019   \n",
       "3         4472440       BOOKING.COM      1/1/2019       13/1/2019   \n",
       "4         4563806         SUNHOTELS      1/1/2019        6/1/2019   \n",
       "\n",
       "  Tipo de habitación     Estado Identificador régimen alimenticio     Tarifa  \\\n",
       "0             DBLSTD  Cancelada                                BB      X_BAR   \n",
       "1             DBLSTD    No show                                RO      X_BAR   \n",
       "2             TPLSTD  Cancelada                                BB  F_W18_S19   \n",
       "3             DBLSTD  Cancelada                                BB      X_BAR   \n",
       "4             DBLSTD  Cancelada                                BB  F_W18_S19   \n",
       "\n",
       "  Fecha de Creación  Nº de pax del tipo 1 alojados Fecha de cancelación  VIP  \\\n",
       "0         27/7/2018                              1            27/7/2018  NaN   \n",
       "1         30/8/2018                              1                  NaN  NaN   \n",
       "2         8/10/2018                              3           12/10/2018  NaN   \n",
       "3        17/10/2018                              2           18/10/2018  NaN   \n",
       "4        12/11/2018                              2           13/11/2018  NaN   \n",
       "\n",
       "  Identificador segmento de mercado Identificador procedencia de negocio País  \\\n",
       "0                               ONL                                  ONL  NaN   \n",
       "1                               ONL                                  ONL   DE   \n",
       "2                              TTOO                                   NO   GB   \n",
       "3                               ONL                                  ONL  NaN   \n",
       "4                              TTOO                                   NO   AE   \n",
       "\n",
       "  Identificador de canal  \n",
       "0                    XML  \n",
       "1                    XML  \n",
       "2                  EMAIL  \n",
       "3                    XML  \n",
       "4                  EMAIL  "
      ]
     },
     "execution_count": 7,
     "metadata": {},
     "output_type": "execute_result"
    }
   ],
   "source": [
    "reservas.head()"
   ]
  },
  {
   "cell_type": "code",
   "execution_count": 8,
   "metadata": {},
   "outputs": [
    {
     "data": {
      "text/plain": [
       "Numero Reserva                           int64\n",
       "Cliente Comercial                       object\n",
       "Fecha llegada                           object\n",
       "Fecha de salida                         object\n",
       "Tipo de habitación                      object\n",
       "Estado                                  object\n",
       "Identificador régimen alimenticio       object\n",
       "Tarifa                                  object\n",
       "Fecha de Creación                       object\n",
       "Nº de pax del tipo 1 alojados            int64\n",
       "Fecha de cancelación                    object\n",
       "VIP                                     object\n",
       "Identificador segmento de mercado       object\n",
       "Identificador procedencia de negocio    object\n",
       "País                                    object\n",
       "Identificador de canal                  object\n",
       "dtype: object"
      ]
     },
     "execution_count": 8,
     "metadata": {},
     "output_type": "execute_result"
    }
   ],
   "source": [
    "reservas.dtypes"
   ]
  },
  {
   "cell_type": "code",
   "execution_count": 9,
   "metadata": {},
   "outputs": [
    {
     "data": {
      "text/plain": [
       "(36607, 16)"
      ]
     },
     "execution_count": 9,
     "metadata": {},
     "output_type": "execute_result"
    }
   ],
   "source": [
    "reservas.shape"
   ]
  },
  {
   "cell_type": "code",
   "execution_count": null,
   "metadata": {},
   "outputs": [],
   "source": []
  }
 ],
 "metadata": {
  "kernelspec": {
   "display_name": "Python 3",
   "language": "python",
   "name": "python3"
  },
  "language_info": {
   "codemirror_mode": {
    "name": "ipython",
    "version": 3
   },
   "file_extension": ".py",
   "mimetype": "text/x-python",
   "name": "python",
   "nbconvert_exporter": "python",
   "pygments_lexer": "ipython3",
   "version": "3.8.5"
  },
  "toc": {
   "base_numbering": 1,
   "nav_menu": {},
   "number_sections": true,
   "sideBar": true,
   "skip_h1_title": false,
   "title_cell": "Table of Contents",
   "title_sidebar": "Contents",
   "toc_cell": false,
   "toc_position": {},
   "toc_section_display": true,
   "toc_window_display": false
  },
  "varInspector": {
   "cols": {
    "lenName": 16,
    "lenType": 16,
    "lenVar": 40
   },
   "kernels_config": {
    "python": {
     "delete_cmd_postfix": "",
     "delete_cmd_prefix": "del ",
     "library": "var_list.py",
     "varRefreshCmd": "print(var_dic_list())"
    },
    "r": {
     "delete_cmd_postfix": ") ",
     "delete_cmd_prefix": "rm(",
     "library": "var_list.r",
     "varRefreshCmd": "cat(var_dic_list()) "
    }
   },
   "types_to_exclude": [
    "module",
    "function",
    "builtin_function_or_method",
    "instance",
    "_Feature"
   ],
   "window_display": false
  }
 },
 "nbformat": 4,
 "nbformat_minor": 4
}
