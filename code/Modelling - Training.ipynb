{
 "cells": [
  {
   "cell_type": "markdown",
   "metadata": {},
   "source": [
    "# **Data modelling** / Training & Error analysis"
   ]
  },
  {
   "cell_type": "markdown",
   "metadata": {},
   "source": [
    "**Importing libraries**"
   ]
  },
  {
   "cell_type": "code",
   "execution_count": 33,
   "metadata": {},
   "outputs": [],
   "source": [
    "import pandas as pd\n",
    "import numpy as np\n",
    "import re\n",
    "from sklearn.metrics import accuracy_score, f1_score, recall_score,precision_score , plot_confusion_matrix,cohen_kappa_score\n",
    "\n",
    "import matplotlib.pyplot as plt\n",
    "%matplotlib inline\n",
    "import seaborn as sns"
   ]
  },
  {
   "cell_type": "markdown",
   "metadata": {},
   "source": [
    "**Loading the dataset**"
   ]
  },
  {
   "cell_type": "code",
   "execution_count": 34,
   "metadata": {
    "scrolled": true
   },
   "outputs": [],
   "source": [
    "reservas = pd.read_csv(r'../data/rvas_ok.csv', index_col = 0, low_memory=False)"
   ]
  },
  {
   "cell_type": "code",
   "execution_count": 35,
   "metadata": {},
   "outputs": [
    {
     "name": "stdout",
     "output_type": "stream",
     "text": [
      "<class 'pandas.core.frame.DataFrame'>\n",
      "Int64Index: 33156 entries, 0 to 36606\n",
      "Data columns (total 19 columns):\n",
      " #   Column                  Non-Null Count  Dtype  \n",
      "---  ------                  --------------  -----  \n",
      " 0   Cancelled               33156 non-null  int64  \n",
      " 1   Arrival                 33156 non-null  object \n",
      " 2   Arrival month           33156 non-null  int64  \n",
      " 3   Departure               33156 non-null  object \n",
      " 4   Length of the stay      33156 non-null  int64  \n",
      " 5   Creation date           33156 non-null  object \n",
      " 6   Lead time               33156 non-null  int64  \n",
      " 7   Cancellation date       33156 non-null  object \n",
      " 8   Cxl time                33156 non-null  float64\n",
      " 9   Cancellation lead time  33156 non-null  float64\n",
      " 10  Stay type               33156 non-null  object \n",
      " 11  Room type               33156 non-null  object \n",
      " 12  Meal                    33156 non-null  object \n",
      " 13  N of pax                33156 non-null  int64  \n",
      " 14  Non Refundable          33156 non-null  int64  \n",
      " 15  VIP                     33156 non-null  int64  \n",
      " 16  Country                 33156 non-null  object \n",
      " 17  Market channel          33156 non-null  object \n",
      " 18  Channel                 33156 non-null  object \n",
      "dtypes: float64(2), int64(7), object(10)\n",
      "memory usage: 5.1+ MB\n"
     ]
    }
   ],
   "source": [
    "reservas.info()"
   ]
  },
  {
   "cell_type": "markdown",
   "metadata": {},
   "source": [
    "**Dropping columns**"
   ]
  },
  {
   "cell_type": "code",
   "execution_count": 36,
   "metadata": {},
   "outputs": [
    {
     "data": {
      "text/plain": [
       "Index(['Cancelled', 'Arrival', 'Arrival month', 'Departure',\n",
       "       'Length of the stay', 'Creation date', 'Lead time', 'Cancellation date',\n",
       "       'Cxl time', 'Cancellation lead time', 'Stay type', 'Room type', 'Meal',\n",
       "       'N of pax', 'Non Refundable', 'VIP', 'Country', 'Market channel',\n",
       "       'Channel'],\n",
       "      dtype='object')"
      ]
     },
     "execution_count": 36,
     "metadata": {},
     "output_type": "execute_result"
    }
   ],
   "source": [
    "reservas.columns"
   ]
  },
  {
   "cell_type": "code",
   "execution_count": 37,
   "metadata": {},
   "outputs": [],
   "source": [
    "reservas = reservas.drop(columns=['Arrival','Departure','Creation date','Cancellation date','Cxl time', 'Cancellation lead time'],axis=1)"
   ]
  },
  {
   "cell_type": "code",
   "execution_count": 38,
   "metadata": {},
   "outputs": [
    {
     "data": {
      "text/html": [
       "<div>\n",
       "<style scoped>\n",
       "    .dataframe tbody tr th:only-of-type {\n",
       "        vertical-align: middle;\n",
       "    }\n",
       "\n",
       "    .dataframe tbody tr th {\n",
       "        vertical-align: top;\n",
       "    }\n",
       "\n",
       "    .dataframe thead th {\n",
       "        text-align: right;\n",
       "    }\n",
       "</style>\n",
       "<table border=\"1\" class=\"dataframe\">\n",
       "  <thead>\n",
       "    <tr style=\"text-align: right;\">\n",
       "      <th></th>\n",
       "      <th>Cancelled</th>\n",
       "      <th>Arrival month</th>\n",
       "      <th>Length of the stay</th>\n",
       "      <th>Lead time</th>\n",
       "      <th>Stay type</th>\n",
       "      <th>Room type</th>\n",
       "      <th>Meal</th>\n",
       "      <th>N of pax</th>\n",
       "      <th>Non Refundable</th>\n",
       "      <th>VIP</th>\n",
       "      <th>Country</th>\n",
       "      <th>Market channel</th>\n",
       "      <th>Channel</th>\n",
       "    </tr>\n",
       "  </thead>\n",
       "  <tbody>\n",
       "    <tr>\n",
       "      <th>0</th>\n",
       "      <td>1</td>\n",
       "      <td>1</td>\n",
       "      <td>6</td>\n",
       "      <td>158</td>\n",
       "      <td>L-W-L</td>\n",
       "      <td>Double Standard</td>\n",
       "      <td>BB</td>\n",
       "      <td>1</td>\n",
       "      <td>0</td>\n",
       "      <td>0</td>\n",
       "      <td>Other</td>\n",
       "      <td>OTA</td>\n",
       "      <td>XML</td>\n",
       "    </tr>\n",
       "    <tr>\n",
       "      <th>2</th>\n",
       "      <td>1</td>\n",
       "      <td>1</td>\n",
       "      <td>2</td>\n",
       "      <td>85</td>\n",
       "      <td>L-L</td>\n",
       "      <td>Triple Standard</td>\n",
       "      <td>BB</td>\n",
       "      <td>3</td>\n",
       "      <td>0</td>\n",
       "      <td>0</td>\n",
       "      <td>United Kingdom</td>\n",
       "      <td>TTOO</td>\n",
       "      <td>EMAIL</td>\n",
       "    </tr>\n",
       "    <tr>\n",
       "      <th>3</th>\n",
       "      <td>1</td>\n",
       "      <td>1</td>\n",
       "      <td>12</td>\n",
       "      <td>76</td>\n",
       "      <td>W-L</td>\n",
       "      <td>Double Standard</td>\n",
       "      <td>BB</td>\n",
       "      <td>2</td>\n",
       "      <td>0</td>\n",
       "      <td>0</td>\n",
       "      <td>Other</td>\n",
       "      <td>OTA</td>\n",
       "      <td>XML</td>\n",
       "    </tr>\n",
       "    <tr>\n",
       "      <th>4</th>\n",
       "      <td>1</td>\n",
       "      <td>1</td>\n",
       "      <td>5</td>\n",
       "      <td>50</td>\n",
       "      <td>W-L</td>\n",
       "      <td>Double Standard</td>\n",
       "      <td>BB</td>\n",
       "      <td>2</td>\n",
       "      <td>0</td>\n",
       "      <td>0</td>\n",
       "      <td>Other</td>\n",
       "      <td>TTOO</td>\n",
       "      <td>EMAIL</td>\n",
       "    </tr>\n",
       "    <tr>\n",
       "      <th>5</th>\n",
       "      <td>1</td>\n",
       "      <td>1</td>\n",
       "      <td>5</td>\n",
       "      <td>49</td>\n",
       "      <td>W-L</td>\n",
       "      <td>Double Standard</td>\n",
       "      <td>BB</td>\n",
       "      <td>2</td>\n",
       "      <td>0</td>\n",
       "      <td>0</td>\n",
       "      <td>Other</td>\n",
       "      <td>TTOO</td>\n",
       "      <td>EMAIL</td>\n",
       "    </tr>\n",
       "  </tbody>\n",
       "</table>\n",
       "</div>"
      ],
      "text/plain": [
       "   Cancelled  Arrival month  Length of the stay  Lead time Stay type  \\\n",
       "0          1              1                   6        158     L-W-L   \n",
       "2          1              1                   2         85       L-L   \n",
       "3          1              1                  12         76       W-L   \n",
       "4          1              1                   5         50       W-L   \n",
       "5          1              1                   5         49       W-L   \n",
       "\n",
       "         Room type Meal  N of pax  Non Refundable  VIP         Country  \\\n",
       "0  Double Standard   BB         1               0    0           Other   \n",
       "2  Triple Standard   BB         3               0    0  United Kingdom   \n",
       "3  Double Standard   BB         2               0    0           Other   \n",
       "4  Double Standard   BB         2               0    0           Other   \n",
       "5  Double Standard   BB         2               0    0           Other   \n",
       "\n",
       "  Market channel Channel  \n",
       "0            OTA     XML  \n",
       "2           TTOO   EMAIL  \n",
       "3            OTA     XML  \n",
       "4           TTOO   EMAIL  \n",
       "5           TTOO   EMAIL  "
      ]
     },
     "execution_count": 38,
     "metadata": {},
     "output_type": "execute_result"
    }
   ],
   "source": [
    "reservas.head()"
   ]
  },
  {
   "cell_type": "markdown",
   "metadata": {},
   "source": [
    "---"
   ]
  },
  {
   "cell_type": "markdown",
   "metadata": {},
   "source": [
    "# **One Hot Encoding**"
   ]
  },
  {
   "cell_type": "code",
   "execution_count": 39,
   "metadata": {},
   "outputs": [],
   "source": [
    "reservas = pd.get_dummies(reservas,drop_first=True)"
   ]
  },
  {
   "cell_type": "code",
   "execution_count": 40,
   "metadata": {},
   "outputs": [
    {
     "data": {
      "text/plain": [
       "(33156, 35)"
      ]
     },
     "execution_count": 40,
     "metadata": {},
     "output_type": "execute_result"
    }
   ],
   "source": [
    "reservas.shape"
   ]
  },
  {
   "cell_type": "markdown",
   "metadata": {},
   "source": [
    "# **Data splitting**"
   ]
  },
  {
   "cell_type": "code",
   "execution_count": 41,
   "metadata": {},
   "outputs": [],
   "source": [
    "X = reservas.drop('Cancelled',axis=1)\n",
    "\n",
    "y = reservas['Cancelled']"
   ]
  },
  {
   "cell_type": "code",
   "execution_count": 42,
   "metadata": {},
   "outputs": [
    {
     "data": {
      "text/html": [
       "<div>\n",
       "<style scoped>\n",
       "    .dataframe tbody tr th:only-of-type {\n",
       "        vertical-align: middle;\n",
       "    }\n",
       "\n",
       "    .dataframe tbody tr th {\n",
       "        vertical-align: top;\n",
       "    }\n",
       "\n",
       "    .dataframe thead th {\n",
       "        text-align: right;\n",
       "    }\n",
       "</style>\n",
       "<table border=\"1\" class=\"dataframe\">\n",
       "  <thead>\n",
       "    <tr style=\"text-align: right;\">\n",
       "      <th></th>\n",
       "      <th>Arrival month</th>\n",
       "      <th>Length of the stay</th>\n",
       "      <th>Lead time</th>\n",
       "      <th>N of pax</th>\n",
       "      <th>Non Refundable</th>\n",
       "      <th>VIP</th>\n",
       "      <th>Stay type_L-W</th>\n",
       "      <th>Stay type_L-W-L</th>\n",
       "      <th>Stay type_W-L</th>\n",
       "      <th>Stay type_W-W</th>\n",
       "      <th>...</th>\n",
       "      <th>Market channel_GDS</th>\n",
       "      <th>Market channel_Hotel deal apps</th>\n",
       "      <th>Market channel_OTA</th>\n",
       "      <th>Market channel_TTOO</th>\n",
       "      <th>Market channel_Travel agency</th>\n",
       "      <th>Channel_GDS</th>\n",
       "      <th>Channel_MICE</th>\n",
       "      <th>Channel_Other</th>\n",
       "      <th>Channel_WEB</th>\n",
       "      <th>Channel_XML</th>\n",
       "    </tr>\n",
       "  </thead>\n",
       "  <tbody>\n",
       "    <tr>\n",
       "      <th>0</th>\n",
       "      <td>1</td>\n",
       "      <td>6</td>\n",
       "      <td>158</td>\n",
       "      <td>1</td>\n",
       "      <td>0</td>\n",
       "      <td>0</td>\n",
       "      <td>0</td>\n",
       "      <td>1</td>\n",
       "      <td>0</td>\n",
       "      <td>0</td>\n",
       "      <td>...</td>\n",
       "      <td>0</td>\n",
       "      <td>0</td>\n",
       "      <td>1</td>\n",
       "      <td>0</td>\n",
       "      <td>0</td>\n",
       "      <td>0</td>\n",
       "      <td>0</td>\n",
       "      <td>0</td>\n",
       "      <td>0</td>\n",
       "      <td>1</td>\n",
       "    </tr>\n",
       "    <tr>\n",
       "      <th>2</th>\n",
       "      <td>1</td>\n",
       "      <td>2</td>\n",
       "      <td>85</td>\n",
       "      <td>3</td>\n",
       "      <td>0</td>\n",
       "      <td>0</td>\n",
       "      <td>0</td>\n",
       "      <td>0</td>\n",
       "      <td>0</td>\n",
       "      <td>0</td>\n",
       "      <td>...</td>\n",
       "      <td>0</td>\n",
       "      <td>0</td>\n",
       "      <td>0</td>\n",
       "      <td>1</td>\n",
       "      <td>0</td>\n",
       "      <td>0</td>\n",
       "      <td>0</td>\n",
       "      <td>0</td>\n",
       "      <td>0</td>\n",
       "      <td>0</td>\n",
       "    </tr>\n",
       "    <tr>\n",
       "      <th>3</th>\n",
       "      <td>1</td>\n",
       "      <td>12</td>\n",
       "      <td>76</td>\n",
       "      <td>2</td>\n",
       "      <td>0</td>\n",
       "      <td>0</td>\n",
       "      <td>0</td>\n",
       "      <td>0</td>\n",
       "      <td>1</td>\n",
       "      <td>0</td>\n",
       "      <td>...</td>\n",
       "      <td>0</td>\n",
       "      <td>0</td>\n",
       "      <td>1</td>\n",
       "      <td>0</td>\n",
       "      <td>0</td>\n",
       "      <td>0</td>\n",
       "      <td>0</td>\n",
       "      <td>0</td>\n",
       "      <td>0</td>\n",
       "      <td>1</td>\n",
       "    </tr>\n",
       "    <tr>\n",
       "      <th>4</th>\n",
       "      <td>1</td>\n",
       "      <td>5</td>\n",
       "      <td>50</td>\n",
       "      <td>2</td>\n",
       "      <td>0</td>\n",
       "      <td>0</td>\n",
       "      <td>0</td>\n",
       "      <td>0</td>\n",
       "      <td>1</td>\n",
       "      <td>0</td>\n",
       "      <td>...</td>\n",
       "      <td>0</td>\n",
       "      <td>0</td>\n",
       "      <td>0</td>\n",
       "      <td>1</td>\n",
       "      <td>0</td>\n",
       "      <td>0</td>\n",
       "      <td>0</td>\n",
       "      <td>0</td>\n",
       "      <td>0</td>\n",
       "      <td>0</td>\n",
       "    </tr>\n",
       "    <tr>\n",
       "      <th>5</th>\n",
       "      <td>1</td>\n",
       "      <td>5</td>\n",
       "      <td>49</td>\n",
       "      <td>2</td>\n",
       "      <td>0</td>\n",
       "      <td>0</td>\n",
       "      <td>0</td>\n",
       "      <td>0</td>\n",
       "      <td>1</td>\n",
       "      <td>0</td>\n",
       "      <td>...</td>\n",
       "      <td>0</td>\n",
       "      <td>0</td>\n",
       "      <td>0</td>\n",
       "      <td>1</td>\n",
       "      <td>0</td>\n",
       "      <td>0</td>\n",
       "      <td>0</td>\n",
       "      <td>0</td>\n",
       "      <td>0</td>\n",
       "      <td>0</td>\n",
       "    </tr>\n",
       "    <tr>\n",
       "      <th>...</th>\n",
       "      <td>...</td>\n",
       "      <td>...</td>\n",
       "      <td>...</td>\n",
       "      <td>...</td>\n",
       "      <td>...</td>\n",
       "      <td>...</td>\n",
       "      <td>...</td>\n",
       "      <td>...</td>\n",
       "      <td>...</td>\n",
       "      <td>...</td>\n",
       "      <td>...</td>\n",
       "      <td>...</td>\n",
       "      <td>...</td>\n",
       "      <td>...</td>\n",
       "      <td>...</td>\n",
       "      <td>...</td>\n",
       "      <td>...</td>\n",
       "      <td>...</td>\n",
       "      <td>...</td>\n",
       "      <td>...</td>\n",
       "      <td>...</td>\n",
       "    </tr>\n",
       "    <tr>\n",
       "      <th>36602</th>\n",
       "      <td>12</td>\n",
       "      <td>1</td>\n",
       "      <td>32</td>\n",
       "      <td>2</td>\n",
       "      <td>0</td>\n",
       "      <td>0</td>\n",
       "      <td>0</td>\n",
       "      <td>0</td>\n",
       "      <td>0</td>\n",
       "      <td>0</td>\n",
       "      <td>...</td>\n",
       "      <td>0</td>\n",
       "      <td>0</td>\n",
       "      <td>1</td>\n",
       "      <td>0</td>\n",
       "      <td>0</td>\n",
       "      <td>0</td>\n",
       "      <td>0</td>\n",
       "      <td>0</td>\n",
       "      <td>0</td>\n",
       "      <td>1</td>\n",
       "    </tr>\n",
       "    <tr>\n",
       "      <th>36603</th>\n",
       "      <td>12</td>\n",
       "      <td>1</td>\n",
       "      <td>32</td>\n",
       "      <td>2</td>\n",
       "      <td>0</td>\n",
       "      <td>0</td>\n",
       "      <td>0</td>\n",
       "      <td>0</td>\n",
       "      <td>0</td>\n",
       "      <td>0</td>\n",
       "      <td>...</td>\n",
       "      <td>0</td>\n",
       "      <td>1</td>\n",
       "      <td>0</td>\n",
       "      <td>0</td>\n",
       "      <td>0</td>\n",
       "      <td>0</td>\n",
       "      <td>0</td>\n",
       "      <td>0</td>\n",
       "      <td>0</td>\n",
       "      <td>1</td>\n",
       "    </tr>\n",
       "    <tr>\n",
       "      <th>36604</th>\n",
       "      <td>12</td>\n",
       "      <td>1</td>\n",
       "      <td>8</td>\n",
       "      <td>2</td>\n",
       "      <td>0</td>\n",
       "      <td>1</td>\n",
       "      <td>0</td>\n",
       "      <td>0</td>\n",
       "      <td>0</td>\n",
       "      <td>0</td>\n",
       "      <td>...</td>\n",
       "      <td>0</td>\n",
       "      <td>0</td>\n",
       "      <td>0</td>\n",
       "      <td>0</td>\n",
       "      <td>0</td>\n",
       "      <td>0</td>\n",
       "      <td>0</td>\n",
       "      <td>0</td>\n",
       "      <td>0</td>\n",
       "      <td>0</td>\n",
       "    </tr>\n",
       "    <tr>\n",
       "      <th>36605</th>\n",
       "      <td>12</td>\n",
       "      <td>1</td>\n",
       "      <td>6</td>\n",
       "      <td>2</td>\n",
       "      <td>1</td>\n",
       "      <td>0</td>\n",
       "      <td>0</td>\n",
       "      <td>0</td>\n",
       "      <td>0</td>\n",
       "      <td>0</td>\n",
       "      <td>...</td>\n",
       "      <td>0</td>\n",
       "      <td>0</td>\n",
       "      <td>0</td>\n",
       "      <td>0</td>\n",
       "      <td>1</td>\n",
       "      <td>0</td>\n",
       "      <td>0</td>\n",
       "      <td>0</td>\n",
       "      <td>0</td>\n",
       "      <td>1</td>\n",
       "    </tr>\n",
       "    <tr>\n",
       "      <th>36606</th>\n",
       "      <td>12</td>\n",
       "      <td>1</td>\n",
       "      <td>4</td>\n",
       "      <td>2</td>\n",
       "      <td>1</td>\n",
       "      <td>0</td>\n",
       "      <td>0</td>\n",
       "      <td>0</td>\n",
       "      <td>0</td>\n",
       "      <td>0</td>\n",
       "      <td>...</td>\n",
       "      <td>0</td>\n",
       "      <td>0</td>\n",
       "      <td>0</td>\n",
       "      <td>0</td>\n",
       "      <td>1</td>\n",
       "      <td>0</td>\n",
       "      <td>0</td>\n",
       "      <td>0</td>\n",
       "      <td>0</td>\n",
       "      <td>1</td>\n",
       "    </tr>\n",
       "  </tbody>\n",
       "</table>\n",
       "<p>33156 rows × 34 columns</p>\n",
       "</div>"
      ],
      "text/plain": [
       "       Arrival month  Length of the stay  Lead time  N of pax  Non Refundable  \\\n",
       "0                  1                   6        158         1               0   \n",
       "2                  1                   2         85         3               0   \n",
       "3                  1                  12         76         2               0   \n",
       "4                  1                   5         50         2               0   \n",
       "5                  1                   5         49         2               0   \n",
       "...              ...                 ...        ...       ...             ...   \n",
       "36602             12                   1         32         2               0   \n",
       "36603             12                   1         32         2               0   \n",
       "36604             12                   1          8         2               0   \n",
       "36605             12                   1          6         2               1   \n",
       "36606             12                   1          4         2               1   \n",
       "\n",
       "       VIP  Stay type_L-W  Stay type_L-W-L  Stay type_W-L  Stay type_W-W  ...  \\\n",
       "0        0              0                1              0              0  ...   \n",
       "2        0              0                0              0              0  ...   \n",
       "3        0              0                0              1              0  ...   \n",
       "4        0              0                0              1              0  ...   \n",
       "5        0              0                0              1              0  ...   \n",
       "...    ...            ...              ...            ...            ...  ...   \n",
       "36602    0              0                0              0              0  ...   \n",
       "36603    0              0                0              0              0  ...   \n",
       "36604    1              0                0              0              0  ...   \n",
       "36605    0              0                0              0              0  ...   \n",
       "36606    0              0                0              0              0  ...   \n",
       "\n",
       "       Market channel_GDS  Market channel_Hotel deal apps  Market channel_OTA  \\\n",
       "0                       0                               0                   1   \n",
       "2                       0                               0                   0   \n",
       "3                       0                               0                   1   \n",
       "4                       0                               0                   0   \n",
       "5                       0                               0                   0   \n",
       "...                   ...                             ...                 ...   \n",
       "36602                   0                               0                   1   \n",
       "36603                   0                               1                   0   \n",
       "36604                   0                               0                   0   \n",
       "36605                   0                               0                   0   \n",
       "36606                   0                               0                   0   \n",
       "\n",
       "       Market channel_TTOO  Market channel_Travel agency  Channel_GDS  \\\n",
       "0                        0                             0            0   \n",
       "2                        1                             0            0   \n",
       "3                        0                             0            0   \n",
       "4                        1                             0            0   \n",
       "5                        1                             0            0   \n",
       "...                    ...                           ...          ...   \n",
       "36602                    0                             0            0   \n",
       "36603                    0                             0            0   \n",
       "36604                    0                             0            0   \n",
       "36605                    0                             1            0   \n",
       "36606                    0                             1            0   \n",
       "\n",
       "       Channel_MICE  Channel_Other  Channel_WEB  Channel_XML  \n",
       "0                 0              0            0            1  \n",
       "2                 0              0            0            0  \n",
       "3                 0              0            0            1  \n",
       "4                 0              0            0            0  \n",
       "5                 0              0            0            0  \n",
       "...             ...            ...          ...          ...  \n",
       "36602             0              0            0            1  \n",
       "36603             0              0            0            1  \n",
       "36604             0              0            0            0  \n",
       "36605             0              0            0            1  \n",
       "36606             0              0            0            1  \n",
       "\n",
       "[33156 rows x 34 columns]"
      ]
     },
     "execution_count": 42,
     "metadata": {},
     "output_type": "execute_result"
    }
   ],
   "source": [
    "X"
   ]
  },
  {
   "cell_type": "code",
   "execution_count": 43,
   "metadata": {},
   "outputs": [],
   "source": [
    "from sklearn.model_selection import train_test_split\n",
    "\n",
    "X_train, X_test, y_train, y_test = train_test_split(X, y, test_size=0.2, random_state=17)"
   ]
  },
  {
   "cell_type": "code",
   "execution_count": 44,
   "metadata": {},
   "outputs": [],
   "source": [
    "X_train = pd.DataFrame(X_train,columns=X.columns)\n",
    "X_test = pd.DataFrame(X_test,columns=X.columns)"
   ]
  },
  {
   "cell_type": "markdown",
   "metadata": {},
   "source": [
    "---"
   ]
  },
  {
   "cell_type": "markdown",
   "metadata": {},
   "source": [
    "# **Scalling features**"
   ]
  },
  {
   "cell_type": "code",
   "execution_count": 45,
   "metadata": {},
   "outputs": [],
   "source": [
    "from sklearn.preprocessing import StandardScaler, MinMaxScaler, RobustScaler, PowerTransformer"
   ]
  },
  {
   "cell_type": "code",
   "execution_count": 46,
   "metadata": {},
   "outputs": [],
   "source": [
    "stan = StandardScaler()\n",
    "minmax = MinMaxScaler()\n",
    "robus = RobustScaler()\n",
    "power = PowerTransformer()"
   ]
  },
  {
   "cell_type": "code",
   "execution_count": 47,
   "metadata": {},
   "outputs": [],
   "source": [
    "#------------------------------------------------#\n",
    "\n",
    "\n",
    "stan.fit(X_train)\n",
    "\n",
    "X_train_stan = stan.transform(X_train)\n",
    "X_test_stan = stan.transform(X_test)\n",
    "\n",
    "X_train_stan = pd.DataFrame(X_train_stan,columns=X.columns)\n",
    "X_test_stan = pd.DataFrame(X_test_stan,columns=X.columns)\n",
    "#------------------------------------------------#\n",
    "\n",
    "\n",
    "\n",
    "minmax.fit(X_train)\n",
    "\n",
    "X_train_minmax = minmax.transform(X_train)\n",
    "X_test_minmax = minmax.transform(X_test)\n",
    "\n",
    "X_train_minmax = pd.DataFrame(X_train_minmax,columns=X.columns)\n",
    "X_test_minmax = pd.DataFrame(X_test_minmax,columns=X.columns)\n",
    "\n",
    "#------------------------------------------------#\n",
    "\n",
    "\n",
    "robus.fit(X_train)\n",
    "\n",
    "X_train_robus = robus.transform(X_train)\n",
    "X_test_robus = robus.transform(X_test)\n",
    "\n",
    "X_train_robus = pd.DataFrame(X_train_robus,columns=X.columns)\n",
    "X_test_robus  = pd.DataFrame(X_test_robus ,columns=X.columns)\n",
    "\n",
    "#------------------------------------------------#\n",
    "\n",
    "\n",
    "power.fit(X_train)\n",
    "\n",
    "X_train_power = power.transform(X_train)\n",
    "X_test_power = power.transform(X_test)\n",
    "\n",
    "X_train_power = pd.DataFrame(X_train_power,columns=X.columns)\n",
    "X_test_power = pd.DataFrame(X_test_power,columns=X.columns)"
   ]
  },
  {
   "cell_type": "markdown",
   "metadata": {},
   "source": [
    "---"
   ]
  },
  {
   "cell_type": "markdown",
   "metadata": {},
   "source": [
    "**List of X train / test scaled**"
   ]
  },
  {
   "cell_type": "code",
   "execution_count": 48,
   "metadata": {},
   "outputs": [],
   "source": [
    "train = [X_train_stan,X_train_minmax,X_train_robus,X_train_power]\n",
    "\n",
    "test = [X_test_stan,X_test_minmax,X_test_robus,X_test_power]"
   ]
  },
  {
   "cell_type": "markdown",
   "metadata": {},
   "source": [
    "---"
   ]
  },
  {
   "cell_type": "markdown",
   "metadata": {},
   "source": [
    "# **LogisticRegression**"
   ]
  },
  {
   "cell_type": "code",
   "execution_count": 49,
   "metadata": {},
   "outputs": [],
   "source": [
    "from sklearn.linear_model import LogisticRegression\n",
    "\n",
    "log = LogisticRegression()\n",
    "\n",
    "log.fit(X_train_stan, y_train)\n",
    "\n",
    "y_predict_train = log.predict(X_train_stan)\n",
    "y_predict_test = log.predict(X_test_stan)"
   ]
  },
  {
   "cell_type": "markdown",
   "metadata": {},
   "source": [
    "---"
   ]
  },
  {
   "cell_type": "markdown",
   "metadata": {},
   "source": [
    "## **Confusion matrix**"
   ]
  },
  {
   "cell_type": "markdown",
   "metadata": {},
   "source": [
    "**Train set** + StandarScaler"
   ]
  },
  {
   "cell_type": "code",
   "execution_count": 50,
   "metadata": {},
   "outputs": [
    {
     "name": "stdout",
     "output_type": "stream",
     "text": [
      "The accuracy score of the train set is:............ 0.842444578494948\n",
      "The f1 score of the train set is:............ 0.44018754186202275\n",
      "The recall score of the train set is:............ 0.33469138317376246\n",
      "The precision score of the train set is:............ 0.6428012519561815\n",
      "The cohen-kappa score of the train set is:............ 0.3589392512912096\n"
     ]
    },
    {
     "data": {
      "image/png": "[encoded data removed]",
      "text/plain": [
       "<Figure size 432x288 with 2 Axes>"
      ]
     },
     "metadata": {
      "needs_background": "light"
     },
     "output_type": "display_data"
    }
   ],
   "source": [
    "plot_confusion_matrix(log, X_train_stan, y_train) \n",
    "\n",
    "print('The accuracy score of the train set is:............',accuracy_score(y_train, y_predict_train))\n",
    "print('The f1 score of the train set is:............',f1_score(y_train, y_predict_train))\n",
    "print('The recall score of the train set is:............',recall_score(y_train, y_predict_train))\n",
    "print('The precision score of the train set is:............',precision_score(y_train, y_predict_train))\n",
    "print('The cohen-kappa score of the train set is:............',cohen_kappa_score(y_train, y_predict_train))"
   ]
  },
  {
   "cell_type": "markdown",
   "metadata": {},
   "source": [
    "---"
   ]
  },
  {
   "cell_type": "markdown",
   "metadata": {},
   "source": [
    "**Test set** + StandardScaler"
   ]
  },
  {
   "cell_type": "code",
   "execution_count": 51,
   "metadata": {},
   "outputs": [
    {
     "name": "stdout",
     "output_type": "stream",
     "text": [
      "The accuracy score of the test set is:............ 0.8431845597104946\n",
      "The f1 score of the test set is:............ 0.4583333333333333\n",
      "The recall score of the test set is:............ 0.3467297084318361\n",
      "The precision score of the test set is:............ 0.6758832565284179\n",
      "The cohen-kappa score of the test set is:............ 0.37756932867030124\n"
     ]
    },
    {
     "data": {
      "image/png": "[encoded data removed]",
      "text/plain": [
       "<Figure size 432x288 with 2 Axes>"
      ]
     },
     "metadata": {
      "needs_background": "light"
     },
     "output_type": "display_data"
    }
   ],
   "source": [
    "plot_confusion_matrix(log, X_test_stan, y_test)  \n",
    "\n",
    "print('The accuracy score of the test set is:............',accuracy_score(y_test, y_predict_test))\n",
    "print('The f1 score of the test set is:............',f1_score(y_test, y_predict_test))\n",
    "print('The recall score of the test set is:............',recall_score(y_test, y_predict_test))\n",
    "print('The precision score of the test set is:............',precision_score(y_test, y_predict_test))\n",
    "print('The cohen-kappa score of the test set is:............',cohen_kappa_score(y_test, y_predict_test))\n"
   ]
  },
  {
   "cell_type": "markdown",
   "metadata": {},
   "source": [
    "---"
   ]
  },
  {
   "cell_type": "markdown",
   "metadata": {},
   "source": [
    "# **KNNeighborsClassifier**"
   ]
  },
  {
   "cell_type": "code",
   "execution_count": 52,
   "metadata": {},
   "outputs": [],
   "source": [
    "from sklearn.neighbors import KNeighborsClassifier"
   ]
  },
  {
   "cell_type": "code",
   "execution_count": 53,
   "metadata": {},
   "outputs": [],
   "source": [
    "neigh = KNeighborsClassifier(n_neighbors = 3)\n",
    "\n",
    "neigh.fit(X_train_stan, y_train)\n",
    "\n",
    "y_predict_train = neigh.predict(X_train_stan)\n",
    "y_predict_test = neigh.predict(X_test_stan)"
   ]
  },
  {
   "cell_type": "markdown",
   "metadata": {},
   "source": [
    "---"
   ]
  },
  {
   "cell_type": "markdown",
   "metadata": {},
   "source": [
    "## **Confusion matrix**"
   ]
  },
  {
   "cell_type": "markdown",
   "metadata": {},
   "source": [
    "**Train set** + StandardScaler"
   ]
  },
  {
   "cell_type": "code",
   "execution_count": 54,
   "metadata": {},
   "outputs": [
    {
     "name": "stdout",
     "output_type": "stream",
     "text": [
      "The accuracy score of the train set is:............ 0.9074423163927009\n",
      "The f1 score of the train set is:............ 0.726218356194937\n",
      "The recall score of the train set is:............ 0.6632715420655938\n",
      "The precision score of the train set is:............ 0.8023656973878758\n",
      "The cohen-kappa score of the train set is:............ 0.6711279694453813\n"
     ]
    },
    {
     "data": {
      "image/png": "[encoded data removed]",
      "text/plain": [
       "<Figure size 432x288 with 2 Axes>"
      ]
     },
     "metadata": {
      "needs_background": "light"
     },
     "output_type": "display_data"
    }
   ],
   "source": [
    "plot_confusion_matrix(neigh, X_train_stan, y_train) \n",
    "\n",
    "print('The accuracy score of the train set is:............',accuracy_score(y_train, y_predict_train))\n",
    "print('The f1 score of the train set is:............',f1_score(y_train, y_predict_train))\n",
    "print('The recall score of the train set is:............',recall_score(y_train, y_predict_train))\n",
    "print('The precision score of the train set is:............',precision_score(y_train, y_predict_train))\n",
    "print('The cohen-kappa score of the train set is:............',cohen_kappa_score(y_train, y_predict_train))"
   ]
  },
  {
   "cell_type": "markdown",
   "metadata": {},
   "source": [
    "---"
   ]
  },
  {
   "cell_type": "markdown",
   "metadata": {},
   "source": [
    "**Test set** + StandardScaler"
   ]
  },
  {
   "cell_type": "code",
   "execution_count": 55,
   "metadata": {},
   "outputs": [
    {
     "name": "stdout",
     "output_type": "stream",
     "text": [
      "The accuracy score of the test set is:............ 0.8416767189384801\n",
      "The f1 score of the test set is:............ 0.541083916083916\n",
      "The recall score of the test set is:............ 0.48778565799842394\n",
      "The precision score of the test set is:............ 0.6074582924435721\n",
      "The cohen-kappa score of the test set is:............ 0.44679742931922783\n"
     ]
    },
    {
     "data": {
      "image/png": "[encoded data removed]",
      "text/plain": [
       "<Figure size 432x288 with 2 Axes>"
      ]
     },
     "metadata": {
      "needs_background": "light"
     },
     "output_type": "display_data"
    }
   ],
   "source": [
    "plot_confusion_matrix(neigh, X_test_stan, y_test)  \n",
    "\n",
    "print('The accuracy score of the test set is:............',accuracy_score(y_test, y_predict_test))\n",
    "print('The f1 score of the test set is:............',f1_score(y_test, y_predict_test))\n",
    "print('The recall score of the test set is:............',recall_score(y_test, y_predict_test))\n",
    "print('The precision score of the test set is:............',precision_score(y_test, y_predict_test))\n",
    "print('The cohen-kappa score of the test set is:............',cohen_kappa_score(y_test, y_predict_test))"
   ]
  },
  {
   "cell_type": "markdown",
   "metadata": {},
   "source": [
    "---"
   ]
  },
  {
   "cell_type": "markdown",
   "metadata": {},
   "source": [
    "## **Best number of K** and all the scalers"
   ]
  },
  {
   "cell_type": "code",
   "execution_count": 56,
   "metadata": {},
   "outputs": [
    {
     "data": {
      "text/plain": [
       "list"
      ]
     },
     "execution_count": 56,
     "metadata": {},
     "output_type": "execute_result"
    }
   ],
   "source": [
    "type(train)   # List of X_train trained with all the transformers"
   ]
  },
  {
   "cell_type": "code",
   "execution_count": 57,
   "metadata": {},
   "outputs": [
    {
     "data": {
      "text/plain": [
       "list"
      ]
     },
     "execution_count": 57,
     "metadata": {},
     "output_type": "execute_result"
    }
   ],
   "source": [
    "type(test)    # List of X_test trained with all the transformers"
   ]
  },
  {
   "cell_type": "code",
   "execution_count": 58,
   "metadata": {},
   "outputs": [
    {
     "name": "stdout",
     "output_type": "stream",
     "text": [
      "Trying to train a K-NN with 3 neighbours: \n",
      "Trying to train a K-NN with 5 neighbours: \n",
      "Trying to train a K-NN with 7 neighbours: \n",
      "Trying to train a K-NN with 9 neighbours: \n",
      "Trying to train a K-NN with 11 neighbours: \n",
      "Trying to train a K-NN with 13 neighbours: \n",
      "Trying to train a K-NN with 15 neighbours: \n",
      "Trying to train a K-NN with 17 neighbours: \n",
      "Trying to train a K-NN with 19 neighbours: \n",
      "Trying to train a K-NN with 21 neighbours: \n"
     ]
    }
   ],
   "source": [
    "#train = [X_train_stan,X_train_minmax,X_train_robus,X_train_power]\n",
    "\n",
    "#test = [X_test_stan,X_test_minmax,X_test_robus,X_test_power]\n",
    "\n",
    "\n",
    "y_pred_trn_list = []\n",
    "y_pred_trn_test_list = []\n",
    "\n",
    "\n",
    "for i in range(3,22,2):\n",
    "\n",
    "    print(\"Trying to train a K-NN with {} neighbours: \".format(i))\n",
    "    \n",
    "    neigh = KNeighborsClassifier(n_neighbors = i)\n",
    "    \n",
    "    for x_trn,x_tst in zip(train,test):\n",
    "        \n",
    "        neigh.fit(x_trn, y_train)\n",
    "        \n",
    "        y_predict_trn = neigh.predict(x_trn)\n",
    "        y_pred_trn_list.append(y_predict_trn)\n",
    "        \n",
    "        y_predict_tst = neigh.predict(x_tst)\n",
    "        y_pred_trn_test_list.append(y_predict_tst) \n",
    "        \n",
    "        "
   ]
  },
  {
   "cell_type": "code",
   "execution_count": 59,
   "metadata": {},
   "outputs": [
    {
     "name": "stdout",
     "output_type": "stream",
     "text": [
      "Model performance K-NN with 3  neighbours &  standard_scaler\n",
      "The recall score of the test set is:............ 0.48778565799842394\n",
      "The cohen-kappa score of the test set is:............ 0.44679742931922783\n",
      "....................................................................................\n",
      "MAX SPOTTED \n",
      "Model performance K-NN with 3  neighbours &  minmax_scaler\n",
      "The recall score of the test set is:............ 0.48699763593380613\n",
      "The cohen-kappa score of the test set is:............ 0.45131824929785214\n",
      "....................................................................................\n",
      "Model performance K-NN with 3  neighbours &  robust_scaler\n",
      "The recall score of the test set is:............ 0.49487785657998423\n",
      "The cohen-kappa score of the test set is:............ 0.4496713139074562\n",
      "....................................................................................\n",
      "MAX SPOTTED \n",
      "Model performance K-NN with 3  neighbours &  power_transformer\n",
      "The recall score of the test set is:............ 0.4830575256107171\n",
      "The cohen-kappa score of the test set is:............ 0.44151077109226256\n",
      "....................................................................................\n",
      "Model performance K-NN with 5  neighbours &  standard_scaler\n",
      "The recall score of the test set is:............ 0.4397163120567376\n",
      "The cohen-kappa score of the test set is:............ 0.4382755732996908\n",
      "....................................................................................\n",
      "Model performance K-NN with 5  neighbours &  minmax_scaler\n",
      "The recall score of the test set is:............ 0.4428684003152088\n",
      "The cohen-kappa score of the test set is:............ 0.44859450098161213\n",
      "....................................................................................\n",
      "Model performance K-NN with 5  neighbours &  robust_scaler\n",
      "The recall score of the test set is:............ 0.45311268715524033\n",
      "The cohen-kappa score of the test set is:............ 0.44403480796391626\n",
      "....................................................................................\n",
      "Model performance K-NN with 5  neighbours &  power_transformer\n",
      "The recall score of the test set is:............ 0.45468873128447596\n",
      "The cohen-kappa score of the test set is:............ 0.4458708497584142\n",
      "....................................................................................\n",
      "Model performance K-NN with 7  neighbours &  standard_scaler\n",
      "The recall score of the test set is:............ 0.41292356185973206\n",
      "The cohen-kappa score of the test set is:............ 0.4237473641449605\n",
      "....................................................................................\n",
      "Model performance K-NN with 7  neighbours &  minmax_scaler\n",
      "The recall score of the test set is:............ 0.41843971631205673\n",
      "The cohen-kappa score of the test set is:............ 0.4269323319852203\n",
      "....................................................................................\n",
      "Model performance K-NN with 7  neighbours &  robust_scaler\n",
      "The recall score of the test set is:............ 0.4176516942474389\n",
      "The cohen-kappa score of the test set is:............ 0.42983637796782004\n",
      "....................................................................................\n",
      "Model performance K-NN with 7  neighbours &  power_transformer\n",
      "The recall score of the test set is:............ 0.4302600472813239\n",
      "The cohen-kappa score of the test set is:............ 0.4398454261701742\n",
      "....................................................................................\n",
      "Model performance K-NN with 9  neighbours &  standard_scaler\n",
      "The recall score of the test set is:............ 0.38849487785658\n",
      "The cohen-kappa score of the test set is:............ 0.4046692125464497\n",
      "....................................................................................\n",
      "Model performance K-NN with 9  neighbours &  minmax_scaler\n",
      "The recall score of the test set is:............ 0.3971631205673759\n",
      "The cohen-kappa score of the test set is:............ 0.4159066687715752\n",
      "....................................................................................\n",
      "Model performance K-NN with 9  neighbours &  robust_scaler\n",
      "The recall score of the test set is:............ 0.3908589440504334\n",
      "The cohen-kappa score of the test set is:............ 0.4125578616481014\n",
      "....................................................................................\n",
      "Model performance K-NN with 9  neighbours &  power_transformer\n",
      "The recall score of the test set is:............ 0.41922773837667454\n",
      "The cohen-kappa score of the test set is:............ 0.4347008150722985\n",
      "....................................................................................\n",
      "Model performance K-NN with 11  neighbours &  standard_scaler\n",
      "The recall score of the test set is:............ 0.3798266351457841\n",
      "The cohen-kappa score of the test set is:............ 0.40474961644827934\n",
      "....................................................................................\n",
      "Model performance K-NN with 11  neighbours &  minmax_scaler\n",
      "The recall score of the test set is:............ 0.4034672970843184\n",
      "The cohen-kappa score of the test set is:............ 0.4247691283005657\n",
      "....................................................................................\n",
      "Model performance K-NN with 11  neighbours &  robust_scaler\n",
      "The recall score of the test set is:............ 0.3821907013396375\n",
      "The cohen-kappa score of the test set is:............ 0.404559810536098\n",
      "....................................................................................\n",
      "Model performance K-NN with 11  neighbours &  power_transformer\n",
      "The recall score of the test set is:............ 0.3892828999211978\n",
      "The cohen-kappa score of the test set is:............ 0.4094981967563831\n",
      "....................................................................................\n",
      "Model performance K-NN with 13  neighbours &  standard_scaler\n",
      "The recall score of the test set is:............ 0.3821907013396375\n",
      "The cohen-kappa score of the test set is:............ 0.40900495180145324\n",
      "....................................................................................\n",
      "Model performance K-NN with 13  neighbours &  minmax_scaler\n",
      "The recall score of the test set is:............ 0.4026792750197006\n",
      "The cohen-kappa score of the test set is:............ 0.4239870112984506\n",
      "....................................................................................\n",
      "Model performance K-NN with 13  neighbours &  robust_scaler\n",
      "The recall score of the test set is:............ 0.3727344365642238\n",
      "The cohen-kappa score of the test set is:............ 0.3967856745339302\n",
      "....................................................................................\n",
      "Model performance K-NN with 13  neighbours &  power_transformer\n",
      "The recall score of the test set is:............ 0.3955870764381403\n",
      "The cohen-kappa score of the test set is:............ 0.41803582300672093\n",
      "....................................................................................\n",
      "Model performance K-NN with 15  neighbours &  standard_scaler\n",
      "The recall score of the test set is:............ 0.3821907013396375\n",
      "The cohen-kappa score of the test set is:............ 0.41012227082420827\n",
      "....................................................................................\n",
      "Model performance K-NN with 15  neighbours &  minmax_scaler\n",
      "The recall score of the test set is:............ 0.3963750985027581\n",
      "The cohen-kappa score of the test set is:............ 0.42330131163766926\n",
      "....................................................................................\n",
      "Model performance K-NN with 15  neighbours &  robust_scaler\n",
      "The recall score of the test set is:............ 0.3680063041765169\n",
      "The cohen-kappa score of the test set is:............ 0.3948906185721214\n",
      "....................................................................................\n",
      "Model performance K-NN with 15  neighbours &  power_transformer\n",
      "The recall score of the test set is:............ 0.39401103230890466\n",
      "The cohen-kappa score of the test set is:............ 0.4134985423910159\n",
      "....................................................................................\n",
      "Model performance K-NN with 17  neighbours &  standard_scaler\n",
      "The recall score of the test set is:............ 0.3656422379826635\n",
      "The cohen-kappa score of the test set is:............ 0.3965329256932155\n",
      "....................................................................................\n",
      "Model performance K-NN with 17  neighbours &  minmax_scaler\n",
      "The recall score of the test set is:............ 0.3814026792750197\n",
      "The cohen-kappa score of the test set is:............ 0.4126872771756327\n",
      "....................................................................................\n",
      "Model performance K-NN with 17  neighbours &  robust_scaler\n",
      "The recall score of the test set is:............ 0.35933806146572106\n",
      "The cohen-kappa score of the test set is:............ 0.3903755784338344\n",
      "....................................................................................\n",
      "Model performance K-NN with 17  neighbours &  power_transformer\n",
      "The recall score of the test set is:............ 0.3814026792750197\n",
      "The cohen-kappa score of the test set is:............ 0.39935691881603685\n",
      "....................................................................................\n",
      "Model performance K-NN with 19  neighbours &  standard_scaler\n",
      "The recall score of the test set is:............ 0.3680063041765169\n",
      "The cohen-kappa score of the test set is:............ 0.39822678494762187\n",
      "....................................................................................\n",
      "Model performance K-NN with 19  neighbours &  minmax_scaler\n",
      "The recall score of the test set is:............ 0.3900709219858156\n",
      "The cohen-kappa score of the test set is:............ 0.4173439649339581\n",
      "....................................................................................\n",
      "Model performance K-NN with 19  neighbours &  robust_scaler\n",
      "The recall score of the test set is:............ 0.35776201733648544\n",
      "The cohen-kappa score of the test set is:............ 0.3898502560121758\n",
      "....................................................................................\n"
     ]
    },
    {
     "name": "stdout",
     "output_type": "stream",
     "text": [
      "Model performance K-NN with 19  neighbours &  power_transformer\n",
      "The recall score of the test set is:............ 0.37746256895193064\n",
      "The cohen-kappa score of the test set is:............ 0.3964637525234629\n",
      "....................................................................................\n",
      "Model performance K-NN with 21  neighbours &  standard_scaler\n",
      "The recall score of the test set is:............ 0.3640661938534279\n",
      "The cohen-kappa score of the test set is:............ 0.3937907778415153\n",
      "....................................................................................\n",
      "Model performance K-NN with 21  neighbours &  minmax_scaler\n",
      "The recall score of the test set is:............ 0.37115839243498816\n",
      "The cohen-kappa score of the test set is:............ 0.39923776715130577\n",
      "....................................................................................\n",
      "Model performance K-NN with 21  neighbours &  robust_scaler\n",
      "The recall score of the test set is:............ 0.3475177304964539\n",
      "The cohen-kappa score of the test set is:............ 0.3824697276205945\n",
      "....................................................................................\n",
      "Model performance K-NN with 21  neighbours &  power_transformer\n",
      "The recall score of the test set is:............ 0.37746256895193064\n",
      "The cohen-kappa score of the test set is:............ 0.3982946381491643\n",
      "....................................................................................\n"
     ]
    }
   ],
   "source": [
    "\n",
    "\n",
    "#train = [X_train_stan,X_train_minmax,X_train_robus,X_train_power]\n",
    "\n",
    "scalers = ['standard_scaler','minmax_scaler','robust_scaler','power_transformer']\n",
    "\n",
    "counter = 0 \n",
    "max_recall = 0 \n",
    "\n",
    "for i in range(3,22,2):\n",
    "    \n",
    "    for scal in scalers:\n",
    "        \n",
    "        recall_iteration = recall_score(y_test, y_pred_trn_test_list[counter])\n",
    "        cohen_iteration = cohen_kappa_score(y_test, y_pred_trn_test_list[counter])\n",
    "\n",
    "        print(\"Model performance K-NN with\",i,\" neighbours & \", scal)\n",
    "        \n",
    "        #print('The accuracy score of the test set is:............',accuracy_score(y_test, y_pred_trn_test_list[counter]))\n",
    "\n",
    "        #print('The f1 score of the test set is:............',f1_score(y_test, y_pred_trn_test_list[counter]))\n",
    "\n",
    "        print('The recall score of the test set is:............',recall_iteration)\n",
    "\n",
    "        #print('The precision score of the test set is:............',precision_score(y_test, y_pred_trn_test_list[counter]))\n",
    "\n",
    "        print('The cohen-kappa score of the test set is:............',cohen_iteration)\n",
    "\n",
    "        print('....................................................................................')\n",
    "        counter+= 1\n",
    "        if recall_iteration > max_recall :\n",
    "            max_recall = recall_iteration\n",
    "            print('MAX SPOTTED ')\n",
    "        \n",
    "   "
   ]
  },
  {
   "cell_type": "code",
   "execution_count": 60,
   "metadata": {
    "scrolled": true
   },
   "outputs": [
    {
     "data": {
      "text/plain": [
       "'Model performance K-NN with 3  neighbours &  standard_scaler\\nThe recall score of the test set is:............ 0.48857368006304175\\nThe cohen-kappa score of the test set is:............ 0.44508010984627766\\n....................................................................................\\nMAX SPOTTED \\nModel performance K-NN with 3  neighbours &  minmax_scaler\\nThe recall score of the test set is:............ 0.48699763593380613\\nThe cohen-kappa score of the test set is:............ 0.4509681325432783\\n....................................................................................\\nModel performance K-NN with 3  neighbours &  robust_scaler\\nThe recall score of the test set is:............ 0.491725768321513\\nThe cohen-kappa score of the test set is:............ 0.45032559597419597\\n....................................................................................\\nMAX SPOTTED \\nModel performance K-NN with 3  neighbours &  power_transformer\\nThe recall score of the test set is:............ 0.4830575256107171\\nThe cohen-kappa score of the test set is:............ 0.44151077109226256\\n....................................................................................\\nModel performance K-NN with 5  neighbours &  standard_scaler\\nThe recall score of the test set is:............ 0.438140267927502\\nThe cohen-kappa score of the test set is:............ 0.4360509221048381\\n....................................................................................\\nModel performance K-NN with 5  neighbours &  minmax_scaler\\nThe recall score of the test set is:............ 0.44602048857368004\\nThe cohen-kappa score of the test set is:............ 0.45085043908315525\\n....................................................................................\\nModel performance K-NN with 5  neighbours &  robust_scaler\\nThe recall score of the test set is:............ 0.45468873128447596\\nThe cohen-kappa score of the test set is:............ 0.4494964065121497\\n....................................................................................\\nModel performance K-NN with 5  neighbours &  power_transformer\\nThe recall score of the test set is:............ 0.4515366430260047\\nThe cohen-kappa score of the test set is:............ 0.44291866077905295\\n....................................................................................\\nModel performance K-NN with 7  neighbours &  standard_scaler\\nThe recall score of the test set is:............ 0.41213553979511425\\nThe cohen-kappa score of the test set is:............ 0.4248108887378359\\n....................................................................................\\nModel performance K-NN with 7  neighbours &  minmax_scaler\\nThe recall score of the test set is:............ 0.42080378250591016\\nThe cohen-kappa score of the test set is:............ 0.43032996638056487\\n....................................................................................\\nModel performance K-NN with 7  neighbours &  robust_scaler\\nThe recall score of the test set is:............ 0.41843971631205673\\nThe cohen-kappa score of the test set is:............ 0.43023625521977527\\n....................................................................................\\nModel performance K-NN with 7  neighbours &  power_transformer\\nThe recall score of the test set is:............ 0.42868400315208827\\nThe cohen-kappa score of the test set is:............ 0.43832603993488883\\n....................................................................................\\nModel performance K-NN with 9  neighbours &  standard_scaler\\nThe recall score of the test set is:............ 0.3900709219858156\\nThe cohen-kappa score of the test set is:............ 0.40624889504942074\\n....................................................................................\\nModel performance K-NN with 9  neighbours &  minmax_scaler\\nThe recall score of the test set is:............ 0.3979511426319937\\nThe cohen-kappa score of the test set is:............ 0.4163225869852393\\n....................................................................................\\nModel performance K-NN with 9  neighbours &  robust_scaler\\nThe recall score of the test set is:............ 0.3892828999211978\\nThe cohen-kappa score of the test set is:............ 0.40986694422492853\\n....................................................................................\\nModel performance K-NN with 9  neighbours &  power_transformer\\nThe recall score of the test set is:............ 0.41843971631205673\\nThe cohen-kappa score of the test set is:............ 0.4354173473916455\\n....................................................................................\\nModel performance K-NN with 11  neighbours &  standard_scaler\\nThe recall score of the test set is:............ 0.3806146572104019\\nThe cohen-kappa score of the test set is:............ 0.4059202170059032\\n....................................................................................\\nModel performance K-NN with 11  neighbours &  minmax_scaler\\nThe recall score of the test set is:............ 0.4026792750197006\\nThe cohen-kappa score of the test set is:............ 0.4232436630288925\\n....................................................................................\\nModel performance K-NN with 11  neighbours &  robust_scaler\\nThe recall score of the test set is:............ 0.3798266351457841\\nThe cohen-kappa score of the test set is:............ 0.4029018079346295\\n....................................................................................\\nModel performance K-NN with 11  neighbours &  power_transformer\\nThe recall score of the test set is:............ 0.38849487785658\\nThe cohen-kappa score of the test set is:............ 0.4101823774255188\\n....................................................................................\\nModel performance K-NN with 13  neighbours &  standard_scaler\\nThe recall score of the test set is:............ 0.3829787234042553\\nThe cohen-kappa score of the test set is:............ 0.40943201867877466\\n....................................................................................\\nModel performance K-NN with 13  neighbours &  minmax_scaler\\nThe recall score of the test set is:............ 0.40583136327817176\\nThe cohen-kappa score of the test set is:............ 0.4267397510848686\\n....................................................................................\\nModel performance K-NN with 13  neighbours &  robust_scaler\\nThe recall score of the test set is:............ 0.3750985027580772\\nThe cohen-kappa score of the test set is:............ 0.39993695590415734\\n....................................................................................\\nModel performance K-NN with 13  neighbours &  power_transformer\\nThe recall score of the test set is:............ 0.39322301024428685\\nThe cohen-kappa score of the test set is:............ 0.4149282440558939\\n....................................................................................\\nModel performance K-NN with 15  neighbours &  standard_scaler\\nThe recall score of the test set is:............ 0.3814026792750197\\nThe cohen-kappa score of the test set is:............ 0.4078335047287108\\n....................................................................................\\nModel performance K-NN with 15  neighbours &  minmax_scaler\\nThe recall score of the test set is:............ 0.3955870764381403\\nThe cohen-kappa score of the test set is:............ 0.42176322617870354\\n....................................................................................\\nModel performance K-NN with 15  neighbours &  robust_scaler\\nThe recall score of the test set is:............ 0.3680063041765169\\nThe cohen-kappa score of the test set is:............ 0.3948906185721214\\n....................................................................................\\nModel performance K-NN with 15  neighbours &  power_transformer\\nThe recall score of the test set is:............ 0.3955870764381403\\nThe cohen-kappa score of the test set is:............ 0.41507305155049234\\n....................................................................................\\nModel performance K-NN with 17  neighbours &  standard_scaler\\nThe recall score of the test set is:............ 0.3656422379826635\\nThe cohen-kappa score of the test set is:............ 0.3969050262385332\\n....................................................................................\\nModel performance K-NN with 17  neighbours &  minmax_scaler\\nThe recall score of the test set is:............ 0.3814026792750197\\nThe cohen-kappa score of the test set is:............ 0.41156311116090605\\n....................................................................................\\nModel performance K-NN with 17  neighbours &  robust_scaler\\nThe recall score of the test set is:............ 0.36012608353033887\\nThe cohen-kappa score of the test set is:............ 0.3897116442445667\\n....................................................................................\\nModel performance K-NN with 17  neighbours &  power_transformer\\nThe recall score of the test set is:............ 0.3806146572104019\\nThe cohen-kappa score of the test set is:............ 0.3989258393709655\\n....................................................................................\\nModel performance K-NN with 19  neighbours &  standard_scaler\\nThe recall score of the test set is:............ 0.3680063041765169\\nThe cohen-kappa score of the test set is:............ 0.39822678494762187\\n....................................................................................\\nModel performance K-NN with 19  neighbours &  minmax_scaler\\nThe recall score of the test set is:............ 0.38455476753349094\\nThe cohen-kappa score of the test set is:............ 0.41214612157563435\\n....................................................................................\\nModel performance K-NN with 19  neighbours &  robust_scaler\\nThe recall score of the test set is:............ 0.35776201733648544\\nThe cohen-kappa score of the test set is:............ 0.38947897080262084\\n....................................................................................\\nModel performance K-NN with 19  neighbours &  power_transformer\\nThe recall score of the test set is:............ 0.37746256895193064\\nThe cohen-kappa score of the test set is:............ 0.3964637525234629\\n....................................................................................\\nModel performance K-NN with 21  neighbours &  standard_scaler\\nThe recall score of the test set is:............ 0.36485421591804573\\nThe cohen-kappa score of the test set is:............ 0.39460481461229235\\n....................................................................................\\nModel performance K-NN with 21  neighbours &  minmax_scaler\\nThe recall score of the test set is:............ 0.37194641449960597\\nThe cohen-kappa score of the test set is:............ 0.40078837082775376\\n....................................................................................\\nModel performance K-NN with 21  neighbours &  robust_scaler\\nThe recall score of the test set is:............ 0.3467297084318361\\nThe cohen-kappa score of the test set is:............ 0.382011396950383\\n....................................................................................\\nModel performance K-NN with 21  neighbours &  power_transformer\\nThe recall score of the test set is:............ 0.37746256895193064\\nThe cohen-kappa score of the test set is:............ 0.3990288406499054\\n....................................................................................'"
      ]
     },
     "execution_count": 60,
     "metadata": {},
     "output_type": "execute_result"
    }
   ],
   "source": [
    "'''Model performance K-NN with 3  neighbours &  standard_scaler\n",
    "The recall score of the test set is:............ 0.48857368006304175\n",
    "The cohen-kappa score of the test set is:............ 0.44508010984627766\n",
    "....................................................................................\n",
    "MAX SPOTTED \n",
    "Model performance K-NN with 3  neighbours &  minmax_scaler\n",
    "The recall score of the test set is:............ 0.48699763593380613\n",
    "The cohen-kappa score of the test set is:............ 0.4509681325432783\n",
    "....................................................................................\n",
    "Model performance K-NN with 3  neighbours &  robust_scaler\n",
    "The recall score of the test set is:............ 0.491725768321513\n",
    "The cohen-kappa score of the test set is:............ 0.45032559597419597\n",
    "....................................................................................\n",
    "MAX SPOTTED \n",
    "Model performance K-NN with 3  neighbours &  power_transformer\n",
    "The recall score of the test set is:............ 0.4830575256107171\n",
    "The cohen-kappa score of the test set is:............ 0.44151077109226256\n",
    "....................................................................................\n",
    "Model performance K-NN with 5  neighbours &  standard_scaler\n",
    "The recall score of the test set is:............ 0.438140267927502\n",
    "The cohen-kappa score of the test set is:............ 0.4360509221048381\n",
    "....................................................................................\n",
    "Model performance K-NN with 5  neighbours &  minmax_scaler\n",
    "The recall score of the test set is:............ 0.44602048857368004\n",
    "The cohen-kappa score of the test set is:............ 0.45085043908315525\n",
    "....................................................................................\n",
    "Model performance K-NN with 5  neighbours &  robust_scaler\n",
    "The recall score of the test set is:............ 0.45468873128447596\n",
    "The cohen-kappa score of the test set is:............ 0.4494964065121497\n",
    "....................................................................................\n",
    "Model performance K-NN with 5  neighbours &  power_transformer\n",
    "The recall score of the test set is:............ 0.4515366430260047\n",
    "The cohen-kappa score of the test set is:............ 0.44291866077905295\n",
    "....................................................................................\n",
    "Model performance K-NN with 7  neighbours &  standard_scaler\n",
    "The recall score of the test set is:............ 0.41213553979511425\n",
    "The cohen-kappa score of the test set is:............ 0.4248108887378359\n",
    "....................................................................................\n",
    "Model performance K-NN with 7  neighbours &  minmax_scaler\n",
    "The recall score of the test set is:............ 0.42080378250591016\n",
    "The cohen-kappa score of the test set is:............ 0.43032996638056487\n",
    "....................................................................................\n",
    "Model performance K-NN with 7  neighbours &  robust_scaler\n",
    "The recall score of the test set is:............ 0.41843971631205673\n",
    "The cohen-kappa score of the test set is:............ 0.43023625521977527\n",
    "....................................................................................\n",
    "Model performance K-NN with 7  neighbours &  power_transformer\n",
    "The recall score of the test set is:............ 0.42868400315208827\n",
    "The cohen-kappa score of the test set is:............ 0.43832603993488883\n",
    "....................................................................................\n",
    "Model performance K-NN with 9  neighbours &  standard_scaler\n",
    "The recall score of the test set is:............ 0.3900709219858156\n",
    "The cohen-kappa score of the test set is:............ 0.40624889504942074\n",
    "....................................................................................\n",
    "Model performance K-NN with 9  neighbours &  minmax_scaler\n",
    "The recall score of the test set is:............ 0.3979511426319937\n",
    "The cohen-kappa score of the test set is:............ 0.4163225869852393\n",
    "....................................................................................\n",
    "Model performance K-NN with 9  neighbours &  robust_scaler\n",
    "The recall score of the test set is:............ 0.3892828999211978\n",
    "The cohen-kappa score of the test set is:............ 0.40986694422492853\n",
    "....................................................................................\n",
    "Model performance K-NN with 9  neighbours &  power_transformer\n",
    "The recall score of the test set is:............ 0.41843971631205673\n",
    "The cohen-kappa score of the test set is:............ 0.4354173473916455\n",
    "....................................................................................\n",
    "Model performance K-NN with 11  neighbours &  standard_scaler\n",
    "The recall score of the test set is:............ 0.3806146572104019\n",
    "The cohen-kappa score of the test set is:............ 0.4059202170059032\n",
    "....................................................................................\n",
    "Model performance K-NN with 11  neighbours &  minmax_scaler\n",
    "The recall score of the test set is:............ 0.4026792750197006\n",
    "The cohen-kappa score of the test set is:............ 0.4232436630288925\n",
    "....................................................................................\n",
    "Model performance K-NN with 11  neighbours &  robust_scaler\n",
    "The recall score of the test set is:............ 0.3798266351457841\n",
    "The cohen-kappa score of the test set is:............ 0.4029018079346295\n",
    "....................................................................................\n",
    "Model performance K-NN with 11  neighbours &  power_transformer\n",
    "The recall score of the test set is:............ 0.38849487785658\n",
    "The cohen-kappa score of the test set is:............ 0.4101823774255188\n",
    "....................................................................................\n",
    "Model performance K-NN with 13  neighbours &  standard_scaler\n",
    "The recall score of the test set is:............ 0.3829787234042553\n",
    "The cohen-kappa score of the test set is:............ 0.40943201867877466\n",
    "....................................................................................\n",
    "Model performance K-NN with 13  neighbours &  minmax_scaler\n",
    "The recall score of the test set is:............ 0.40583136327817176\n",
    "The cohen-kappa score of the test set is:............ 0.4267397510848686\n",
    "....................................................................................\n",
    "Model performance K-NN with 13  neighbours &  robust_scaler\n",
    "The recall score of the test set is:............ 0.3750985027580772\n",
    "The cohen-kappa score of the test set is:............ 0.39993695590415734\n",
    "....................................................................................\n",
    "Model performance K-NN with 13  neighbours &  power_transformer\n",
    "The recall score of the test set is:............ 0.39322301024428685\n",
    "The cohen-kappa score of the test set is:............ 0.4149282440558939\n",
    "....................................................................................\n",
    "Model performance K-NN with 15  neighbours &  standard_scaler\n",
    "The recall score of the test set is:............ 0.3814026792750197\n",
    "The cohen-kappa score of the test set is:............ 0.4078335047287108\n",
    "....................................................................................\n",
    "Model performance K-NN with 15  neighbours &  minmax_scaler\n",
    "The recall score of the test set is:............ 0.3955870764381403\n",
    "The cohen-kappa score of the test set is:............ 0.42176322617870354\n",
    "....................................................................................\n",
    "Model performance K-NN with 15  neighbours &  robust_scaler\n",
    "The recall score of the test set is:............ 0.3680063041765169\n",
    "The cohen-kappa score of the test set is:............ 0.3948906185721214\n",
    "....................................................................................\n",
    "Model performance K-NN with 15  neighbours &  power_transformer\n",
    "The recall score of the test set is:............ 0.3955870764381403\n",
    "The cohen-kappa score of the test set is:............ 0.41507305155049234\n",
    "....................................................................................\n",
    "Model performance K-NN with 17  neighbours &  standard_scaler\n",
    "The recall score of the test set is:............ 0.3656422379826635\n",
    "The cohen-kappa score of the test set is:............ 0.3969050262385332\n",
    "....................................................................................\n",
    "Model performance K-NN with 17  neighbours &  minmax_scaler\n",
    "The recall score of the test set is:............ 0.3814026792750197\n",
    "The cohen-kappa score of the test set is:............ 0.41156311116090605\n",
    "....................................................................................\n",
    "Model performance K-NN with 17  neighbours &  robust_scaler\n",
    "The recall score of the test set is:............ 0.36012608353033887\n",
    "The cohen-kappa score of the test set is:............ 0.3897116442445667\n",
    "....................................................................................\n",
    "Model performance K-NN with 17  neighbours &  power_transformer\n",
    "The recall score of the test set is:............ 0.3806146572104019\n",
    "The cohen-kappa score of the test set is:............ 0.3989258393709655\n",
    "....................................................................................\n",
    "Model performance K-NN with 19  neighbours &  standard_scaler\n",
    "The recall score of the test set is:............ 0.3680063041765169\n",
    "The cohen-kappa score of the test set is:............ 0.39822678494762187\n",
    "....................................................................................\n",
    "Model performance K-NN with 19  neighbours &  minmax_scaler\n",
    "The recall score of the test set is:............ 0.38455476753349094\n",
    "The cohen-kappa score of the test set is:............ 0.41214612157563435\n",
    "....................................................................................\n",
    "Model performance K-NN with 19  neighbours &  robust_scaler\n",
    "The recall score of the test set is:............ 0.35776201733648544\n",
    "The cohen-kappa score of the test set is:............ 0.38947897080262084\n",
    "....................................................................................\n",
    "Model performance K-NN with 19  neighbours &  power_transformer\n",
    "The recall score of the test set is:............ 0.37746256895193064\n",
    "The cohen-kappa score of the test set is:............ 0.3964637525234629\n",
    "....................................................................................\n",
    "Model performance K-NN with 21  neighbours &  standard_scaler\n",
    "The recall score of the test set is:............ 0.36485421591804573\n",
    "The cohen-kappa score of the test set is:............ 0.39460481461229235\n",
    "....................................................................................\n",
    "Model performance K-NN with 21  neighbours &  minmax_scaler\n",
    "The recall score of the test set is:............ 0.37194641449960597\n",
    "The cohen-kappa score of the test set is:............ 0.40078837082775376\n",
    "....................................................................................\n",
    "Model performance K-NN with 21  neighbours &  robust_scaler\n",
    "The recall score of the test set is:............ 0.3467297084318361\n",
    "The cohen-kappa score of the test set is:............ 0.382011396950383\n",
    "....................................................................................\n",
    "Model performance K-NN with 21  neighbours &  power_transformer\n",
    "The recall score of the test set is:............ 0.37746256895193064\n",
    "The cohen-kappa score of the test set is:............ 0.3990288406499054\n",
    "....................................................................................'''"
   ]
  },
  {
   "cell_type": "code",
   "execution_count": 61,
   "metadata": {},
   "outputs": [
    {
     "name": "stdout",
     "output_type": "stream",
     "text": [
      "The accuracy score of the test set is:............ 0.8416767189384801\n",
      "The f1 score of the test set is:............ 0.541083916083916\n",
      "The recall score of the test set is:............ 0.48778565799842394\n",
      "The precision score of the test set is:............ 0.6074582924435721\n",
      "The cohen-kappa score of the test set is:............ 0.44679742931922783\n",
      "....................................................................................\n",
      "The accuracy score of the test set is:............ 0.8437876960193004\n",
      "The f1 score of the test set is:............ 0.5440140845070423\n",
      "The recall score of the test set is:............ 0.48699763593380613\n",
      "The precision score of the test set is:............ 0.6161515453639083\n",
      "The cohen-kappa score of the test set is:............ 0.45131824929785214\n",
      "....................................................................................\n",
      "The accuracy score of the test set is:............ 0.8415259348612787\n",
      "The f1 score of the test set is:............ 0.5444299956653662\n",
      "The recall score of the test set is:............ 0.49487785657998423\n",
      "The precision score of the test set is:............ 0.605009633911368\n",
      "The cohen-kappa score of the test set is:............ 0.4496713139074562\n",
      "....................................................................................\n",
      "The accuracy score of the test set is:............ 0.840319662243667\n",
      "The f1 score of the test set is:............ 0.5365426695842451\n",
      "The recall score of the test set is:............ 0.4830575256107171\n",
      "The precision score of the test set is:............ 0.6033464566929134\n",
      "The cohen-kappa score of the test set is:............ 0.44151077109226256\n",
      "....................................................................................\n",
      "The accuracy score of the test set is:............ 0.847708082026538\n",
      "The f1 score of the test set is:............ 0.5249294449670744\n",
      "The recall score of the test set is:............ 0.4397163120567376\n",
      "The precision score of the test set is:............ 0.6511085180863477\n",
      "The cohen-kappa score of the test set is:............ 0.4382755732996908\n",
      "....................................................................................\n",
      "The accuracy score of the test set is:............ 0.8513268998793727\n",
      "The f1 score of the test set is:............ 0.5327014218009479\n",
      "The recall score of the test set is:............ 0.4428684003152088\n",
      "The precision score of the test set is:............ 0.6682520808561236\n",
      "The cohen-kappa score of the test set is:............ 0.44859450098161213\n",
      "....................................................................................\n",
      "The accuracy score of the test set is:............ 0.8474065138721351\n",
      "The f1 score of the test set is:............ 0.5319148936170213\n",
      "The recall score of the test set is:............ 0.45311268715524033\n",
      "The precision score of the test set is:............ 0.6438969764837627\n",
      "The cohen-kappa score of the test set is:............ 0.44403480796391626\n",
      "....................................................................................\n",
      "The accuracy score of the test set is:............ 0.8478588661037394\n",
      "The f1 score of the test set is:............ 0.5335182616736015\n",
      "The recall score of the test set is:............ 0.45468873128447596\n",
      "The precision score of the test set is:............ 0.645413870246085\n",
      "The cohen-kappa score of the test set is:............ 0.4458708497584142\n",
      "....................................................................................\n",
      "The accuracy score of the test set is:............ 0.8472557297949337\n",
      "The f1 score of the test set is:............ 0.5084910237748665\n",
      "The recall score of the test set is:............ 0.41292356185973206\n",
      "The precision score of the test set is:............ 0.6616161616161617\n",
      "The cohen-kappa score of the test set is:............ 0.4237473641449605\n",
      "....................................................................................\n",
      "The accuracy score of the test set is:............ 0.8474065138721351\n",
      "The f1 score of the test set is:............ 0.5120540019286404\n",
      "The recall score of the test set is:............ 0.41843971631205673\n",
      "The precision score of the test set is:............ 0.6596273291925466\n",
      "The cohen-kappa score of the test set is:............ 0.4269323319852203\n",
      "....................................................................................\n",
      "The accuracy score of the test set is:............ 0.8487635705669482\n",
      "The f1 score of the test set is:............ 0.5138148327678139\n",
      "The recall score of the test set is:............ 0.4176516942474389\n",
      "The precision score of the test set is:............ 0.6675062972292192\n",
      "The cohen-kappa score of the test set is:............ 0.42983637796782004\n",
      "....................................................................................\n",
      "The accuracy score of the test set is:............ 0.8502714113389626\n",
      "The f1 score of the test set is:............ 0.5237410071942445\n",
      "The recall score of the test set is:............ 0.4302600472813239\n",
      "The precision score of the test set is:............ 0.6691176470588235\n",
      "The cohen-kappa score of the test set is:............ 0.4398454261701742\n",
      "....................................................................................\n",
      "The accuracy score of the test set is:............ 0.844692400482509\n",
      "The f1 score of the test set is:............ 0.4890873015873016\n",
      "The recall score of the test set is:............ 0.38849487785658\n",
      "The precision score of the test set is:............ 0.6599732262382865\n",
      "The cohen-kappa score of the test set is:............ 0.4046692125464497\n",
      "....................................................................................\n",
      "The accuracy score of the test set is:............ 0.8474065138721351\n",
      "The f1 score of the test set is:............ 0.49900990099009895\n",
      "The recall score of the test set is:............ 0.3971631205673759\n",
      "The precision score of the test set is:............ 0.6711051930758988\n",
      "The cohen-kappa score of the test set is:............ 0.4159066687715752\n",
      "....................................................................................\n",
      "The accuracy score of the test set is:............ 0.8474065138721351\n",
      "The f1 score of the test set is:............ 0.4950099800399201\n",
      "The recall score of the test set is:............ 0.3908589440504334\n",
      "The precision score of the test set is:............ 0.6748299319727891\n",
      "The cohen-kappa score of the test set is:............ 0.4125578616481014\n",
      "....................................................................................\n",
      "The accuracy score of the test set is:............ 0.850422195416164\n",
      "The f1 score of the test set is:............ 0.5175097276264591\n",
      "The recall score of the test set is:............ 0.41922773837667454\n",
      "The precision score of the test set is:............ 0.6759847522236341\n",
      "The cohen-kappa score of the test set is:............ 0.4347008150722985\n",
      "....................................................................................\n",
      "The accuracy score of the test set is:............ 0.8466525934861279\n",
      "The f1 score of the test set is:............ 0.48662291771832406\n",
      "The recall score of the test set is:............ 0.3798266351457841\n",
      "The precision score of the test set is:............ 0.6769662921348315\n",
      "The cohen-kappa score of the test set is:............ 0.40474961644827934\n",
      "....................................................................................\n",
      "The accuracy score of the test set is:............ 0.8496682750301568\n",
      "The f1 score of the test set is:............ 0.5066798614547253\n",
      "The recall score of the test set is:............ 0.4034672970843184\n",
      "The precision score of the test set is:............ 0.6808510638297872\n",
      "The cohen-kappa score of the test set is:............ 0.4247691283005657\n",
      "....................................................................................\n",
      "The accuracy score of the test set is:............ 0.846049457177322\n",
      "The f1 score of the test set is:............ 0.48719236564540425\n",
      "The recall score of the test set is:............ 0.3821907013396375\n",
      "The precision score of the test set is:............ 0.6717451523545707\n",
      "The cohen-kappa score of the test set is:............ 0.404559810536098\n",
      "....................................................................................\n",
      "The accuracy score of the test set is:............ 0.8465018094089264\n",
      "The f1 score of the test set is:............ 0.49252243270189433\n",
      "The recall score of the test set is:............ 0.3892828999211978\n",
      "The precision score of the test set is:............ 0.6702849389416553\n",
      "The cohen-kappa score of the test set is:............ 0.4094981967563831\n",
      "....................................................................................\n",
      "The accuracy score of the test set is:............ 0.8478588661037394\n",
      "The f1 score of the test set is:............ 0.4901465386558868\n",
      "The recall score of the test set is:............ 0.3821907013396375\n",
      "The precision score of the test set is:............ 0.6830985915492958\n",
      "The cohen-kappa score of the test set is:............ 0.40900495180145324\n",
      "....................................................................................\n"
     ]
    },
    {
     "name": "stdout",
     "output_type": "stream",
     "text": [
      "The accuracy score of the test set is:............ 0.8495174909529554\n",
      "The f1 score of the test set is:............ 0.5059405940594061\n",
      "The recall score of the test set is:............ 0.4026792750197006\n",
      "The precision score of the test set is:............ 0.6804260985352862\n",
      "The cohen-kappa score of the test set is:............ 0.4239870112984506\n",
      "....................................................................................\n",
      "The accuracy score of the test set is:............ 0.8449939686369119\n",
      "The f1 score of the test set is:............ 0.47922998986828774\n",
      "The recall score of the test set is:............ 0.3727344365642238\n",
      "The precision score of the test set is:............ 0.6709219858156028\n",
      "The cohen-kappa score of the test set is:............ 0.3967856745339302\n",
      "....................................................................................\n",
      "The accuracy score of the test set is:............ 0.8486127864897467\n",
      "The f1 score of the test set is:............ 0.5\n",
      "The recall score of the test set is:............ 0.3955870764381403\n",
      "The precision score of the test set is:............ 0.6792963464140731\n",
      "The cohen-kappa score of the test set is:............ 0.41803582300672093\n",
      "....................................................................................\n",
      "The accuracy score of the test set is:............ 0.8483112183353438\n",
      "The f1 score of the test set is:............ 0.4908906882591093\n",
      "The recall score of the test set is:............ 0.3821907013396375\n",
      "The precision score of the test set is:............ 0.685997171145686\n",
      "The cohen-kappa score of the test set is:............ 0.41012227082420827\n",
      "....................................................................................\n",
      "The accuracy score of the test set is:............ 0.8505729794933655\n",
      "The f1 score of the test set is:............ 0.5037556334501753\n",
      "The recall score of the test set is:............ 0.3963750985027581\n",
      "The precision score of the test set is:............ 0.6909340659340659\n",
      "The cohen-kappa score of the test set is:............ 0.42330131163766926\n",
      "....................................................................................\n",
      "The accuracy score of the test set is:............ 0.8452955367913149\n",
      "The f1 score of the test set is:............ 0.4765306122448979\n",
      "The recall score of the test set is:............ 0.3680063041765169\n",
      "The precision score of the test set is:............ 0.6758321273516642\n",
      "The cohen-kappa score of the test set is:............ 0.3948906185721214\n",
      "....................................................................................\n",
      "The accuracy score of the test set is:............ 0.8471049457177322\n",
      "The f1 score of the test set is:............ 0.4965243296921549\n",
      "The recall score of the test set is:............ 0.39401103230890466\n",
      "The precision score of the test set is:............ 0.6711409395973155\n",
      "The cohen-kappa score of the test set is:............ 0.4134985423910159\n",
      "....................................................................................\n",
      "The accuracy score of the test set is:............ 0.8465018094089264\n",
      "The f1 score of the test set is:............ 0.4768756423432681\n",
      "The recall score of the test set is:............ 0.3656422379826635\n",
      "The precision score of the test set is:............ 0.6853766617429837\n",
      "The cohen-kappa score of the test set is:............ 0.3965329256932155\n",
      "....................................................................................\n",
      "The accuracy score of the test set is:............ 0.8495174909529554\n",
      "The f1 score of the test set is:............ 0.4923702950152595\n",
      "The recall score of the test set is:............ 0.3814026792750197\n",
      "The precision score of the test set is:............ 0.6944045911047346\n",
      "The cohen-kappa score of the test set is:............ 0.4126872771756327\n",
      "....................................................................................\n",
      "The accuracy score of the test set is:............ 0.8454463208685162\n",
      "The f1 score of the test set is:............ 0.47083118224057824\n",
      "The recall score of the test set is:............ 0.35933806146572106\n",
      "The precision score of the test set is:............ 0.6826347305389222\n",
      "The cohen-kappa score of the test set is:............ 0.3903755784338344\n",
      "....................................................................................\n",
      "The accuracy score of the test set is:............ 0.8440892641737032\n",
      "The f1 score of the test set is:............ 0.4835164835164835\n",
      "The recall score of the test set is:............ 0.3814026792750197\n",
      "The precision score of the test set is:............ 0.660300136425648\n",
      "The cohen-kappa score of the test set is:............ 0.39935691881603685\n",
      "....................................................................................\n",
      "The accuracy score of the test set is:............ 0.8466525934861279\n",
      "The f1 score of the test set is:............ 0.47872885699641204\n",
      "The recall score of the test set is:............ 0.3680063041765169\n",
      "The precision score of the test set is:............ 0.6847507331378299\n",
      "The cohen-kappa score of the test set is:............ 0.39822678494762187\n",
      "....................................................................................\n",
      "The accuracy score of the test set is:............ 0.8495174909529554\n",
      "The f1 score of the test set is:............ 0.49798792756539234\n",
      "The recall score of the test set is:............ 0.3900709219858156\n",
      "The precision score of the test set is:............ 0.6884561891515995\n",
      "The cohen-kappa score of the test set is:............ 0.4173439649339581\n",
      "....................................................................................\n",
      "The accuracy score of the test set is:............ 0.8455971049457177\n",
      "The f1 score of the test set is:............ 0.46997929606625255\n",
      "The recall score of the test set is:............ 0.35776201733648544\n",
      "The precision score of the test set is:............ 0.6847662141779789\n",
      "The cohen-kappa score of the test set is:............ 0.3898502560121758\n",
      "....................................................................................\n",
      "The accuracy score of the test set is:............ 0.8437876960193004\n",
      "The f1 score of the test set is:............ 0.48044132397191575\n",
      "The recall score of the test set is:............ 0.37746256895193064\n",
      "The precision score of the test set is:............ 0.6606896551724138\n",
      "The cohen-kappa score of the test set is:............ 0.3964637525234629\n",
      "....................................................................................\n",
      "The accuracy score of the test set is:............ 0.8457478890229192\n",
      "The f1 score of the test set is:............ 0.47457627118644063\n",
      "The recall score of the test set is:............ 0.3640661938534279\n",
      "The precision score of the test set is:............ 0.6814159292035398\n",
      "The cohen-kappa score of the test set is:............ 0.3937907778415153\n",
      "....................................................................................\n",
      "The accuracy score of the test set is:............ 0.846351025331725\n",
      "The f1 score of the test set is:............ 0.4803671596124427\n",
      "The recall score of the test set is:............ 0.37115839243498816\n",
      "The precision score of the test set is:............ 0.680635838150289\n",
      "The cohen-kappa score of the test set is:............ 0.39923776715130577\n",
      "....................................................................................\n",
      "The accuracy score of the test set is:............ 0.8449939686369119\n",
      "The f1 score of the test set is:............ 0.4617801047120419\n",
      "The recall score of the test set is:............ 0.3475177304964539\n",
      "The precision score of the test set is:............ 0.6879875195007801\n",
      "The cohen-kappa score of the test set is:............ 0.3824697276205945\n",
      "....................................................................................\n",
      "The accuracy score of the test set is:............ 0.8445416164053076\n",
      "The f1 score of the test set is:............ 0.48164906988436407\n",
      "The recall score of the test set is:............ 0.37746256895193064\n",
      "The precision score of the test set is:............ 0.6652777777777777\n",
      "The cohen-kappa score of the test set is:............ 0.3982946381491643\n",
      "....................................................................................\n"
     ]
    }
   ],
   "source": [
    "for elem in y_pred_trn_test_list:\n",
    "    \n",
    "    print('The accuracy score of the test set is:............',accuracy_score(y_test, elem))\n",
    "\n",
    "    print('The f1 score of the test set is:............',f1_score(y_test, elem))\n",
    "\n",
    "    print('The recall score of the test set is:............',recall_score(y_test, elem))\n",
    "\n",
    "    print('The precision score of the test set is:............',precision_score(y_test, elem))\n",
    "\n",
    "    print('The cohen-kappa score of the test set is:............',cohen_kappa_score(y_test, elem))\n",
    "\n",
    "    print('....................................................................................')"
   ]
  },
  {
   "cell_type": "code",
   "execution_count": 62,
   "metadata": {},
   "outputs": [
    {
     "data": {
      "text/plain": [
       "<function sklearn.metrics._classification.precision_score(y_true, y_pred, *, labels=None, pos_label=1, average='binary', sample_weight=None, zero_division='warn')>"
      ]
     },
     "execution_count": 62,
     "metadata": {},
     "output_type": "execute_result"
    }
   ],
   "source": [
    "precision_score"
   ]
  },
  {
   "cell_type": "code",
   "execution_count": 63,
   "metadata": {},
   "outputs": [],
   "source": [
    "accuracy = []\n",
    "\n",
    "f1 = []\n",
    "\n",
    "recall = []\n",
    "\n",
    "precision = []\n",
    "\n",
    "cohen= []\n",
    "\n",
    "\n",
    "for elem in y_pred_trn_test_list:\n",
    "    #print('The accuracy score of the test set is:............',accuracy_score(y_test, elem))\n",
    "    accuracy.append(accuracy_score(y_test, elem))\n",
    "    #print('The f1 score of the test set is:............',f1_score(y_test, elem))\n",
    "    f1.append(f1_score(y_test, elem))\n",
    "    #print('The recall score of the test set is:............',recall_score(y_test, elem))\n",
    "    recall.append(recall_score(y_test, elem))\n",
    "    #print('The precision score of the test set is:............',precision_score(y_test, elem))\n",
    "    precision.append(precision_score(y_test, elem))\n",
    "    #print('The cohen-kappa score of the test set is:............',cohen_kappa_score(y_test, elem))\n",
    "    cohen.append(cohen_kappa_score(y_test, elem))\n",
    "    #print('....................................................................................')\n",
    "    "
   ]
  },
  {
   "cell_type": "markdown",
   "metadata": {},
   "source": [
    "----"
   ]
  },
  {
   "cell_type": "markdown",
   "metadata": {},
   "source": [
    "# **KNN + GridSearchCV**"
   ]
  },
  {
   "cell_type": "markdown",
   "metadata": {},
   "source": [
    "Not scalated"
   ]
  },
  {
   "cell_type": "code",
   "execution_count": 64,
   "metadata": {},
   "outputs": [
    {
     "data": {
      "text/plain": [
       "GridSearchCV(cv=10, estimator=KNeighborsClassifier(),\n",
       "             param_grid={'n_neighbors': [1, 2, 3, 4, 5, 6, 7, 8, 9, 10, 11, 12,\n",
       "                                         13, 14, 15, 16, 17, 18, 19],\n",
       "                         'weights': ['uniform', 'distance']})"
      ]
     },
     "execution_count": 64,
     "metadata": {},
     "output_type": "execute_result"
    }
   ],
   "source": [
    "from sklearn.model_selection import GridSearchCV\n",
    "\n",
    "clf = GridSearchCV(KNeighborsClassifier(),{'n_neighbors':list(range(1,20)),'weights':['uniform','distance']},cv=10)\n",
    "\n",
    "clf.fit(X,y)"
   ]
  },
  {
   "cell_type": "code",
   "execution_count": 65,
   "metadata": {},
   "outputs": [
    {
     "name": "stdout",
     "output_type": "stream",
     "text": [
      "With KNN + GSCV the accuracy will be: 0.785226835653998 with best params of: {'n_neighbors': 18, 'weights': 'uniform'}\n"
     ]
    }
   ],
   "source": [
    "print('With KNN + GSCV the accuracy will be:',clf.best_score_,'with best params of:',clf.best_params_,)"
   ]
  },
  {
   "cell_type": "markdown",
   "metadata": {},
   "source": [
    "---"
   ]
  },
  {
   "cell_type": "markdown",
   "metadata": {},
   "source": [
    "## **KNN + GridSearchCV + RobustScaler**"
   ]
  },
  {
   "cell_type": "code",
   "execution_count": 66,
   "metadata": {},
   "outputs": [],
   "source": [
    "robus.fit(X_train)\n",
    "\n",
    "X_train_robus = robus.transform(X_train)\n",
    "X_test_robus = robus.transform(X_test)\n",
    "\n",
    "X_train_robus = pd.DataFrame(X_train_robus,columns=X.columns)\n",
    "X_test_robus  = pd.DataFrame(X_test_robus ,columns=X.columns)"
   ]
  },
  {
   "cell_type": "code",
   "execution_count": 67,
   "metadata": {},
   "outputs": [
    {
     "data": {
      "text/plain": [
       "GridSearchCV(cv=10, estimator=KNeighborsClassifier(),\n",
       "             param_grid={'n_neighbors': [1, 2, 3, 4, 5, 6, 7, 8, 9, 10, 11, 12,\n",
       "                                         13, 14, 15, 16, 17, 18, 19],\n",
       "                         'weights': ['uniform', 'distance']},\n",
       "             scoring='recall')"
      ]
     },
     "execution_count": 67,
     "metadata": {},
     "output_type": "execute_result"
    }
   ],
   "source": [
    "clf2 = GridSearchCV(KNeighborsClassifier(),{'n_neighbors':list(range(1,20)),'weights':['uniform','distance']},cv=10,scoring='recall')\n",
    "\n",
    "clf2.fit(X_train_robus,y_train)"
   ]
  },
  {
   "cell_type": "code",
   "execution_count": 68,
   "metadata": {},
   "outputs": [
    {
     "name": "stdout",
     "output_type": "stream",
     "text": [
      "With KNN + GSCV the accuracy will be: 0.5375763747454174 with best params of: {'n_neighbors': 1, 'weights': 'uniform'}\n"
     ]
    }
   ],
   "source": [
    "print('With KNN + GSCV the accuracy will be:',clf2.best_score_,'with best params of:',clf2.best_params_)"
   ]
  },
  {
   "cell_type": "code",
   "execution_count": 119,
   "metadata": {},
   "outputs": [
    {
     "data": {
      "text/plain": [
       "<sklearn.metrics._plot.confusion_matrix.ConfusionMatrixDisplay at 0x1ea0d7fddf0>"
      ]
     },
     "execution_count": 119,
     "metadata": {},
     "output_type": "execute_result"
    },
    {
     "data": {
      "image/png": "[encoded data removed]",
      "text/plain": [
       "<Figure size 432x288 with 2 Axes>"
      ]
     },
     "metadata": {
      "needs_background": "light"
     },
     "output_type": "display_data"
    }
   ],
   "source": [
    "plot_confusion_matrix(clf2,X_train_robus,y_train)       "
   ]
  },
  {
   "cell_type": "code",
   "execution_count": 69,
   "metadata": {},
   "outputs": [
    {
     "data": {
      "text/plain": [
       "<sklearn.metrics._plot.confusion_matrix.ConfusionMatrixDisplay at 0x1ea0f078790>"
      ]
     },
     "execution_count": 69,
     "metadata": {},
     "output_type": "execute_result"
    },
    {
     "data": {
      "image/png": "[encoded data removed]",
      "text/plain": [
       "<Figure size 432x288 with 2 Axes>"
      ]
     },
     "metadata": {
      "needs_background": "light"
     },
     "output_type": "display_data"
    }
   ],
   "source": [
    "plot_confusion_matrix(clf2,X_test_robus,y_test)"
   ]
  },
  {
   "cell_type": "code",
   "execution_count": 70,
   "metadata": {},
   "outputs": [
    {
     "data": {
      "text/plain": [
       "<sklearn.metrics._plot.confusion_matrix.ConfusionMatrixDisplay at 0x1ea0f044340>"
      ]
     },
     "execution_count": 70,
     "metadata": {},
     "output_type": "execute_result"
    },
    {
     "data": {
      "image/png": "[encoded data removed]",
      "text/plain": [
       "<Figure size 432x288 with 2 Axes>"
      ]
     },
     "metadata": {
      "needs_background": "light"
     },
     "output_type": "display_data"
    }
   ],
   "source": [
    "plot_confusion_matrix(clf2,X_test_robus,y_test,normalize='true')"
   ]
  },
  {
   "cell_type": "code",
   "execution_count": 71,
   "metadata": {},
   "outputs": [
    {
     "name": "stdout",
     "output_type": "stream",
     "text": [
      "              precision    recall  f1-score   support\n",
      "\n",
      "           0       0.90      0.90      0.90      5363\n",
      "           1       0.57      0.57      0.57      1269\n",
      "\n",
      "    accuracy                           0.84      6632\n",
      "   macro avg       0.74      0.73      0.73      6632\n",
      "weighted avg       0.84      0.84      0.84      6632\n",
      "\n"
     ]
    }
   ],
   "source": [
    "print(classification_report(y_test, clf2.predict(X_test_robus))) "
   ]
  },
  {
   "cell_type": "code",
   "execution_count": 72,
   "metadata": {},
   "outputs": [
    {
     "data": {
      "text/plain": [
       "0.4699159411557122"
      ]
     },
     "execution_count": 72,
     "metadata": {},
     "output_type": "execute_result"
    }
   ],
   "source": [
    "cohen_kappa_score(y_test, clf2.predict(X_test_robus))"
   ]
  },
  {
   "cell_type": "code",
   "execution_count": 73,
   "metadata": {},
   "outputs": [
    {
     "data": {
      "text/plain": [
       "0.8365500603136309"
      ]
     },
     "execution_count": 73,
     "metadata": {},
     "output_type": "execute_result"
    }
   ],
   "source": [
    "accuracy_score(y_test, clf2.predict(X_test_robus))"
   ]
  },
  {
   "cell_type": "markdown",
   "metadata": {},
   "source": [
    "---"
   ]
  },
  {
   "cell_type": "markdown",
   "metadata": {},
   "source": [
    "# **Oversampling** vs **Undersampling**"
   ]
  },
  {
   "cell_type": "code",
   "execution_count": 74,
   "metadata": {},
   "outputs": [],
   "source": [
    "from imblearn.over_sampling import SMOTE\n",
    "from imblearn.under_sampling import TomekLinks,RandomUnderSampler"
   ]
  },
  {
   "cell_type": "code",
   "execution_count": 75,
   "metadata": {},
   "outputs": [],
   "source": [
    "from sklearn.model_selection import train_test_split\n",
    "\n",
    "X_train, X_test, y_train, y_test = train_test_split(X, y, test_size=0.2, random_state=17,stratify=y)"
   ]
  },
  {
   "cell_type": "markdown",
   "metadata": {},
   "source": [
    "## **TomekLinks**"
   ]
  },
  {
   "cell_type": "markdown",
   "metadata": {},
   "source": [
    "### StandardScaler"
   ]
  },
  {
   "cell_type": "code",
   "execution_count": 76,
   "metadata": {},
   "outputs": [],
   "source": [
    "tl = TomekLinks()\n",
    "\n",
    "stan = StandardScaler()\n",
    "\n",
    "\n",
    "stan.fit(X_train)\n",
    "\n",
    "X_train_scaled = stan.transform(X_train)\n",
    "\n",
    "X_test_scaled = stan.transform(X_test)\n",
    "\n",
    "\n",
    "\n",
    "#Fitting tomelinks onto the dataset\n",
    "X_train_tl, y_train_tl = tl.fit_resample(X_train_scaled, y_train)\n"
   ]
  },
  {
   "cell_type": "code",
   "execution_count": 77,
   "metadata": {},
   "outputs": [
    {
     "name": "stdout",
     "output_type": "stream",
     "text": [
      "26524\n",
      "25584\n"
     ]
    }
   ],
   "source": [
    "print(len(X_train))\n",
    "\n",
    "print(len(X_train_tl))  #-----------It's reducing the train sample in 1000 rows aprox"
   ]
  },
  {
   "cell_type": "markdown",
   "metadata": {},
   "source": [
    "### RobustScaler"
   ]
  },
  {
   "cell_type": "code",
   "execution_count": 78,
   "metadata": {},
   "outputs": [],
   "source": [
    "robus = RobustScaler()\n",
    "\n",
    "robus.fit(X_train)\n",
    "\n",
    "X_train_scaled_robus = robus.transform(X_train)\n",
    "\n",
    "X_test_scaled_robus = robus.transform(X_test)"
   ]
  },
  {
   "cell_type": "code",
   "execution_count": 79,
   "metadata": {},
   "outputs": [],
   "source": [
    "X_train_tl_robus, y_train_tl_robus = tl.fit_resample(X_train_scaled_robus, y_train)"
   ]
  },
  {
   "cell_type": "markdown",
   "metadata": {},
   "source": [
    "---"
   ]
  },
  {
   "cell_type": "markdown",
   "metadata": {},
   "source": [
    "## **RandomUnderSampler** (Undersampling)"
   ]
  },
  {
   "cell_type": "markdown",
   "metadata": {},
   "source": [
    "### **LogisticRegression**"
   ]
  },
  {
   "cell_type": "markdown",
   "metadata": {},
   "source": [
    "#### StandardScaler"
   ]
  },
  {
   "cell_type": "code",
   "execution_count": 80,
   "metadata": {},
   "outputs": [],
   "source": [
    "r_undersample = RandomUnderSampler()\n",
    "X_train_ran, y_train_ran = r_undersample.fit_resample(X_train_tl, y_train_tl)"
   ]
  },
  {
   "cell_type": "markdown",
   "metadata": {},
   "source": [
    "**Train**"
   ]
  },
  {
   "cell_type": "code",
   "execution_count": 81,
   "metadata": {},
   "outputs": [
    {
     "data": {
      "text/plain": [
       "<sklearn.metrics._plot.confusion_matrix.ConfusionMatrixDisplay at 0x1ea0d0a0e20>"
      ]
     },
     "execution_count": 81,
     "metadata": {},
     "output_type": "execute_result"
    },
    {
     "data": {
      "image/png": "[encoded data removed]",
      "text/plain": [
       "<Figure size 432x288 with 2 Axes>"
      ]
     },
     "metadata": {
      "needs_background": "light"
     },
     "output_type": "display_data"
    }
   ],
   "source": [
    "from sklearn.linear_model import LogisticRegression\n",
    "\n",
    "log = LogisticRegression()\n",
    "\n",
    "log.fit(X_train_ran,y_train_ran)\n",
    "\n",
    "plot_confusion_matrix(log,X_train_ran,y_train_ran)"
   ]
  },
  {
   "cell_type": "markdown",
   "metadata": {},
   "source": [
    "**Test**"
   ]
  },
  {
   "cell_type": "code",
   "execution_count": 82,
   "metadata": {},
   "outputs": [
    {
     "data": {
      "text/plain": [
       "<sklearn.metrics._plot.confusion_matrix.ConfusionMatrixDisplay at 0x1ea0d528dc0>"
      ]
     },
     "execution_count": 82,
     "metadata": {},
     "output_type": "execute_result"
    },
    {
     "data": {
      "image/png": "[encoded data removed]",
      "text/plain": [
       "<Figure size 432x288 with 2 Axes>"
      ]
     },
     "metadata": {
      "needs_background": "light"
     },
     "output_type": "display_data"
    }
   ],
   "source": [
    "from sklearn.metrics import classification_report\n",
    "plot_confusion_matrix(log,X_test_scaled,y_test)\n"
   ]
  },
  {
   "cell_type": "code",
   "execution_count": 83,
   "metadata": {},
   "outputs": [
    {
     "data": {
      "text/plain": [
       "0.32703349618766153"
      ]
     },
     "execution_count": 83,
     "metadata": {},
     "output_type": "execute_result"
    }
   ],
   "source": [
    "cohen_kappa_score(y_test, log.predict(X_test_scaled))"
   ]
  },
  {
   "cell_type": "code",
   "execution_count": 84,
   "metadata": {},
   "outputs": [
    {
     "name": "stdout",
     "output_type": "stream",
     "text": [
      "              precision    recall  f1-score   support\n",
      "\n",
      "           0       0.92      0.72      0.81      5396\n",
      "           1       0.37      0.73      0.49      1236\n",
      "\n",
      "    accuracy                           0.72      6632\n",
      "   macro avg       0.65      0.72      0.65      6632\n",
      "weighted avg       0.82      0.72      0.75      6632\n",
      "\n"
     ]
    }
   ],
   "source": [
    "# recall score : tp / tp+fn\n",
    "# precision score : tp / tp+fp\n",
    "print(classification_report(y_test, log.predict(X_test_scaled)))"
   ]
  },
  {
   "cell_type": "markdown",
   "metadata": {},
   "source": [
    "---"
   ]
  },
  {
   "cell_type": "markdown",
   "metadata": {},
   "source": [
    "#### RobustScaler"
   ]
  },
  {
   "cell_type": "code",
   "execution_count": 85,
   "metadata": {},
   "outputs": [],
   "source": [
    "r_undersample = RandomUnderSampler()\n",
    "X_train_ran_robus, y_train_ran_robus = r_undersample.fit_resample(X_train_tl_robus, y_train_tl_robus)"
   ]
  },
  {
   "cell_type": "markdown",
   "metadata": {},
   "source": [
    "**Test**"
   ]
  },
  {
   "cell_type": "code",
   "execution_count": 86,
   "metadata": {},
   "outputs": [
    {
     "data": {
      "text/plain": [
       "<sklearn.metrics._plot.confusion_matrix.ConfusionMatrixDisplay at 0x1ea0d96e820>"
      ]
     },
     "execution_count": 86,
     "metadata": {},
     "output_type": "execute_result"
    },
    {
     "data": {
      "image/png": "[encoded data removed]",
      "text/plain": [
       "<Figure size 432x288 with 2 Axes>"
      ]
     },
     "metadata": {
      "needs_background": "light"
     },
     "output_type": "display_data"
    }
   ],
   "source": [
    "from sklearn.linear_model import LogisticRegression\n",
    "\n",
    "log = LogisticRegression()\n",
    "\n",
    "log.fit(X_train_ran_robus,y_train_ran_robus)\n",
    "\n",
    "plot_confusion_matrix(log,X_train_ran_robus,y_train_ran_robus)"
   ]
  },
  {
   "cell_type": "markdown",
   "metadata": {},
   "source": [
    "**Test**"
   ]
  },
  {
   "cell_type": "code",
   "execution_count": 87,
   "metadata": {},
   "outputs": [
    {
     "data": {
      "text/plain": [
       "<sklearn.metrics._plot.confusion_matrix.ConfusionMatrixDisplay at 0x1ea0d570880>"
      ]
     },
     "execution_count": 87,
     "metadata": {},
     "output_type": "execute_result"
    },
    {
     "data": {
      "image/png": "[encoded data removed]",
      "text/plain": [
       "<Figure size 432x288 with 2 Axes>"
      ]
     },
     "metadata": {
      "needs_background": "light"
     },
     "output_type": "display_data"
    }
   ],
   "source": [
    "plot_confusion_matrix(log,X_test_scaled_robus,y_test)"
   ]
  },
  {
   "cell_type": "code",
   "execution_count": 88,
   "metadata": {},
   "outputs": [
    {
     "data": {
      "text/plain": [
       "0.3272140667421115"
      ]
     },
     "execution_count": 88,
     "metadata": {},
     "output_type": "execute_result"
    }
   ],
   "source": [
    "cohen_kappa_score(y_test, log.predict(X_test_scaled_robus))"
   ]
  },
  {
   "cell_type": "code",
   "execution_count": 89,
   "metadata": {},
   "outputs": [
    {
     "name": "stdout",
     "output_type": "stream",
     "text": [
      "              precision    recall  f1-score   support\n",
      "\n",
      "           0       0.92      0.72      0.81      5396\n",
      "           1       0.37      0.72      0.49      1236\n",
      "\n",
      "    accuracy                           0.72      6632\n",
      "   macro avg       0.65      0.72      0.65      6632\n",
      "weighted avg       0.82      0.72      0.75      6632\n",
      "\n"
     ]
    }
   ],
   "source": [
    "print(classification_report(y_test, log.predict(X_test_scaled_robus)))"
   ]
  },
  {
   "cell_type": "markdown",
   "metadata": {},
   "source": [
    "---"
   ]
  },
  {
   "cell_type": "markdown",
   "metadata": {},
   "source": [
    "### **KNN Neighbors + Robust Scaler**"
   ]
  },
  {
   "cell_type": "code",
   "execution_count": 90,
   "metadata": {},
   "outputs": [],
   "source": [
    "r_undersample = RandomUnderSampler()\n",
    "X_train_ran_robus, y_train_ran_robus = r_undersample.fit_resample(X_train_tl_robus, y_train_tl_robus)"
   ]
  },
  {
   "cell_type": "code",
   "execution_count": 91,
   "metadata": {},
   "outputs": [],
   "source": [
    "from sklearn.neighbors import KNeighborsClassifier"
   ]
  },
  {
   "cell_type": "markdown",
   "metadata": {},
   "source": [
    "**Train**"
   ]
  },
  {
   "cell_type": "code",
   "execution_count": 92,
   "metadata": {},
   "outputs": [
    {
     "data": {
      "text/plain": [
       "<sklearn.metrics._plot.confusion_matrix.ConfusionMatrixDisplay at 0x1ea0d715580>"
      ]
     },
     "execution_count": 92,
     "metadata": {},
     "output_type": "execute_result"
    },
    {
     "data": {
      "image/png": "[encoded data removed]",
      "text/plain": [
       "<Figure size 432x288 with 2 Axes>"
      ]
     },
     "metadata": {
      "needs_background": "light"
     },
     "output_type": "display_data"
    }
   ],
   "source": [
    "neigh = KNeighborsClassifier(n_neighbors = 3)\n",
    "\n",
    "neigh.fit(X_train_ran_robus, y_train_ran_robus)\n",
    "\n",
    "plot_confusion_matrix(neigh,X_train_ran_robus,y_train_ran_robus,normalize='true')"
   ]
  },
  {
   "cell_type": "markdown",
   "metadata": {},
   "source": [
    "**Test**"
   ]
  },
  {
   "cell_type": "code",
   "execution_count": 93,
   "metadata": {},
   "outputs": [
    {
     "data": {
      "text/plain": [
       "<sklearn.metrics._plot.confusion_matrix.ConfusionMatrixDisplay at 0x1ea0d5b9cd0>"
      ]
     },
     "execution_count": 93,
     "metadata": {},
     "output_type": "execute_result"
    },
    {
     "data": {
      "image/png": "[encoded data removed]",
      "text/plain": [
       "<Figure size 432x288 with 2 Axes>"
      ]
     },
     "metadata": {
      "needs_background": "light"
     },
     "output_type": "display_data"
    }
   ],
   "source": [
    "from sklearn.metrics import classification_report\n",
    "plot_confusion_matrix(neigh,X_test_scaled_robus,y_test)\n"
   ]
  },
  {
   "cell_type": "code",
   "execution_count": 94,
   "metadata": {},
   "outputs": [
    {
     "name": "stdout",
     "output_type": "stream",
     "text": [
      "              precision    recall  f1-score   support\n",
      "\n",
      "           0       0.92      0.74      0.82      5396\n",
      "           1       0.39      0.74      0.51      1236\n",
      "\n",
      "    accuracy                           0.74      6632\n",
      "   macro avg       0.66      0.74      0.67      6632\n",
      "weighted avg       0.83      0.74      0.76      6632\n",
      "\n"
     ]
    }
   ],
   "source": [
    "print(classification_report(y_test, neigh.predict(X_test_scaled_robus))) "
   ]
  },
  {
   "cell_type": "code",
   "execution_count": 95,
   "metadata": {},
   "outputs": [
    {
     "data": {
      "text/plain": [
       "0.3545036835531279"
      ]
     },
     "execution_count": 95,
     "metadata": {},
     "output_type": "execute_result"
    }
   ],
   "source": [
    "cohen_kappa_score(y_test, neigh.predict(X_test_scaled_robus)) "
   ]
  },
  {
   "cell_type": "markdown",
   "metadata": {},
   "source": [
    "---"
   ]
  },
  {
   "cell_type": "markdown",
   "metadata": {},
   "source": [
    "### **GradientBoostingClassifier + RobustScaler**"
   ]
  },
  {
   "cell_type": "code",
   "execution_count": 96,
   "metadata": {},
   "outputs": [],
   "source": [
    "from sklearn.ensemble import GradientBoostingClassifier"
   ]
  },
  {
   "cell_type": "code",
   "execution_count": 97,
   "metadata": {},
   "outputs": [
    {
     "data": {
      "text/plain": [
       "0.7303980699638118"
      ]
     },
     "execution_count": 97,
     "metadata": {},
     "output_type": "execute_result"
    }
   ],
   "source": [
    "clf = GradientBoostingClassifier(n_estimators=100, learning_rate=1.0,\n",
    "     max_depth=1, random_state=0).fit(X_train_ran_robus, y_train_ran_robus)\n",
    "\n",
    "clf.score(X_test_scaled_robus, y_test)"
   ]
  },
  {
   "cell_type": "code",
   "execution_count": 98,
   "metadata": {},
   "outputs": [
    {
     "data": {
      "text/plain": [
       "<sklearn.metrics._plot.confusion_matrix.ConfusionMatrixDisplay at 0x1ea0d6fb6d0>"
      ]
     },
     "execution_count": 98,
     "metadata": {},
     "output_type": "execute_result"
    },
    {
     "data": {
      "image/png": "[encoded data removed]",
      "text/plain": [
       "<Figure size 432x288 with 2 Axes>"
      ]
     },
     "metadata": {
      "needs_background": "light"
     },
     "output_type": "display_data"
    }
   ],
   "source": [
    "plot_confusion_matrix(clf,X_test_scaled_robus,y_test)"
   ]
  },
  {
   "cell_type": "code",
   "execution_count": 99,
   "metadata": {},
   "outputs": [
    {
     "name": "stdout",
     "output_type": "stream",
     "text": [
      "              precision    recall  f1-score   support\n",
      "\n",
      "           0       0.92      0.73      0.81      5396\n",
      "           1       0.38      0.74      0.50      1236\n",
      "\n",
      "    accuracy                           0.73      6632\n",
      "   macro avg       0.65      0.73      0.66      6632\n",
      "weighted avg       0.82      0.73      0.76      6632\n",
      "\n"
     ]
    }
   ],
   "source": [
    "print(classification_report(y_test, clf.predict(X_test_scaled_robus)))"
   ]
  },
  {
   "cell_type": "code",
   "execution_count": 100,
   "metadata": {},
   "outputs": [
    {
     "data": {
      "text/plain": [
       "0.3438819648677983"
      ]
     },
     "execution_count": 100,
     "metadata": {},
     "output_type": "execute_result"
    }
   ],
   "source": [
    "cohen_kappa_score(y_test, clf.predict(X_test_scaled_robus))"
   ]
  },
  {
   "cell_type": "markdown",
   "metadata": {},
   "source": [
    "---"
   ]
  },
  {
   "cell_type": "markdown",
   "metadata": {},
   "source": [
    "### **KNN + GridSearchCV + RobustScaler**"
   ]
  },
  {
   "cell_type": "code",
   "execution_count": 101,
   "metadata": {},
   "outputs": [],
   "source": [
    "from sklearn.model_selection import GridSearchCV"
   ]
  },
  {
   "cell_type": "code",
   "execution_count": 102,
   "metadata": {},
   "outputs": [
    {
     "data": {
      "text/plain": [
       "GridSearchCV(cv=10, estimator=KNeighborsClassifier(),\n",
       "             param_grid={'n_neighbors': [1, 2, 3, 4, 5, 6, 7, 8, 9, 10, 11, 12,\n",
       "                                         13, 14, 15, 16, 17, 18, 19],\n",
       "                         'weights': ['uniform', 'distance']},\n",
       "             scoring='recall')"
      ]
     },
     "execution_count": 102,
     "metadata": {},
     "output_type": "execute_result"
    }
   ],
   "source": [
    "clf3 = GridSearchCV(KNeighborsClassifier(),{'n_neighbors':list(range(1,20)),'weights':['uniform','distance']},cv=10,scoring='recall')\n",
    "\n",
    "clf3.fit(X_train_ran_robus,y_train_ran_robus)"
   ]
  },
  {
   "cell_type": "code",
   "execution_count": 103,
   "metadata": {},
   "outputs": [
    {
     "data": {
      "text/plain": [
       "0.7917887375782112"
      ]
     },
     "execution_count": 103,
     "metadata": {},
     "output_type": "execute_result"
    }
   ],
   "source": [
    "clf3.best_score_"
   ]
  },
  {
   "cell_type": "code",
   "execution_count": 118,
   "metadata": {},
   "outputs": [
    {
     "data": {
      "text/plain": [
       "<sklearn.metrics._plot.confusion_matrix.ConfusionMatrixDisplay at 0x1ea0f0e5fd0>"
      ]
     },
     "execution_count": 118,
     "metadata": {},
     "output_type": "execute_result"
    },
    {
     "data": {
      "image/png": "[encoded data removed]",
      "text/plain": [
       "<Figure size 432x288 with 2 Axes>"
      ]
     },
     "metadata": {
      "needs_background": "light"
     },
     "output_type": "display_data"
    }
   ],
   "source": [
    "plot_confusion_matrix(clf3,X_train_ran_robus,y_train_ran_robus)             "
   ]
  },
  {
   "cell_type": "code",
   "execution_count": 104,
   "metadata": {},
   "outputs": [
    {
     "data": {
      "text/plain": [
       "<sklearn.metrics._plot.confusion_matrix.ConfusionMatrixDisplay at 0x1ea0d6e8700>"
      ]
     },
     "execution_count": 104,
     "metadata": {},
     "output_type": "execute_result"
    },
    {
     "data": {
      "image/png": "[encoded data removed]",
      "text/plain": [
       "<Figure size 432x288 with 2 Axes>"
      ]
     },
     "metadata": {
      "needs_background": "light"
     },
     "output_type": "display_data"
    }
   ],
   "source": [
    "plot_confusion_matrix(clf3,X_test_scaled_robus,y_test)               #-------best confusion matrix"
   ]
  },
  {
   "cell_type": "code",
   "execution_count": 105,
   "metadata": {},
   "outputs": [
    {
     "data": {
      "text/plain": [
       "<sklearn.metrics._plot.confusion_matrix.ConfusionMatrixDisplay at 0x1ea0efe8820>"
      ]
     },
     "execution_count": 105,
     "metadata": {},
     "output_type": "execute_result"
    },
    {
     "data": {
      "image/png": "[encoded data removed]",
      "text/plain": [
       "<Figure size 432x288 with 2 Axes>"
      ]
     },
     "metadata": {
      "needs_background": "light"
     },
     "output_type": "display_data"
    }
   ],
   "source": [
    "plot_confusion_matrix(clf3,X_test_scaled_robus,y_test,normalize='true')"
   ]
  },
  {
   "cell_type": "code",
   "execution_count": 106,
   "metadata": {},
   "outputs": [
    {
     "name": "stdout",
     "output_type": "stream",
     "text": [
      "              precision    recall  f1-score   support\n",
      "\n",
      "           0       0.94      0.75      0.83      5396\n",
      "           1       0.42      0.77      0.54      1236\n",
      "\n",
      "    accuracy                           0.76      6632\n",
      "   macro avg       0.68      0.76      0.69      6632\n",
      "weighted avg       0.84      0.76      0.78      6632\n",
      "\n"
     ]
    }
   ],
   "source": [
    "print(classification_report(y_test, clf3.predict(X_test_scaled_robus)))        #-------best recall predicting 1"
   ]
  },
  {
   "cell_type": "code",
   "execution_count": 107,
   "metadata": {},
   "outputs": [
    {
     "data": {
      "text/plain": [
       "0.394020031651666"
      ]
     },
     "execution_count": 107,
     "metadata": {},
     "output_type": "execute_result"
    }
   ],
   "source": [
    "cohen_kappa_score(y_test, clf3.predict(X_test_scaled_robus))      #--------best cohen_kappa_score"
   ]
  },
  {
   "cell_type": "markdown",
   "metadata": {},
   "source": [
    "---"
   ]
  },
  {
   "cell_type": "markdown",
   "metadata": {},
   "source": [
    "---"
   ]
  },
  {
   "cell_type": "code",
   "execution_count": null,
   "metadata": {},
   "outputs": [],
   "source": []
  },
  {
   "cell_type": "markdown",
   "metadata": {},
   "source": [
    "## **SMOTE** (oversampling)"
   ]
  },
  {
   "cell_type": "code",
   "execution_count": 108,
   "metadata": {},
   "outputs": [],
   "source": [
    "smote = SMOTE(random_state=123)\n",
    "X_train_sm, y_train_sm = smote.fit_resample(X_train_tl, y_train_tl)"
   ]
  },
  {
   "cell_type": "markdown",
   "metadata": {},
   "source": [
    "### LogisticRegression"
   ]
  },
  {
   "cell_type": "code",
   "execution_count": 109,
   "metadata": {},
   "outputs": [
    {
     "data": {
      "text/plain": [
       "<sklearn.metrics._plot.confusion_matrix.ConfusionMatrixDisplay at 0x1ea0dc4a400>"
      ]
     },
     "execution_count": 109,
     "metadata": {},
     "output_type": "execute_result"
    },
    {
     "data": {
      "image/png": "[encoded data removed]",
      "text/plain": [
       "<Figure size 432x288 with 2 Axes>"
      ]
     },
     "metadata": {
      "needs_background": "light"
     },
     "output_type": "display_data"
    }
   ],
   "source": [
    "from sklearn.linear_model import LogisticRegression\n",
    "\n",
    "log2 = LogisticRegression()\n",
    "\n",
    "log2.fit(X_train_sm,y_train_sm)\n",
    "\n",
    "plot_confusion_matrix(log2,X_train_sm,y_train_sm)"
   ]
  },
  {
   "cell_type": "code",
   "execution_count": 110,
   "metadata": {},
   "outputs": [
    {
     "data": {
      "text/plain": [
       "<sklearn.metrics._plot.confusion_matrix.ConfusionMatrixDisplay at 0x1ea0d65b400>"
      ]
     },
     "execution_count": 110,
     "metadata": {},
     "output_type": "execute_result"
    },
    {
     "data": {
      "image/png": "[encoded data removed]",
      "text/plain": [
       "<Figure size 432x288 with 2 Axes>"
      ]
     },
     "metadata": {
      "needs_background": "light"
     },
     "output_type": "display_data"
    }
   ],
   "source": [
    "plot_confusion_matrix(log2,X_test_scaled,y_test)"
   ]
  },
  {
   "cell_type": "markdown",
   "metadata": {},
   "source": [
    "---"
   ]
  },
  {
   "cell_type": "markdown",
   "metadata": {},
   "source": [
    "### Comparison"
   ]
  },
  {
   "cell_type": "code",
   "execution_count": 111,
   "metadata": {},
   "outputs": [
    {
     "name": "stdout",
     "output_type": "stream",
     "text": [
      "Undersampling\n",
      "Oversampling\n"
     ]
    },
    {
     "data": {
      "text/plain": [
       "<sklearn.metrics._plot.confusion_matrix.ConfusionMatrixDisplay at 0x1ea0d79cfa0>"
      ]
     },
     "execution_count": 111,
     "metadata": {},
     "output_type": "execute_result"
    },
    {
     "data": {
      "image/png": "[encoded data removed]",
      "text/plain": [
       "<Figure size 432x288 with 2 Axes>"
      ]
     },
     "metadata": {
      "needs_background": "light"
     },
     "output_type": "display_data"
    },
    {
     "data": {
      "image/png": "[encoded data removed]",
      "text/plain": [
       "<Figure size 432x288 with 2 Axes>"
      ]
     },
     "metadata": {
      "needs_background": "light"
     },
     "output_type": "display_data"
    }
   ],
   "source": [
    "print('Undersampling')        #---------------------------Mejor undersampling\n",
    "plot_confusion_matrix(log,X_test_scaled,y_test)\n",
    "\n",
    "print('Oversampling')\n",
    "plot_confusion_matrix(log2,X_test_scaled,y_test)\n"
   ]
  },
  {
   "cell_type": "code",
   "execution_count": 112,
   "metadata": {},
   "outputs": [
    {
     "data": {
      "text/plain": [
       "0.33090727834235933"
      ]
     },
     "execution_count": 112,
     "metadata": {},
     "output_type": "execute_result"
    }
   ],
   "source": [
    "cohen_kappa_score(y_test, log2.predict(X_test_scaled))"
   ]
  },
  {
   "cell_type": "markdown",
   "metadata": {},
   "source": [
    "---"
   ]
  },
  {
   "cell_type": "markdown",
   "metadata": {},
   "source": [
    "# **Feature importance**"
   ]
  },
  {
   "cell_type": "code",
   "execution_count": 113,
   "metadata": {},
   "outputs": [],
   "source": [
    "from matplotlib import pyplot"
   ]
  },
  {
   "cell_type": "code",
   "execution_count": 114,
   "metadata": {},
   "outputs": [],
   "source": [
    "X_test_scaled_robus = pd.DataFrame(X_test_scaled_robus,columns=X.columns)"
   ]
  },
  {
   "cell_type": "code",
   "execution_count": 116,
   "metadata": {},
   "outputs": [
    {
     "name": "stdout",
     "output_type": "stream",
     "text": [
      "Feature: 0, Score: 0.07104\n",
      "Feature: 1, Score: 0.05696\n",
      "Feature: 2, Score: 0.05971\n",
      "Feature: 3, Score: 0.01812\n",
      "Feature: 4, Score: 0.05372\n",
      "Feature: 5, Score: 0.02282\n",
      "Feature: 6, Score: 0.00647\n",
      "Feature: 7, Score: 0.01408\n",
      "Feature: 8, Score: 0.01327\n",
      "Feature: 9, Score: 0.00583\n",
      "Feature: 10, Score: 0.00178\n",
      "Feature: 11, Score: 0.00939\n",
      "Feature: 12, Score: 0.00291\n",
      "Feature: 13, Score: 0.00016\n",
      "Feature: 14, Score: 0.00129\n",
      "Feature: 15, Score: -0.00097\n",
      "Feature: 16, Score: 0.01165\n",
      "Feature: 17, Score: 0.00809\n",
      "Feature: 18, Score: 0.00971\n",
      "Feature: 19, Score: 0.01133\n",
      "Feature: 20, Score: 0.01117\n",
      "Feature: 21, Score: 0.00841\n",
      "Feature: 22, Score: 0.00680\n",
      "Feature: 23, Score: 0.00307\n",
      "Feature: 24, Score: 0.00518\n",
      "Feature: 25, Score: 0.00065\n",
      "Feature: 26, Score: 0.00922\n",
      "Feature: 27, Score: 0.02071\n",
      "Feature: 28, Score: 0.00178\n",
      "Feature: 29, Score: 0.00324\n",
      "Feature: 30, Score: 0.07282\n",
      "Feature: 31, Score: 0.00307\n",
      "Feature: 32, Score: 0.01812\n",
      "Feature: 33, Score: 0.01634\n"
     ]
    },
    {
     "data": {
      "image/png": "[encoded data removed]",
      "text/plain": [
       "<Figure size 432x288 with 1 Axes>"
      ]
     },
     "metadata": {
      "needs_background": "light"
     },
     "output_type": "display_data"
    }
   ],
   "source": [
    "from sklearn.inspection import permutation_importance\n",
    "\n",
    "\n",
    "results = permutation_importance(clf3,X_test_scaled_robus,y_test, scoring='recall')\n",
    "\n",
    "# get importance\n",
    "importance = results.importances_mean\n",
    "\n",
    "# summarize feature importance\n",
    "for i,v in enumerate(importance):\n",
    "    print('Feature: %0d, Score: %.5f' % (i,v))\n",
    "\n",
    "# plot feature importance\n",
    "pyplot.bar([x for x in range(len(importance))], importance)\n",
    "pyplot.show()\n",
    "\n",
    "#\n",
    "colnames = list(X_test_scaled_robus.columns)\n",
    "#0-> Colname_1\n",
    "\n",
    "ranking = [(abs(v),v,colnames[i]) for i,v in enumerate(importance)]\n",
    "ranking.sort(reverse = True)"
   ]
  },
  {
   "cell_type": "code",
   "execution_count": 117,
   "metadata": {},
   "outputs": [
    {
     "data": {
      "text/plain": [
       "[(0.07281553398058253, 0.07281553398058253, 'Channel_MICE'),\n",
       " (0.0710355987055016, 0.0710355987055016, 'Arrival month'),\n",
       " (0.05970873786407764, 0.05970873786407764, 'Lead time'),\n",
       " (0.05695792880258901, 0.05695792880258901, 'Length of the stay'),\n",
       " (0.053721682847896426, 0.053721682847896426, 'Non Refundable'),\n",
       " (0.022815533980582513, 0.022815533980582513, 'VIP'),\n",
       " (0.02071197411003236, 0.02071197411003236, 'Market channel_TTOO'),\n",
       " (0.018122977346278324, 0.018122977346278324, 'N of pax'),\n",
       " (0.018122977346278324, 0.018122977346278324, 'Channel_WEB'),\n",
       " (0.01634304207119739, 0.01634304207119739, 'Channel_XML'),\n",
       " (0.014077669902912615, 0.014077669902912615, 'Stay type_L-W-L'),\n",
       " (0.013268608414239469, 0.013268608414239469, 'Stay type_W-L'),\n",
       " (0.011650485436893199, 0.011650485436893199, 'Meal_RO'),\n",
       " (0.011326860841423935, 0.011326860841423935, 'Country_Spain'),\n",
       " (0.011165048543689294, 0.011165048543689294, 'Country_United Kingdom'),\n",
       " (0.009708737864077666, 0.009708737864077666, 'Country_Other'),\n",
       " (0.009385113268608403, 0.009385113268608403, 'Room type_Double Standard'),\n",
       " (0.009223300970873783, 0.009223300970873783, 'Market channel_OTA'),\n",
       " (0.008414239482200658, 0.008414239482200658, 'Country_United States'),\n",
       " (0.008090614886731396, 0.008090614886731396, 'Country_Germany'),\n",
       " (0.006796116504854366,\n",
       "  0.006796116504854366,\n",
       "  'Market channel_Direct / Walk-in'),\n",
       " (0.006472491909385103, 0.006472491909385103, 'Stay type_L-W'),\n",
       " (0.005825242718446577, 0.005825242718446577, 'Stay type_W-W'),\n",
       " (0.005177993527508096, 0.005177993527508096, 'Market channel_GDS'),\n",
       " (0.0032362459546925403, 0.0032362459546925403, 'Channel_GDS'),\n",
       " (0.00307443365695792, 0.00307443365695792, 'Market channel_Flash / Boxes'),\n",
       " (0.00307443365695792, 0.00307443365695792, 'Channel_Other'),\n",
       " (0.0029126213592232998,\n",
       "  0.0029126213592232998,\n",
       "  'Room type_Double Standard City View'),\n",
       " (0.0017799352750809349,\n",
       "  0.0017799352750809349,\n",
       "  'Room type_Double London Eye view'),\n",
       " (0.0017799352750809128,\n",
       "  0.0017799352750809128,\n",
       "  'Market channel_Travel agency'),\n",
       " (0.0012944983818770294, 0.0012944983818770294, 'Room type_Triple Standard'),\n",
       " (0.0009708737864077665, -0.0009708737864077665, 'Meal_HB'),\n",
       " (0.0006472491909385036,\n",
       "  0.0006472491909385036,\n",
       "  'Market channel_Hotel deal apps'),\n",
       " (0.00016181229773462035, 0.00016181229773462035, 'Room type_Junior Suite')]"
      ]
     },
     "execution_count": 117,
     "metadata": {},
     "output_type": "execute_result"
    }
   ],
   "source": [
    "ranking"
   ]
  },
  {
   "cell_type": "code",
   "execution_count": 120,
   "metadata": {},
   "outputs": [
    {
     "data": {
      "text/plain": [
       "[('Channel_MICE', 0.1300578034682082),\n",
       " ('Arrival month', 0.12687861271676307),\n",
       " ('Lead time', 0.10664739884393064),\n",
       " ('Length of the stay', 0.10173410404624285),\n",
       " ('Non Refundable', 0.09595375722543356),\n",
       " ('VIP', 0.04075144508670521),\n",
       " ('Market channel_TTOO', 0.03699421965317921),\n",
       " ('N of pax', 0.032369942196531824),\n",
       " ('Channel_WEB', 0.032369942196531824),\n",
       " ('Channel_XML', 0.029190751445086684),\n",
       " ('Stay type_L-W-L', 0.025144508670520236),\n",
       " ('Stay type_W-L', 0.023699421965317907),\n",
       " ('Meal_RO', 0.0208092485549133),\n",
       " ('Country_Spain', 0.02023121387283236),\n",
       " ('Country_United Kingdom', 0.01994219653179187),\n",
       " ('Country_Other', 0.017341040462427747),\n",
       " ('Room type_Double Standard', 0.016763005780346812),\n",
       " ('Market channel_OTA', 0.01647398843930636),\n",
       " ('Country_United States', 0.015028901734104075),\n",
       " ('Country_Germany', 0.014450867052023138),\n",
       " ('Market channel_Direct / Walk-in', 0.012138728323699425),\n",
       " ('Stay type_L-W', 0.011560693641618486),\n",
       " ('Stay type_W-W', 0.01040462427745661),\n",
       " ('Market channel_GDS', 0.009248554913294812),\n",
       " ('Channel_GDS', 0.005780346820809223),\n",
       " ('Market channel_Flash / Boxes', 0.005491329479768774),\n",
       " ('Channel_Other', 0.005491329479768774),\n",
       " ('Room type_Double Standard City View', 0.005202312138728325),\n",
       " ('Room type_Double London Eye view', 0.0031791907514451398),\n",
       " ('Market channel_Travel agency', 0.0031791907514451003),\n",
       " ('Room type_Triple Standard', 0.0023121387283237126),\n",
       " ('Meal_HB', 0.0017341040462427748),\n",
       " ('Market channel_Hotel deal apps', 0.0011560693641618366),\n",
       " ('Room type_Junior Suite', 0.0002890173410404492)]"
      ]
     },
     "execution_count": 120,
     "metadata": {},
     "output_type": "execute_result"
    }
   ],
   "source": [
    "total = 0\n",
    "\n",
    "for i in range(len(ranking)):\n",
    "    total += ranking[i][0]\n",
    "\n",
    "ranking2 = [ (elem[2],elem[0]/total) for elem in ranking]\n",
    "ranking2"
   ]
  },
  {
   "cell_type": "code",
   "execution_count": null,
   "metadata": {},
   "outputs": [],
   "source": []
  }
 ],
 "metadata": {
  "kernelspec": {
   "display_name": "Python 3",
   "language": "python",
   "name": "python3"
  },
  "toc": {
   "base_numbering": 1,
   "nav_menu": {},
   "number_sections": true,
   "sideBar": true,
   "skip_h1_title": false,
   "title_cell": "Table of Contents",
   "title_sidebar": "Contents",
   "toc_cell": false,
   "toc_position": {
    "height": "calc(100% - 180px)",
    "left": "10px",
    "top": "150px",
    "width": "307.2px"
   },
   "toc_section_display": true,
   "toc_window_display": true
  },
  "varInspector": {
   "cols": {
    "lenName": 16,
    "lenType": 16,
    "lenVar": 40
   },
   "kernels_config": {
    "python": {
     "delete_cmd_postfix": "",
     "delete_cmd_prefix": "del ",
     "library": "var_list.py",
     "varRefreshCmd": "print(var_dic_list())"
    },
    "r": {
     "delete_cmd_postfix": ") ",
     "delete_cmd_prefix": "rm(",
     "library": "var_list.r",
     "varRefreshCmd": "cat(var_dic_list()) "
    }
   },
   "types_to_exclude": [
    "module",
    "function",
    "builtin_function_or_method",
    "instance",
    "_Feature"
   ],
   "window_display": false
  }
 },
 "nbformat": 4,
 "nbformat_minor": 4
}
